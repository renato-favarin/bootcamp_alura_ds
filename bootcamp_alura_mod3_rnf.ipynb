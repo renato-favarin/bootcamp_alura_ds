{
  "nbformat": 4,
  "nbformat_minor": 0,
  "metadata": {
    "colab": {
      "name": "bootcamp_alura_mod3_rnf.ipynb",
      "provenance": [],
      "collapsed_sections": [],
      "toc_visible": true,
      "authorship_tag": "ABX9TyMZwGPQ6jMJg0kLBPiTaO0n",
      "include_colab_link": true
    },
    "kernelspec": {
      "name": "python3",
      "display_name": "Python 3"
    }
  },
  "cells": [
    {
      "cell_type": "markdown",
      "metadata": {
        "id": "view-in-github",
        "colab_type": "text"
      },
      "source": [
        "<a href=\"https://colab.research.google.com/github/renato-favarin/bootcamp_alura_ds/blob/main/bootcamp_alura_mod3_rnf.ipynb\" target=\"_parent\"><img src=\"https://colab.research.google.com/assets/colab-badge.svg\" alt=\"Open In Colab\"/></a>"
      ]
    },
    {
      "cell_type": "markdown",
      "metadata": {
        "id": "n2IZ8DA-1EOq"
      },
      "source": [
        "# Aula 01 - Educação, saúde e tipos de dados (1/2)"
      ]
    },
    {
      "cell_type": "code",
      "metadata": {
        "colab": {
          "base_uri": "https://localhost:8080/"
        },
        "id": "xzGy_-WL5NJZ",
        "outputId": "07f06d76-4ce6-4119-ee82-b43cd293c2dc"
      },
      "source": [
        "from google.colab import drive\r\n",
        "drive.mount('/content/drive')"
      ],
      "execution_count": null,
      "outputs": [
        {
          "output_type": "stream",
          "text": [
            "Mounted at /content/drive\n"
          ],
          "name": "stdout"
        }
      ]
    },
    {
      "cell_type": "code",
      "metadata": {
        "id": "SWMMKOYQprW4"
      },
      "source": [
        "import pandas as pd\r\n",
        "\r\n",
        "# como o arquivo é um zip com vários arquivos dentro, para acessá-los, uma das maneiras é com a biblioteca zipfile\r\n",
        "from zipfile import ZipFile\r\n",
        "\r\n",
        "caminho = '/content/drive/MyDrive/Ciência de Dados/Bootcamp da Alura/Modulo_3/PeNSE_2015_AMOSTRA2.zip'\r\n",
        "zip = ZipFile(caminho)"
      ],
      "execution_count": null,
      "outputs": []
    },
    {
      "cell_type": "code",
      "metadata": {
        "colab": {
          "base_uri": "https://localhost:8080/"
        },
        "id": "segHUSCPr_Tj",
        "outputId": "6252f1e5-b2fc-4397-e326-d252ffa1f057"
      },
      "source": [
        "# como informação, o zip é um objeto relativo ao arquivo do drive, de modo leitura\r\n",
        "zip"
      ],
      "execution_count": null,
      "outputs": [
        {
          "output_type": "execute_result",
          "data": {
            "text/plain": [
              "<zipfile.ZipFile filename='/content/drive/MyDrive/Ciência de Dados/Bootcamp da Alura/Modulo_3/PeNSE_2015_AMOSTRA2.zip' mode='r'>"
            ]
          },
          "metadata": {
            "tags": []
          },
          "execution_count": 3
        }
      ]
    },
    {
      "cell_type": "code",
      "metadata": {
        "colab": {
          "base_uri": "https://localhost:8080/"
        },
        "id": "m-Q3_cvVsIXZ",
        "outputId": "a833cfd3-96e4-4f0e-fbb8-022a9eff93ad"
      },
      "source": [
        "# para saber o que há no arquivo zip\r\n",
        "zip.infolist()"
      ],
      "execution_count": null,
      "outputs": [
        {
          "output_type": "execute_result",
          "data": {
            "text/plain": [
              "[<ZipInfo filename='arquivos csv/' external_attr=0x10>,\n",
              " <ZipInfo filename='arquivos csv/PENSE_AMOSTRA2_ALUNO.CSV' compress_type=deflate external_attr=0x20 file_size=7262170 compress_size=1235667>,\n",
              " <ZipInfo filename='arquivos csv/PENSE_AMOSTRA2_ALUNOESCOLA.CSV' compress_type=deflate external_attr=0x20 file_size=11420533 compress_size=1329882>,\n",
              " <ZipInfo filename='arquivos csv/PENSE_AMOSTRA2_ESCOLA.CSV' compress_type=deflate external_attr=0x20 file_size=5000642 compress_size=114324>,\n",
              " <ZipInfo filename='arquivos sas/' external_attr=0x10>,\n",
              " <ZipInfo filename='arquivos sas/pense_amostra2_aluno.sas7bdat' compress_type=deflate external_attr=0x20 file_size=24691712 compress_size=1957530>,\n",
              " <ZipInfo filename='arquivos sas/pense_amostra2_alunoescola.sas7bdat' compress_type=deflate external_attr=0x20 file_size=45253632 compress_size=2461932>,\n",
              " <ZipInfo filename='arquivos sas/pense_amostra2_escola.sas7bdat' compress_type=deflate external_attr=0x20 file_size=18105344 compress_size=332162>,\n",
              " <ZipInfo filename='arquivos xlsx/' external_attr=0x10>,\n",
              " <ZipInfo filename='arquivos xlsx/PENSE_AMOSTRA2_ALUNO.xlsx' compress_type=deflate external_attr=0x20 file_size=11757246 compress_size=11337133>,\n",
              " <ZipInfo filename='arquivos xlsx/PENSE_AMOSTRA2_ALUNOESCOLA.xlsx' compress_type=deflate external_attr=0x20 file_size=18732739 compress_size=17064325>,\n",
              " <ZipInfo filename='arquivos xlsx/PENSE_AMOSTRA2_ESCOLA.xlsx' compress_type=deflate external_attr=0x20 file_size=7159579 compress_size=3209953>,\n",
              " <ZipInfo filename='Dicionario_PENSE_Microdados_AMOSTRA2.xls' compress_type=deflate external_attr=0x20 file_size=144896 compress_size=35737>]"
            ]
          },
          "metadata": {
            "tags": []
          },
          "execution_count": 4
        }
      ]
    },
    {
      "cell_type": "code",
      "metadata": {
        "id": "n9xMlsiebkn2"
      },
      "source": [
        ""
      ],
      "execution_count": null,
      "outputs": []
    },
    {
      "cell_type": "code",
      "metadata": {
        "colab": {
          "base_uri": "https://localhost:8080/",
          "height": 294
        },
        "id": "2HfaBYihsaoR",
        "outputId": "39fcb81c-61d6-42e5-9668-f557a5e9d9f9"
      },
      "source": [
        "# outro método do ZipFile é o namelist()\r\n",
        "display(zip.namelist())\r\n",
        "\r\n",
        "print('\\n')\r\n",
        "\r\n",
        "# eu quero o arquivo csv que está na posição 1 da lista\r\n",
        "zip.namelist()[1]"
      ],
      "execution_count": null,
      "outputs": [
        {
          "output_type": "display_data",
          "data": {
            "text/plain": [
              "['arquivos csv/',\n",
              " 'arquivos csv/PENSE_AMOSTRA2_ALUNO.CSV',\n",
              " 'arquivos csv/PENSE_AMOSTRA2_ALUNOESCOLA.CSV',\n",
              " 'arquivos csv/PENSE_AMOSTRA2_ESCOLA.CSV',\n",
              " 'arquivos sas/',\n",
              " 'arquivos sas/pense_amostra2_aluno.sas7bdat',\n",
              " 'arquivos sas/pense_amostra2_alunoescola.sas7bdat',\n",
              " 'arquivos sas/pense_amostra2_escola.sas7bdat',\n",
              " 'arquivos xlsx/',\n",
              " 'arquivos xlsx/PENSE_AMOSTRA2_ALUNO.xlsx',\n",
              " 'arquivos xlsx/PENSE_AMOSTRA2_ALUNOESCOLA.xlsx',\n",
              " 'arquivos xlsx/PENSE_AMOSTRA2_ESCOLA.xlsx',\n",
              " 'Dicionario_PENSE_Microdados_AMOSTRA2.xls']"
            ]
          },
          "metadata": {
            "tags": []
          }
        },
        {
          "output_type": "stream",
          "text": [
            "\n",
            "\n"
          ],
          "name": "stdout"
        },
        {
          "output_type": "execute_result",
          "data": {
            "application/vnd.google.colaboratory.intrinsic+json": {
              "type": "string"
            },
            "text/plain": [
              "'arquivos csv/PENSE_AMOSTRA2_ALUNO.CSV'"
            ]
          },
          "metadata": {
            "tags": []
          },
          "execution_count": 5
        }
      ]
    },
    {
      "cell_type": "code",
      "metadata": {
        "colab": {
          "base_uri": "https://localhost:8080/",
          "height": 252
        },
        "id": "ggGtWLLYsvbZ",
        "outputId": "5ee6ba86-2207-4b1d-df65-fa35a16c046b"
      },
      "source": [
        "caminho_pasta_zipada = zip.namelist()[1]\r\n",
        "\r\n",
        "# preciso passar o caminho da pasta zipada no método open do arquivo zip criado lá atrás\r\n",
        "dados = pd.read_csv(zip.open(caminho_pasta_zipada), sep=';')\r\n",
        "dados.head()"
      ],
      "execution_count": null,
      "outputs": [
        {
          "output_type": "execute_result",
          "data": {
            "text/html": [
              "<div>\n",
              "<style scoped>\n",
              "    .dataframe tbody tr th:only-of-type {\n",
              "        vertical-align: middle;\n",
              "    }\n",
              "\n",
              "    .dataframe tbody tr th {\n",
              "        vertical-align: top;\n",
              "    }\n",
              "\n",
              "    .dataframe thead th {\n",
              "        text-align: right;\n",
              "    }\n",
              "</style>\n",
              "<table border=\"1\" class=\"dataframe\">\n",
              "  <thead>\n",
              "    <tr style=\"text-align: right;\">\n",
              "      <th></th>\n",
              "      <th>ANOPESQ</th>\n",
              "      <th>PAIS</th>\n",
              "      <th>REGEOGR</th>\n",
              "      <th>VB00004</th>\n",
              "      <th>VB01001</th>\n",
              "      <th>VB01002</th>\n",
              "      <th>VB01003</th>\n",
              "      <th>VB01004</th>\n",
              "      <th>VB01005</th>\n",
              "      <th>VB01006</th>\n",
              "      <th>VB01007</th>\n",
              "      <th>VB01008A</th>\n",
              "      <th>VB01010A</th>\n",
              "      <th>VB01011</th>\n",
              "      <th>VB01012</th>\n",
              "      <th>VB01013</th>\n",
              "      <th>VB01014</th>\n",
              "      <th>VB01015A</th>\n",
              "      <th>VB01016</th>\n",
              "      <th>VB01017</th>\n",
              "      <th>VB01018</th>\n",
              "      <th>VB01019</th>\n",
              "      <th>VB01020A</th>\n",
              "      <th>VB01021</th>\n",
              "      <th>VB01022</th>\n",
              "      <th>VB01023</th>\n",
              "      <th>VB01024</th>\n",
              "      <th>VB01025</th>\n",
              "      <th>VB01026</th>\n",
              "      <th>VB02001</th>\n",
              "      <th>VB02002</th>\n",
              "      <th>VB02004A</th>\n",
              "      <th>VB02010</th>\n",
              "      <th>VB02011</th>\n",
              "      <th>VB02013</th>\n",
              "      <th>VB02017A</th>\n",
              "      <th>VB02018A</th>\n",
              "      <th>VB02019A</th>\n",
              "      <th>VB02020A</th>\n",
              "      <th>VB02021</th>\n",
              "      <th>...</th>\n",
              "      <th>VB11005</th>\n",
              "      <th>VB11006</th>\n",
              "      <th>VB11007</th>\n",
              "      <th>VB12001</th>\n",
              "      <th>VB12002</th>\n",
              "      <th>VB12003</th>\n",
              "      <th>VB13001</th>\n",
              "      <th>VB13002A</th>\n",
              "      <th>VB13004A</th>\n",
              "      <th>VB13005</th>\n",
              "      <th>VB13006</th>\n",
              "      <th>VB13007</th>\n",
              "      <th>VB13008</th>\n",
              "      <th>VB13009</th>\n",
              "      <th>VB14001</th>\n",
              "      <th>VB14002</th>\n",
              "      <th>VB16001A01</th>\n",
              "      <th>VB16001A02</th>\n",
              "      <th>VB16001A03</th>\n",
              "      <th>VB16001A04</th>\n",
              "      <th>VB16001A05</th>\n",
              "      <th>VB16001A06</th>\n",
              "      <th>VB16001A07</th>\n",
              "      <th>VB16001A08</th>\n",
              "      <th>VB17001</th>\n",
              "      <th>VB17002</th>\n",
              "      <th>VB17003</th>\n",
              "      <th>VB17004</th>\n",
              "      <th>VB17005</th>\n",
              "      <th>VB17006</th>\n",
              "      <th>ESTRATO_EXP</th>\n",
              "      <th>ESTRATOGEOREG</th>\n",
              "      <th>PESO</th>\n",
              "      <th>V0006</th>\n",
              "      <th>V0007</th>\n",
              "      <th>V0008</th>\n",
              "      <th>V0041</th>\n",
              "      <th>aluno</th>\n",
              "      <th>escola</th>\n",
              "      <th>turma</th>\n",
              "    </tr>\n",
              "  </thead>\n",
              "  <tbody>\n",
              "    <tr>\n",
              "      <th>0</th>\n",
              "      <td>2015</td>\n",
              "      <td>76</td>\n",
              "      <td>1</td>\n",
              "      <td>1</td>\n",
              "      <td>2</td>\n",
              "      <td>1</td>\n",
              "      <td>13</td>\n",
              "      <td>7</td>\n",
              "      <td>7</td>\n",
              "      <td>1</td>\n",
              "      <td>2</td>\n",
              "      <td>7</td>\n",
              "      <td>3</td>\n",
              "      <td>2</td>\n",
              "      <td>-1</td>\n",
              "      <td>1</td>\n",
              "      <td>1</td>\n",
              "      <td>1</td>\n",
              "      <td>1</td>\n",
              "      <td>1</td>\n",
              "      <td>2</td>\n",
              "      <td>4</td>\n",
              "      <td>2</td>\n",
              "      <td>4</td>\n",
              "      <td>1</td>\n",
              "      <td>2</td>\n",
              "      <td>2</td>\n",
              "      <td>5</td>\n",
              "      <td>1</td>\n",
              "      <td>8</td>\n",
              "      <td>3</td>\n",
              "      <td>4</td>\n",
              "      <td>3</td>\n",
              "      <td>6</td>\n",
              "      <td>6</td>\n",
              "      <td>1</td>\n",
              "      <td>6</td>\n",
              "      <td>1</td>\n",
              "      <td>-1</td>\n",
              "      <td>2</td>\n",
              "      <td>...</td>\n",
              "      <td>2</td>\n",
              "      <td>1</td>\n",
              "      <td>2</td>\n",
              "      <td>1</td>\n",
              "      <td>1</td>\n",
              "      <td>4</td>\n",
              "      <td>2</td>\n",
              "      <td>-1</td>\n",
              "      <td>3</td>\n",
              "      <td>1</td>\n",
              "      <td>1</td>\n",
              "      <td>-1</td>\n",
              "      <td>1</td>\n",
              "      <td>1</td>\n",
              "      <td>2</td>\n",
              "      <td>2</td>\n",
              "      <td>1</td>\n",
              "      <td>2</td>\n",
              "      <td>2</td>\n",
              "      <td>2</td>\n",
              "      <td>2</td>\n",
              "      <td>2</td>\n",
              "      <td>2</td>\n",
              "      <td>2</td>\n",
              "      <td>371.0</td>\n",
              "      <td>1570.0</td>\n",
              "      <td>37,1</td>\n",
              "      <td>157</td>\n",
              "      <td>2</td>\n",
              "      <td>1</td>\n",
              "      <td>1223</td>\n",
              "      <td>1</td>\n",
              "      <td>299,735235</td>\n",
              "      <td>1</td>\n",
              "      <td>2</td>\n",
              "      <td>4</td>\n",
              "      <td>1</td>\n",
              "      <td>1</td>\n",
              "      <td>1</td>\n",
              "      <td>296</td>\n",
              "    </tr>\n",
              "    <tr>\n",
              "      <th>1</th>\n",
              "      <td>2015</td>\n",
              "      <td>76</td>\n",
              "      <td>1</td>\n",
              "      <td>1</td>\n",
              "      <td>2</td>\n",
              "      <td>1</td>\n",
              "      <td>14</td>\n",
              "      <td>4</td>\n",
              "      <td>7</td>\n",
              "      <td>1</td>\n",
              "      <td>1</td>\n",
              "      <td>7</td>\n",
              "      <td>3</td>\n",
              "      <td>2</td>\n",
              "      <td>-1</td>\n",
              "      <td>1</td>\n",
              "      <td>1</td>\n",
              "      <td>1</td>\n",
              "      <td>1</td>\n",
              "      <td>1</td>\n",
              "      <td>2</td>\n",
              "      <td>2</td>\n",
              "      <td>2</td>\n",
              "      <td>4</td>\n",
              "      <td>1</td>\n",
              "      <td>2</td>\n",
              "      <td>2</td>\n",
              "      <td>5</td>\n",
              "      <td>3</td>\n",
              "      <td>8</td>\n",
              "      <td>2</td>\n",
              "      <td>1</td>\n",
              "      <td>8</td>\n",
              "      <td>8</td>\n",
              "      <td>6</td>\n",
              "      <td>1</td>\n",
              "      <td>1</td>\n",
              "      <td>5</td>\n",
              "      <td>-1</td>\n",
              "      <td>2</td>\n",
              "      <td>...</td>\n",
              "      <td>2</td>\n",
              "      <td>3</td>\n",
              "      <td>2</td>\n",
              "      <td>4</td>\n",
              "      <td>4</td>\n",
              "      <td>4</td>\n",
              "      <td>1</td>\n",
              "      <td>2</td>\n",
              "      <td>3</td>\n",
              "      <td>3</td>\n",
              "      <td>1</td>\n",
              "      <td>-1</td>\n",
              "      <td>1</td>\n",
              "      <td>1</td>\n",
              "      <td>2</td>\n",
              "      <td>2</td>\n",
              "      <td>2</td>\n",
              "      <td>2</td>\n",
              "      <td>2</td>\n",
              "      <td>1</td>\n",
              "      <td>2</td>\n",
              "      <td>2</td>\n",
              "      <td>2</td>\n",
              "      <td>2</td>\n",
              "      <td>502.0</td>\n",
              "      <td>1520.0</td>\n",
              "      <td>50,2</td>\n",
              "      <td>152</td>\n",
              "      <td>2</td>\n",
              "      <td>2</td>\n",
              "      <td>1223</td>\n",
              "      <td>1</td>\n",
              "      <td>355,170081</td>\n",
              "      <td>1</td>\n",
              "      <td>2</td>\n",
              "      <td>4</td>\n",
              "      <td>1</td>\n",
              "      <td>2</td>\n",
              "      <td>1</td>\n",
              "      <td>296</td>\n",
              "    </tr>\n",
              "    <tr>\n",
              "      <th>2</th>\n",
              "      <td>2015</td>\n",
              "      <td>76</td>\n",
              "      <td>1</td>\n",
              "      <td>1</td>\n",
              "      <td>1</td>\n",
              "      <td>4</td>\n",
              "      <td>13</td>\n",
              "      <td>6</td>\n",
              "      <td>7</td>\n",
              "      <td>1</td>\n",
              "      <td>1</td>\n",
              "      <td>5</td>\n",
              "      <td>5</td>\n",
              "      <td>2</td>\n",
              "      <td>-1</td>\n",
              "      <td>2</td>\n",
              "      <td>1</td>\n",
              "      <td>1</td>\n",
              "      <td>1</td>\n",
              "      <td>1</td>\n",
              "      <td>2</td>\n",
              "      <td>3</td>\n",
              "      <td>1</td>\n",
              "      <td>4</td>\n",
              "      <td>1</td>\n",
              "      <td>2</td>\n",
              "      <td>2</td>\n",
              "      <td>5</td>\n",
              "      <td>3</td>\n",
              "      <td>2</td>\n",
              "      <td>3</td>\n",
              "      <td>1</td>\n",
              "      <td>8</td>\n",
              "      <td>2</td>\n",
              "      <td>8</td>\n",
              "      <td>1</td>\n",
              "      <td>1</td>\n",
              "      <td>5</td>\n",
              "      <td>5</td>\n",
              "      <td>1</td>\n",
              "      <td>...</td>\n",
              "      <td>2</td>\n",
              "      <td>1</td>\n",
              "      <td>2</td>\n",
              "      <td>1</td>\n",
              "      <td>2</td>\n",
              "      <td>3</td>\n",
              "      <td>1</td>\n",
              "      <td>2</td>\n",
              "      <td>1</td>\n",
              "      <td>2</td>\n",
              "      <td>5</td>\n",
              "      <td>99</td>\n",
              "      <td>1</td>\n",
              "      <td>-1</td>\n",
              "      <td>2</td>\n",
              "      <td>2</td>\n",
              "      <td>1</td>\n",
              "      <td>1</td>\n",
              "      <td>1</td>\n",
              "      <td>1</td>\n",
              "      <td>1</td>\n",
              "      <td>1</td>\n",
              "      <td>1</td>\n",
              "      <td>1</td>\n",
              "      <td>482.0</td>\n",
              "      <td>1614.0</td>\n",
              "      <td>48,2</td>\n",
              "      <td>161,4</td>\n",
              "      <td>2</td>\n",
              "      <td>2</td>\n",
              "      <td>1223</td>\n",
              "      <td>1</td>\n",
              "      <td>299,735235</td>\n",
              "      <td>1</td>\n",
              "      <td>2</td>\n",
              "      <td>4</td>\n",
              "      <td>1</td>\n",
              "      <td>3</td>\n",
              "      <td>1</td>\n",
              "      <td>296</td>\n",
              "    </tr>\n",
              "    <tr>\n",
              "      <th>3</th>\n",
              "      <td>2015</td>\n",
              "      <td>76</td>\n",
              "      <td>1</td>\n",
              "      <td>1</td>\n",
              "      <td>1</td>\n",
              "      <td>1</td>\n",
              "      <td>14</td>\n",
              "      <td>6</td>\n",
              "      <td>7</td>\n",
              "      <td>1</td>\n",
              "      <td>1</td>\n",
              "      <td>7</td>\n",
              "      <td>4</td>\n",
              "      <td>2</td>\n",
              "      <td>-1</td>\n",
              "      <td>1</td>\n",
              "      <td>1</td>\n",
              "      <td>1</td>\n",
              "      <td>1</td>\n",
              "      <td>1</td>\n",
              "      <td>2</td>\n",
              "      <td>4</td>\n",
              "      <td>2</td>\n",
              "      <td>4</td>\n",
              "      <td>1</td>\n",
              "      <td>2</td>\n",
              "      <td>2</td>\n",
              "      <td>6</td>\n",
              "      <td>3</td>\n",
              "      <td>2</td>\n",
              "      <td>4</td>\n",
              "      <td>1</td>\n",
              "      <td>3</td>\n",
              "      <td>2</td>\n",
              "      <td>7</td>\n",
              "      <td>1</td>\n",
              "      <td>5</td>\n",
              "      <td>1</td>\n",
              "      <td>-1</td>\n",
              "      <td>2</td>\n",
              "      <td>...</td>\n",
              "      <td>2</td>\n",
              "      <td>1</td>\n",
              "      <td>2</td>\n",
              "      <td>2</td>\n",
              "      <td>2</td>\n",
              "      <td>4</td>\n",
              "      <td>1</td>\n",
              "      <td>10</td>\n",
              "      <td>3</td>\n",
              "      <td>1</td>\n",
              "      <td>2</td>\n",
              "      <td>-1</td>\n",
              "      <td>1</td>\n",
              "      <td>-1</td>\n",
              "      <td>2</td>\n",
              "      <td>2</td>\n",
              "      <td>1</td>\n",
              "      <td>2</td>\n",
              "      <td>2</td>\n",
              "      <td>2</td>\n",
              "      <td>1</td>\n",
              "      <td>2</td>\n",
              "      <td>2</td>\n",
              "      <td>2</td>\n",
              "      <td>694.0</td>\n",
              "      <td>1725.0</td>\n",
              "      <td>69,4</td>\n",
              "      <td>172,5</td>\n",
              "      <td>2</td>\n",
              "      <td>3</td>\n",
              "      <td>1223</td>\n",
              "      <td>1</td>\n",
              "      <td>355,170081</td>\n",
              "      <td>1</td>\n",
              "      <td>2</td>\n",
              "      <td>4</td>\n",
              "      <td>1</td>\n",
              "      <td>4</td>\n",
              "      <td>1</td>\n",
              "      <td>296</td>\n",
              "    </tr>\n",
              "    <tr>\n",
              "      <th>4</th>\n",
              "      <td>2015</td>\n",
              "      <td>76</td>\n",
              "      <td>1</td>\n",
              "      <td>1</td>\n",
              "      <td>1</td>\n",
              "      <td>1</td>\n",
              "      <td>13</td>\n",
              "      <td>9</td>\n",
              "      <td>7</td>\n",
              "      <td>1</td>\n",
              "      <td>2</td>\n",
              "      <td>5</td>\n",
              "      <td>4</td>\n",
              "      <td>2</td>\n",
              "      <td>-1</td>\n",
              "      <td>2</td>\n",
              "      <td>1</td>\n",
              "      <td>1</td>\n",
              "      <td>1</td>\n",
              "      <td>1</td>\n",
              "      <td>2</td>\n",
              "      <td>5</td>\n",
              "      <td>1</td>\n",
              "      <td>4</td>\n",
              "      <td>1</td>\n",
              "      <td>2</td>\n",
              "      <td>2</td>\n",
              "      <td>6</td>\n",
              "      <td>5</td>\n",
              "      <td>6</td>\n",
              "      <td>3</td>\n",
              "      <td>5</td>\n",
              "      <td>2</td>\n",
              "      <td>6</td>\n",
              "      <td>2</td>\n",
              "      <td>1</td>\n",
              "      <td>5</td>\n",
              "      <td>1</td>\n",
              "      <td>5</td>\n",
              "      <td>1</td>\n",
              "      <td>...</td>\n",
              "      <td>2</td>\n",
              "      <td>1</td>\n",
              "      <td>4</td>\n",
              "      <td>2</td>\n",
              "      <td>2</td>\n",
              "      <td>4</td>\n",
              "      <td>1</td>\n",
              "      <td>3</td>\n",
              "      <td>2</td>\n",
              "      <td>2</td>\n",
              "      <td>2</td>\n",
              "      <td>13</td>\n",
              "      <td>1</td>\n",
              "      <td>-1</td>\n",
              "      <td>1</td>\n",
              "      <td>2</td>\n",
              "      <td>1</td>\n",
              "      <td>1</td>\n",
              "      <td>1</td>\n",
              "      <td>1</td>\n",
              "      <td>1</td>\n",
              "      <td>1</td>\n",
              "      <td>1</td>\n",
              "      <td>1</td>\n",
              "      <td>789.0</td>\n",
              "      <td>1675.0</td>\n",
              "      <td>78,9</td>\n",
              "      <td>167,5</td>\n",
              "      <td>2</td>\n",
              "      <td>4</td>\n",
              "      <td>1223</td>\n",
              "      <td>1</td>\n",
              "      <td>299,735235</td>\n",
              "      <td>1</td>\n",
              "      <td>2</td>\n",
              "      <td>4</td>\n",
              "      <td>1</td>\n",
              "      <td>5</td>\n",
              "      <td>1</td>\n",
              "      <td>296</td>\n",
              "    </tr>\n",
              "  </tbody>\n",
              "</table>\n",
              "<p>5 rows × 181 columns</p>\n",
              "</div>"
            ],
            "text/plain": [
              "   ANOPESQ  PAIS  REGEOGR  VB00004  VB01001  ...  V0008  V0041  aluno  escola  turma\n",
              "0     2015    76        1        1        2  ...      4      1      1       1    296\n",
              "1     2015    76        1        1        2  ...      4      1      2       1    296\n",
              "2     2015    76        1        1        1  ...      4      1      3       1    296\n",
              "3     2015    76        1        1        1  ...      4      1      4       1    296\n",
              "4     2015    76        1        1        1  ...      4      1      5       1    296\n",
              "\n",
              "[5 rows x 181 columns]"
            ]
          },
          "metadata": {
            "tags": []
          },
          "execution_count": 6
        }
      ]
    },
    {
      "cell_type": "code",
      "metadata": {
        "id": "Mav43UoobmoA",
        "colab": {
          "base_uri": "https://localhost:8080/"
        },
        "outputId": "a359fe32-00a8-48fc-b889-435450bc55a9"
      },
      "source": [
        "dados.shape"
      ],
      "execution_count": null,
      "outputs": [
        {
          "output_type": "execute_result",
          "data": {
            "text/plain": [
              "(16556, 181)"
            ]
          },
          "metadata": {
            "tags": []
          },
          "execution_count": 7
        }
      ]
    },
    {
      "cell_type": "markdown",
      "metadata": {
        "id": "1dQ5yrOaulfK"
      },
      "source": [
        "Com isso temos o arquivo aberto. Na imersão dados 2, eu fiz o unzip \"sem querer\", copiando trecho de códigos de outro lugar. Agora entendi melhor o processo. O Allan explicou que por trás dos panos no Google Colab tem um sistema Linux e você consegue já fazer a manipulação de arquivos, por exemplo, se você digitar no Google Colab !ls você consegue ver os arquivos dentro da pasta que está trabalhando.\r\n",
        "<br>\r\n",
        "Quando fiz o unzip, eu utilizei a linha abaixo:\r\n",
        "<br>\r\n",
        "**!unzip \\*.zip  && rm *.zip**\r\n",
        "<br>\r\n",
        "Ela primeiro faz o unzip e depois remove (rm) o arquivo zip, deixando apenas o conteúdo que estava zipado.\r\n",
        "<br>\r\n",
        "Mas antes eu preciso ter navegado até a pasta onde está estre arquivo zip (se for utilizar o código, remover os espaços antes das barras:\r\n",
        "<br>\r\n",
        "% cd/content /drive /MyDrive /Ciência de Dados/Bootcamp da Alura/Modulo_3\r\n",
        "<br>\r\n",
        "<br>\r\n",
        "Mais informações sobre comandos linux no colab: https://coletivo.semanadolinux.com.br/blog/como-usar-o-bash-no-google-colab"
      ]
    },
    {
      "cell_type": "markdown",
      "metadata": {
        "id": "pNX3adZp1J2q"
      },
      "source": [
        "# Aula 01 - Educação, saúde e tipos de dados (1/2)"
      ]
    },
    {
      "cell_type": "code",
      "metadata": {
        "colab": {
          "base_uri": "https://localhost:8080/"
        },
        "id": "d7M812Ab1gF_",
        "outputId": "1807f490-f12c-43be-b378-1ec6c78ae0db"
      },
      "source": [
        "# tenho +16k linhas e 181 colunas\r\n",
        "dados.shape"
      ],
      "execution_count": null,
      "outputs": [
        {
          "output_type": "execute_result",
          "data": {
            "text/plain": [
              "(16556, 181)"
            ]
          },
          "metadata": {
            "tags": []
          },
          "execution_count": 8
        }
      ]
    },
    {
      "cell_type": "code",
      "metadata": {
        "colab": {
          "base_uri": "https://localhost:8080/"
        },
        "id": "-QvQBgaL1gr6",
        "outputId": "f3a7153b-afe5-46ca-c6d4-25c5da11b8dc"
      },
      "source": [
        "dados.columns"
      ],
      "execution_count": null,
      "outputs": [
        {
          "output_type": "execute_result",
          "data": {
            "text/plain": [
              "Index(['ANOPESQ', 'PAIS', 'REGEOGR', 'VB00004', 'VB01001', 'VB01002',\n",
              "       'VB01003', 'VB01004', 'VB01005', 'VB01006',\n",
              "       ...\n",
              "       'ESTRATO_EXP', 'ESTRATOGEOREG', 'PESO', 'V0006', 'V0007', 'V0008',\n",
              "       'V0041', 'aluno', 'escola', 'turma'],\n",
              "      dtype='object', length=181)"
            ]
          },
          "metadata": {
            "tags": []
          },
          "execution_count": 9
        }
      ]
    },
    {
      "cell_type": "code",
      "metadata": {
        "colab": {
          "base_uri": "https://localhost:8080/",
          "height": 34
        },
        "id": "rqhSA6KK1-oW",
        "outputId": "9c52d4b1-ebb6-49c1-9ef1-96bef0a61d4c"
      },
      "source": [
        "# para entender melhor o signficado das colunas acima, é essencial ler o dicionário de dados, cujo nome do arquivo é mostrado abaixo\r\n",
        "zip.namelist()[-1]"
      ],
      "execution_count": null,
      "outputs": [
        {
          "output_type": "execute_result",
          "data": {
            "application/vnd.google.colaboratory.intrinsic+json": {
              "type": "string"
            },
            "text/plain": [
              "'Dicionario_PENSE_Microdados_AMOSTRA2.xls'"
            ]
          },
          "metadata": {
            "tags": []
          },
          "execution_count": 10
        }
      ]
    },
    {
      "cell_type": "code",
      "metadata": {
        "colab": {
          "base_uri": "https://localhost:8080/"
        },
        "id": "94ePgXeC2Ljf",
        "outputId": "879fcafc-2a17-47c4-a65f-bd22afa792c1"
      },
      "source": [
        "# temos 171 colunas int, 7 colunas float e 3 object\r\n",
        "dados.info()"
      ],
      "execution_count": null,
      "outputs": [
        {
          "output_type": "stream",
          "text": [
            "<class 'pandas.core.frame.DataFrame'>\n",
            "RangeIndex: 16556 entries, 0 to 16555\n",
            "Columns: 181 entries, ANOPESQ to turma\n",
            "dtypes: float64(7), int64(171), object(3)\n",
            "memory usage: 22.9+ MB\n"
          ],
          "name": "stdout"
        }
      ]
    },
    {
      "cell_type": "code",
      "metadata": {
        "colab": {
          "base_uri": "https://localhost:8080/",
          "height": 416
        },
        "id": "rYidu8RX3Chj",
        "outputId": "da74b6d5-1a49-4f17-871b-1f8de2bdef29"
      },
      "source": [
        "# para entender melhor quais são as colunas do tipo object, vou pedir para me retornar essas colunas\r\n",
        "dados.select_dtypes(include=\"object\")\r\n",
        "\r\n",
        "# repare que nas 3 colunas há números decimais que o python acha que a presença de vírgula seria uma string. Diante dessa mistura ou indefinição, ele atribui a coluna como \"object\" ao invés de \"float\""
      ],
      "execution_count": null,
      "outputs": [
        {
          "output_type": "execute_result",
          "data": {
            "text/html": [
              "<div>\n",
              "<style scoped>\n",
              "    .dataframe tbody tr th:only-of-type {\n",
              "        vertical-align: middle;\n",
              "    }\n",
              "\n",
              "    .dataframe tbody tr th {\n",
              "        vertical-align: top;\n",
              "    }\n",
              "\n",
              "    .dataframe thead th {\n",
              "        text-align: right;\n",
              "    }\n",
              "</style>\n",
              "<table border=\"1\" class=\"dataframe\">\n",
              "  <thead>\n",
              "    <tr style=\"text-align: right;\">\n",
              "      <th></th>\n",
              "      <th>VB17003</th>\n",
              "      <th>VB17004</th>\n",
              "      <th>PESO</th>\n",
              "    </tr>\n",
              "  </thead>\n",
              "  <tbody>\n",
              "    <tr>\n",
              "      <th>0</th>\n",
              "      <td>37,1</td>\n",
              "      <td>157</td>\n",
              "      <td>299,735235</td>\n",
              "    </tr>\n",
              "    <tr>\n",
              "      <th>1</th>\n",
              "      <td>50,2</td>\n",
              "      <td>152</td>\n",
              "      <td>355,170081</td>\n",
              "    </tr>\n",
              "    <tr>\n",
              "      <th>2</th>\n",
              "      <td>48,2</td>\n",
              "      <td>161,4</td>\n",
              "      <td>299,735235</td>\n",
              "    </tr>\n",
              "    <tr>\n",
              "      <th>3</th>\n",
              "      <td>69,4</td>\n",
              "      <td>172,5</td>\n",
              "      <td>355,170081</td>\n",
              "    </tr>\n",
              "    <tr>\n",
              "      <th>4</th>\n",
              "      <td>78,9</td>\n",
              "      <td>167,5</td>\n",
              "      <td>299,735235</td>\n",
              "    </tr>\n",
              "    <tr>\n",
              "      <th>...</th>\n",
              "      <td>...</td>\n",
              "      <td>...</td>\n",
              "      <td>...</td>\n",
              "    </tr>\n",
              "    <tr>\n",
              "      <th>16551</th>\n",
              "      <td>56,7</td>\n",
              "      <td>167,9</td>\n",
              "      <td>447,815539</td>\n",
              "    </tr>\n",
              "    <tr>\n",
              "      <th>16552</th>\n",
              "      <td>61,9</td>\n",
              "      <td>185,8</td>\n",
              "      <td>592,50744</td>\n",
              "    </tr>\n",
              "    <tr>\n",
              "      <th>16553</th>\n",
              "      <td>60,9</td>\n",
              "      <td>159,4</td>\n",
              "      <td>401,131512</td>\n",
              "    </tr>\n",
              "    <tr>\n",
              "      <th>16554</th>\n",
              "      <td>47,3</td>\n",
              "      <td>157,8</td>\n",
              "      <td>442,718091</td>\n",
              "    </tr>\n",
              "    <tr>\n",
              "      <th>16555</th>\n",
              "      <td>62,6</td>\n",
              "      <td>163,9</td>\n",
              "      <td>592,50744</td>\n",
              "    </tr>\n",
              "  </tbody>\n",
              "</table>\n",
              "<p>16556 rows × 3 columns</p>\n",
              "</div>"
            ],
            "text/plain": [
              "      VB17003 VB17004        PESO\n",
              "0        37,1     157  299,735235\n",
              "1        50,2     152  355,170081\n",
              "2        48,2   161,4  299,735235\n",
              "3        69,4   172,5  355,170081\n",
              "4        78,9   167,5  299,735235\n",
              "...       ...     ...         ...\n",
              "16551    56,7   167,9  447,815539\n",
              "16552    61,9   185,8   592,50744\n",
              "16553    60,9   159,4  401,131512\n",
              "16554    47,3   157,8  442,718091\n",
              "16555    62,6   163,9   592,50744\n",
              "\n",
              "[16556 rows x 3 columns]"
            ]
          },
          "metadata": {
            "tags": []
          },
          "execution_count": 12
        }
      ]
    },
    {
      "cell_type": "code",
      "metadata": {
        "colab": {
          "base_uri": "https://localhost:8080/"
        },
        "id": "zEL5G7qx4prj",
        "outputId": "a636342b-0b06-48b3-ea66-b894c8a2ed76"
      },
      "source": [
        "# para mudar isso, eu posso ler novamente o arquivo, passando alguns parâmetros extras:\r\n",
        "dados = pd.read_csv(zip.open(caminho_pasta_zipada), sep=';', thousands = \".\", decimal = \",\")\r\n",
        "\r\n",
        "# agora sim, temos 10 colunas do tipo float e 171 do tipo inteiro\r\n",
        "dados.info()"
      ],
      "execution_count": null,
      "outputs": [
        {
          "output_type": "stream",
          "text": [
            "<class 'pandas.core.frame.DataFrame'>\n",
            "RangeIndex: 16556 entries, 0 to 16555\n",
            "Columns: 181 entries, ANOPESQ to turma\n",
            "dtypes: float64(10), int64(171)\n",
            "memory usage: 22.9 MB\n"
          ],
          "name": "stdout"
        }
      ]
    },
    {
      "cell_type": "code",
      "metadata": {
        "colab": {
          "base_uri": "https://localhost:8080/",
          "height": 416
        },
        "id": "XihAmbLo6VGU",
        "outputId": "6831d2d4-ac84-4a49-c8c7-78847baba134"
      },
      "source": [
        "# vamos olhar as colunas float\r\n",
        "dados.select_dtypes(include=\"float64\")"
      ],
      "execution_count": null,
      "outputs": [
        {
          "output_type": "execute_result",
          "data": {
            "text/html": [
              "<div>\n",
              "<style scoped>\n",
              "    .dataframe tbody tr th:only-of-type {\n",
              "        vertical-align: middle;\n",
              "    }\n",
              "\n",
              "    .dataframe tbody tr th {\n",
              "        vertical-align: top;\n",
              "    }\n",
              "\n",
              "    .dataframe thead th {\n",
              "        text-align: right;\n",
              "    }\n",
              "</style>\n",
              "<table border=\"1\" class=\"dataframe\">\n",
              "  <thead>\n",
              "    <tr style=\"text-align: right;\">\n",
              "      <th></th>\n",
              "      <th>TEMPODESLOC</th>\n",
              "      <th>TEMPOTOTAL</th>\n",
              "      <th>TEMPOEDFIS</th>\n",
              "      <th>TEMPOEXTRA</th>\n",
              "      <th>TEMPOEST</th>\n",
              "      <th>VB17001</th>\n",
              "      <th>VB17002</th>\n",
              "      <th>VB17003</th>\n",
              "      <th>VB17004</th>\n",
              "      <th>PESO</th>\n",
              "    </tr>\n",
              "  </thead>\n",
              "  <tbody>\n",
              "    <tr>\n",
              "      <th>0</th>\n",
              "      <td>0.0</td>\n",
              "      <td>15.0</td>\n",
              "      <td>0.0</td>\n",
              "      <td>15.0</td>\n",
              "      <td>60.0</td>\n",
              "      <td>371.0</td>\n",
              "      <td>1570.0</td>\n",
              "      <td>37.1</td>\n",
              "      <td>157.0</td>\n",
              "      <td>299.735235</td>\n",
              "    </tr>\n",
              "    <tr>\n",
              "      <th>1</th>\n",
              "      <td>120.0</td>\n",
              "      <td>510.0</td>\n",
              "      <td>260.0</td>\n",
              "      <td>130.0</td>\n",
              "      <td>300.0</td>\n",
              "      <td>502.0</td>\n",
              "      <td>1520.0</td>\n",
              "      <td>50.2</td>\n",
              "      <td>152.0</td>\n",
              "      <td>355.170081</td>\n",
              "    </tr>\n",
              "    <tr>\n",
              "      <th>2</th>\n",
              "      <td>0.0</td>\n",
              "      <td>585.0</td>\n",
              "      <td>130.0</td>\n",
              "      <td>455.0</td>\n",
              "      <td>420.0</td>\n",
              "      <td>482.0</td>\n",
              "      <td>1614.0</td>\n",
              "      <td>48.2</td>\n",
              "      <td>161.4</td>\n",
              "      <td>299.735235</td>\n",
              "    </tr>\n",
              "    <tr>\n",
              "      <th>3</th>\n",
              "      <td>0.0</td>\n",
              "      <td>0.0</td>\n",
              "      <td>0.0</td>\n",
              "      <td>0.0</td>\n",
              "      <td>0.0</td>\n",
              "      <td>694.0</td>\n",
              "      <td>1725.0</td>\n",
              "      <td>69.4</td>\n",
              "      <td>172.5</td>\n",
              "      <td>355.170081</td>\n",
              "    </tr>\n",
              "    <tr>\n",
              "      <th>4</th>\n",
              "      <td>30.0</td>\n",
              "      <td>165.0</td>\n",
              "      <td>90.0</td>\n",
              "      <td>45.0</td>\n",
              "      <td>60.0</td>\n",
              "      <td>789.0</td>\n",
              "      <td>1675.0</td>\n",
              "      <td>78.9</td>\n",
              "      <td>167.5</td>\n",
              "      <td>299.735235</td>\n",
              "    </tr>\n",
              "    <tr>\n",
              "      <th>...</th>\n",
              "      <td>...</td>\n",
              "      <td>...</td>\n",
              "      <td>...</td>\n",
              "      <td>...</td>\n",
              "      <td>...</td>\n",
              "      <td>...</td>\n",
              "      <td>...</td>\n",
              "      <td>...</td>\n",
              "      <td>...</td>\n",
              "      <td>...</td>\n",
              "    </tr>\n",
              "    <tr>\n",
              "      <th>16551</th>\n",
              "      <td>30.0</td>\n",
              "      <td>400.0</td>\n",
              "      <td>110.0</td>\n",
              "      <td>260.0</td>\n",
              "      <td>240.0</td>\n",
              "      <td>567.0</td>\n",
              "      <td>1679.0</td>\n",
              "      <td>56.7</td>\n",
              "      <td>167.9</td>\n",
              "      <td>447.815539</td>\n",
              "    </tr>\n",
              "    <tr>\n",
              "      <th>16552</th>\n",
              "      <td>20.0</td>\n",
              "      <td>800.0</td>\n",
              "      <td>325.0</td>\n",
              "      <td>455.0</td>\n",
              "      <td>240.0</td>\n",
              "      <td>619.0</td>\n",
              "      <td>1858.0</td>\n",
              "      <td>61.9</td>\n",
              "      <td>185.8</td>\n",
              "      <td>592.507440</td>\n",
              "    </tr>\n",
              "    <tr>\n",
              "      <th>16553</th>\n",
              "      <td>0.0</td>\n",
              "      <td>0.0</td>\n",
              "      <td>0.0</td>\n",
              "      <td>0.0</td>\n",
              "      <td>60.0</td>\n",
              "      <td>609.0</td>\n",
              "      <td>1594.0</td>\n",
              "      <td>60.9</td>\n",
              "      <td>159.4</td>\n",
              "      <td>401.131512</td>\n",
              "    </tr>\n",
              "    <tr>\n",
              "      <th>16554</th>\n",
              "      <td>75.0</td>\n",
              "      <td>215.0</td>\n",
              "      <td>35.0</td>\n",
              "      <td>105.0</td>\n",
              "      <td>120.0</td>\n",
              "      <td>473.0</td>\n",
              "      <td>1578.0</td>\n",
              "      <td>47.3</td>\n",
              "      <td>157.8</td>\n",
              "      <td>442.718091</td>\n",
              "    </tr>\n",
              "    <tr>\n",
              "      <th>16555</th>\n",
              "      <td>50.0</td>\n",
              "      <td>485.0</td>\n",
              "      <td>110.0</td>\n",
              "      <td>325.0</td>\n",
              "      <td>360.0</td>\n",
              "      <td>626.0</td>\n",
              "      <td>1639.0</td>\n",
              "      <td>62.6</td>\n",
              "      <td>163.9</td>\n",
              "      <td>592.507440</td>\n",
              "    </tr>\n",
              "  </tbody>\n",
              "</table>\n",
              "<p>16556 rows × 10 columns</p>\n",
              "</div>"
            ],
            "text/plain": [
              "       TEMPODESLOC  TEMPOTOTAL  TEMPOEDFIS  ...  VB17003  VB17004        PESO\n",
              "0              0.0        15.0         0.0  ...     37.1    157.0  299.735235\n",
              "1            120.0       510.0       260.0  ...     50.2    152.0  355.170081\n",
              "2              0.0       585.0       130.0  ...     48.2    161.4  299.735235\n",
              "3              0.0         0.0         0.0  ...     69.4    172.5  355.170081\n",
              "4             30.0       165.0        90.0  ...     78.9    167.5  299.735235\n",
              "...            ...         ...         ...  ...      ...      ...         ...\n",
              "16551         30.0       400.0       110.0  ...     56.7    167.9  447.815539\n",
              "16552         20.0       800.0       325.0  ...     61.9    185.8  592.507440\n",
              "16553          0.0         0.0         0.0  ...     60.9    159.4  401.131512\n",
              "16554         75.0       215.0        35.0  ...     47.3    157.8  442.718091\n",
              "16555         50.0       485.0       110.0  ...     62.6    163.9  592.507440\n",
              "\n",
              "[16556 rows x 10 columns]"
            ]
          },
          "metadata": {
            "tags": []
          },
          "execution_count": 14
        }
      ]
    },
    {
      "cell_type": "markdown",
      "metadata": {
        "id": "U-_8I8mUSzIZ"
      },
      "source": [
        "# Aula 02 - Dados qualitativos e tabelas de frequência (1/1)"
      ]
    },
    {
      "cell_type": "code",
      "metadata": {
        "colab": {
          "base_uri": "https://localhost:8080/",
          "height": 156
        },
        "id": "EZ9WCXzgVOhd",
        "outputId": "ac116044-8f1d-42a1-abef-31db99f6b547"
      },
      "source": [
        "# proporção da pergunta relacionada ao sexo dos estudantes\r\n",
        "\r\n",
        "# 1 - número absoluto\r\n",
        "display(dados[\"VB01001\"].value_counts())\r\n",
        "\r\n",
        "print ('\\n')\r\n",
        "\r\n",
        "# 2 - porcentagem\r\n",
        "display(dados[\"VB01001\"].value_counts(normalize = True)*100)"
      ],
      "execution_count": null,
      "outputs": [
        {
          "output_type": "display_data",
          "data": {
            "text/plain": [
              "1    8287\n",
              "2    8269\n",
              "Name: VB01001, dtype: int64"
            ]
          },
          "metadata": {
            "tags": []
          }
        },
        {
          "output_type": "stream",
          "text": [
            "\n",
            "\n"
          ],
          "name": "stdout"
        },
        {
          "output_type": "display_data",
          "data": {
            "text/plain": [
              "1    50.054361\n",
              "2    49.945639\n",
              "Name: VB01001, dtype: float64"
            ]
          },
          "metadata": {
            "tags": []
          }
        }
      ]
    },
    {
      "cell_type": "code",
      "metadata": {
        "colab": {
          "base_uri": "https://localhost:8080/",
          "height": 294
        },
        "id": "e28K74Y8VXs7",
        "outputId": "6258a2dc-c20e-4ecd-a192-1a517befa9f7"
      },
      "source": [
        "# proporção da pergunta relacionada ao grau de satisfação do corpo\r\n",
        "\r\n",
        "# 1 - número absoluto\r\n",
        "frequencia = dados[\"VB11007\"].value_counts()\r\n",
        "display(frequencia)\r\n",
        "\r\n",
        "print ('\\n')\r\n",
        "\r\n",
        "# 2 - porcentagem\r\n",
        "percentual = dados[\"VB11007\"].value_counts(normalize = True)*100\r\n",
        "display(percentual)"
      ],
      "execution_count": null,
      "outputs": [
        {
          "output_type": "display_data",
          "data": {
            "text/plain": [
              "2     6920\n",
              "1     4608\n",
              "4     2326\n",
              "3     1807\n",
              "5      714\n",
              "99     181\n",
              "Name: VB11007, dtype: int64"
            ]
          },
          "metadata": {
            "tags": []
          }
        },
        {
          "output_type": "stream",
          "text": [
            "\n",
            "\n"
          ],
          "name": "stdout"
        },
        {
          "output_type": "display_data",
          "data": {
            "text/plain": [
              "2     41.797536\n",
              "1     27.832810\n",
              "4     14.049287\n",
              "3     10.914472\n",
              "5      4.312636\n",
              "99     1.093259\n",
              "Name: VB11007, dtype: float64"
            ]
          },
          "metadata": {
            "tags": []
          }
        }
      ]
    },
    {
      "cell_type": "code",
      "metadata": {
        "colab": {
          "base_uri": "https://localhost:8080/",
          "height": 264
        },
        "id": "bwi8YcZoWQ_7",
        "outputId": "352fb821-d050-443e-8787-0daa76e00523"
      },
      "source": [
        "# criação de um df\r\n",
        "respostas = {\r\n",
        "    1: \"Muito satisfeito\",\r\n",
        "    2: \"Satisfeito\",\r\n",
        "    3: \"Indiferente\",\r\n",
        "    4: \"Insatisfeito\",\r\n",
        "    5: \"Muito insatisfeito\",\r\n",
        "    99: \"Não Informado\"\r\n",
        "}\r\n",
        "\r\n",
        "dist_freq = pd.DataFrame({\"Frequência\":frequencia, \"Percentual\":percentual})\r\n",
        "dist_freq.rename(index = respostas, inplace=True)\r\n",
        "\r\n",
        "# criar/renomear o índice (axis = 0)\r\n",
        "dist_freq.rename_axis(\"Sentimento em relação ao seu corpo\", axis=0, inplace=True)\r\n",
        "\r\n",
        "\r\n",
        "dist_freq\r\n"
      ],
      "execution_count": null,
      "outputs": [
        {
          "output_type": "execute_result",
          "data": {
            "text/html": [
              "<div>\n",
              "<style scoped>\n",
              "    .dataframe tbody tr th:only-of-type {\n",
              "        vertical-align: middle;\n",
              "    }\n",
              "\n",
              "    .dataframe tbody tr th {\n",
              "        vertical-align: top;\n",
              "    }\n",
              "\n",
              "    .dataframe thead th {\n",
              "        text-align: right;\n",
              "    }\n",
              "</style>\n",
              "<table border=\"1\" class=\"dataframe\">\n",
              "  <thead>\n",
              "    <tr style=\"text-align: right;\">\n",
              "      <th></th>\n",
              "      <th>Frequência</th>\n",
              "      <th>Percentual</th>\n",
              "    </tr>\n",
              "    <tr>\n",
              "      <th>Sentimento em relação ao seu corpo</th>\n",
              "      <th></th>\n",
              "      <th></th>\n",
              "    </tr>\n",
              "  </thead>\n",
              "  <tbody>\n",
              "    <tr>\n",
              "      <th>Satisfeito</th>\n",
              "      <td>6920</td>\n",
              "      <td>41.797536</td>\n",
              "    </tr>\n",
              "    <tr>\n",
              "      <th>Muito satisfeito</th>\n",
              "      <td>4608</td>\n",
              "      <td>27.832810</td>\n",
              "    </tr>\n",
              "    <tr>\n",
              "      <th>Insatisfeito</th>\n",
              "      <td>2326</td>\n",
              "      <td>14.049287</td>\n",
              "    </tr>\n",
              "    <tr>\n",
              "      <th>Indiferente</th>\n",
              "      <td>1807</td>\n",
              "      <td>10.914472</td>\n",
              "    </tr>\n",
              "    <tr>\n",
              "      <th>Muito insatisfeito</th>\n",
              "      <td>714</td>\n",
              "      <td>4.312636</td>\n",
              "    </tr>\n",
              "    <tr>\n",
              "      <th>Não Informado</th>\n",
              "      <td>181</td>\n",
              "      <td>1.093259</td>\n",
              "    </tr>\n",
              "  </tbody>\n",
              "</table>\n",
              "</div>"
            ],
            "text/plain": [
              "                                    Frequência  Percentual\n",
              "Sentimento em relação ao seu corpo                        \n",
              "Satisfeito                                6920   41.797536\n",
              "Muito satisfeito                          4608   27.832810\n",
              "Insatisfeito                              2326   14.049287\n",
              "Indiferente                               1807   10.914472\n",
              "Muito insatisfeito                         714    4.312636\n",
              "Não Informado                              181    1.093259"
            ]
          },
          "metadata": {
            "tags": []
          },
          "execution_count": 17
        }
      ]
    },
    {
      "cell_type": "markdown",
      "metadata": {
        "id": "HJgyIheBdJhH"
      },
      "source": [
        "## Desafio: criar uma função para gerar as tabelas de frequencia"
      ]
    },
    {
      "cell_type": "code",
      "metadata": {
        "id": "UmRvo1iddiFH"
      },
      "source": [
        "# definição da função\r\n",
        "def tabela_frequencia(dados, nome_indice:str, pergunta:str, filtro = None, nome_filtro = None, indices:dict = None):\r\n",
        "  if filtro != None:\r\n",
        "    dados_func = dados.query(filtro).copy()     \r\n",
        "  else:\r\n",
        "    dados_func = dados.copy()\r\n",
        "\r\n",
        "  frequencia = dados_func[pergunta].value_counts()\r\n",
        "  percentual = dados_func[pergunta].value_counts(normalize = True)*100\r\n",
        "  dist_freq = pd.DataFrame({\"Frequência\":frequencia, \"Percentual\":percentual})\r\n",
        "\r\n",
        "  if indices != None:\r\n",
        "    dist_freq.rename(index = indices, inplace=True)\r\n",
        "    dist_freq.rename_axis(nome_indice, axis=0, inplace=True)\r\n",
        "  \r\n",
        "  if nome_filtro != None:\r\n",
        "    dist_freq.rename_axis(nome_filtro, axis=1, inplace=True)\r\n",
        "\r\n",
        "  return dist_freq\r\n"
      ],
      "execution_count": null,
      "outputs": []
    },
    {
      "cell_type": "code",
      "metadata": {
        "id": "b13NTF0ke0B7"
      },
      "source": [
        "# parâmetros da função de acordo com a pergunta VB01026\r\n",
        "\r\n",
        "indices = {\r\n",
        "    1:\"Somente continuar estudando\",\r\n",
        "    2:\"Somente trabalhar\",\r\n",
        "    3:\"Continuar estudando e trabalhar\",\r\n",
        "    4:\"Seguir outro plano\",\r\n",
        "    5:\"Não sei\",\r\n",
        "    99:\"Não informado\"\r\n",
        "}\r\n",
        "\r\n",
        "nome_indice = \"Quando terminar o ciclo/curso que você está frequentando atualmente, você pretende?\"\r\n",
        "\r\n",
        "pergunta = \"VB01026\""
      ],
      "execution_count": null,
      "outputs": []
    },
    {
      "cell_type": "code",
      "metadata": {
        "colab": {
          "base_uri": "https://localhost:8080/",
          "height": 264
        },
        "id": "U-3PLb0vfEMb",
        "outputId": "b5f50143-5420-419b-e995-d99ab6005cb5"
      },
      "source": [
        "# chamada da função\r\n",
        "tabela_frequencia(dados,nome_indice,pergunta, indices= indices)"
      ],
      "execution_count": null,
      "outputs": [
        {
          "output_type": "execute_result",
          "data": {
            "text/html": [
              "<div>\n",
              "<style scoped>\n",
              "    .dataframe tbody tr th:only-of-type {\n",
              "        vertical-align: middle;\n",
              "    }\n",
              "\n",
              "    .dataframe tbody tr th {\n",
              "        vertical-align: top;\n",
              "    }\n",
              "\n",
              "    .dataframe thead th {\n",
              "        text-align: right;\n",
              "    }\n",
              "</style>\n",
              "<table border=\"1\" class=\"dataframe\">\n",
              "  <thead>\n",
              "    <tr style=\"text-align: right;\">\n",
              "      <th></th>\n",
              "      <th>Frequência</th>\n",
              "      <th>Percentual</th>\n",
              "    </tr>\n",
              "    <tr>\n",
              "      <th>Quando terminar o ciclo/curso que você está frequentando atualmente, você pretende?</th>\n",
              "      <th></th>\n",
              "      <th></th>\n",
              "    </tr>\n",
              "  </thead>\n",
              "  <tbody>\n",
              "    <tr>\n",
              "      <th>Continuar estudando e trabalhar</th>\n",
              "      <td>10779</td>\n",
              "      <td>65.106306</td>\n",
              "    </tr>\n",
              "    <tr>\n",
              "      <th>Somente continuar estudando</th>\n",
              "      <td>2451</td>\n",
              "      <td>14.804301</td>\n",
              "    </tr>\n",
              "    <tr>\n",
              "      <th>Não sei</th>\n",
              "      <td>1178</td>\n",
              "      <td>7.115245</td>\n",
              "    </tr>\n",
              "    <tr>\n",
              "      <th>Somente trabalhar</th>\n",
              "      <td>1136</td>\n",
              "      <td>6.861561</td>\n",
              "    </tr>\n",
              "    <tr>\n",
              "      <th>Seguir outro plano</th>\n",
              "      <td>996</td>\n",
              "      <td>6.015946</td>\n",
              "    </tr>\n",
              "    <tr>\n",
              "      <th>Não informado</th>\n",
              "      <td>16</td>\n",
              "      <td>0.096642</td>\n",
              "    </tr>\n",
              "  </tbody>\n",
              "</table>\n",
              "</div>"
            ],
            "text/plain": [
              "                                                    Frequência  Percentual\n",
              "Quando terminar o ciclo/curso que você está fre...                        \n",
              "Continuar estudando e trabalhar                          10779   65.106306\n",
              "Somente continuar estudando                               2451   14.804301\n",
              "Não sei                                                   1178    7.115245\n",
              "Somente trabalhar                                         1136    6.861561\n",
              "Seguir outro plano                                         996    6.015946\n",
              "Não informado                                               16    0.096642"
            ]
          },
          "metadata": {
            "tags": []
          },
          "execution_count": 20
        }
      ]
    },
    {
      "cell_type": "code",
      "metadata": {
        "id": "rUvIYU1WfKks"
      },
      "source": [
        "# parâmetros da função de acordo com a pergunta VB01006\r\n",
        "\r\n",
        "indices = {\r\n",
        "    1:\"Sim\",\r\n",
        "    2:\"Não\",\r\n",
        "    99:\"Não informado\",\r\n",
        "}\r\n",
        "\r\n",
        "nome_indice = \"Você mora com sua mãe?\"\r\n",
        "\r\n",
        "pergunta = \"VB01006\""
      ],
      "execution_count": null,
      "outputs": []
    },
    {
      "cell_type": "code",
      "metadata": {
        "colab": {
          "base_uri": "https://localhost:8080/",
          "height": 172
        },
        "id": "YD_BkBY5g_fX",
        "outputId": "ee2f1e5f-f14d-4139-bee0-490f7e641a8e"
      },
      "source": [
        "# chamada da função\r\n",
        "tabela_frequencia(dados,nome_indice,pergunta,indices= indices)"
      ],
      "execution_count": null,
      "outputs": [
        {
          "output_type": "execute_result",
          "data": {
            "text/html": [
              "<div>\n",
              "<style scoped>\n",
              "    .dataframe tbody tr th:only-of-type {\n",
              "        vertical-align: middle;\n",
              "    }\n",
              "\n",
              "    .dataframe tbody tr th {\n",
              "        vertical-align: top;\n",
              "    }\n",
              "\n",
              "    .dataframe thead th {\n",
              "        text-align: right;\n",
              "    }\n",
              "</style>\n",
              "<table border=\"1\" class=\"dataframe\">\n",
              "  <thead>\n",
              "    <tr style=\"text-align: right;\">\n",
              "      <th></th>\n",
              "      <th>Frequência</th>\n",
              "      <th>Percentual</th>\n",
              "    </tr>\n",
              "    <tr>\n",
              "      <th>Você mora com sua mãe?</th>\n",
              "      <th></th>\n",
              "      <th></th>\n",
              "    </tr>\n",
              "  </thead>\n",
              "  <tbody>\n",
              "    <tr>\n",
              "      <th>Sim</th>\n",
              "      <td>14679</td>\n",
              "      <td>88.662720</td>\n",
              "    </tr>\n",
              "    <tr>\n",
              "      <th>Não</th>\n",
              "      <td>1866</td>\n",
              "      <td>11.270838</td>\n",
              "    </tr>\n",
              "    <tr>\n",
              "      <th>Não informado</th>\n",
              "      <td>11</td>\n",
              "      <td>0.066441</td>\n",
              "    </tr>\n",
              "  </tbody>\n",
              "</table>\n",
              "</div>"
            ],
            "text/plain": [
              "                        Frequência  Percentual\n",
              "Você mora com sua mãe?                        \n",
              "Sim                          14679   88.662720\n",
              "Não                           1866   11.270838\n",
              "Não informado                   11    0.066441"
            ]
          },
          "metadata": {
            "tags": []
          },
          "execution_count": 22
        }
      ]
    },
    {
      "cell_type": "code",
      "metadata": {
        "id": "14VdrLu5hBVo"
      },
      "source": [
        "# parâmetros da função de acordo com a pergunta VB01007\r\n",
        "\r\n",
        "indices = {\r\n",
        "    1:\"Sim\",\r\n",
        "    2:\"Não\",\r\n",
        "    99:\"Não informado\",\r\n",
        "}\r\n",
        "\r\n",
        "nome_indice = \"Você mora com seu pai?\"\r\n",
        "\r\n",
        "pergunta = \"VB01007\""
      ],
      "execution_count": null,
      "outputs": []
    },
    {
      "cell_type": "code",
      "metadata": {
        "colab": {
          "base_uri": "https://localhost:8080/",
          "height": 172
        },
        "id": "9mBZzs6ihLmE",
        "outputId": "4d4dd204-e853-4c2b-cc1b-1051200415ce"
      },
      "source": [
        "# chamada da função\r\n",
        "tabela_frequencia(dados,nome_indice,pergunta,indices= indices)"
      ],
      "execution_count": null,
      "outputs": [
        {
          "output_type": "execute_result",
          "data": {
            "text/html": [
              "<div>\n",
              "<style scoped>\n",
              "    .dataframe tbody tr th:only-of-type {\n",
              "        vertical-align: middle;\n",
              "    }\n",
              "\n",
              "    .dataframe tbody tr th {\n",
              "        vertical-align: top;\n",
              "    }\n",
              "\n",
              "    .dataframe thead th {\n",
              "        text-align: right;\n",
              "    }\n",
              "</style>\n",
              "<table border=\"1\" class=\"dataframe\">\n",
              "  <thead>\n",
              "    <tr style=\"text-align: right;\">\n",
              "      <th></th>\n",
              "      <th>Frequência</th>\n",
              "      <th>Percentual</th>\n",
              "    </tr>\n",
              "    <tr>\n",
              "      <th>Você mora com seu pai?</th>\n",
              "      <th></th>\n",
              "      <th></th>\n",
              "    </tr>\n",
              "  </thead>\n",
              "  <tbody>\n",
              "    <tr>\n",
              "      <th>Sim</th>\n",
              "      <td>10460</td>\n",
              "      <td>63.179512</td>\n",
              "    </tr>\n",
              "    <tr>\n",
              "      <th>Não</th>\n",
              "      <td>6081</td>\n",
              "      <td>36.729886</td>\n",
              "    </tr>\n",
              "    <tr>\n",
              "      <th>Não informado</th>\n",
              "      <td>15</td>\n",
              "      <td>0.090602</td>\n",
              "    </tr>\n",
              "  </tbody>\n",
              "</table>\n",
              "</div>"
            ],
            "text/plain": [
              "                        Frequência  Percentual\n",
              "Você mora com seu pai?                        \n",
              "Sim                          10460   63.179512\n",
              "Não                           6081   36.729886\n",
              "Não informado                   15    0.090602"
            ]
          },
          "metadata": {
            "tags": []
          },
          "execution_count": 24
        }
      ]
    },
    {
      "cell_type": "code",
      "metadata": {
        "id": "3_d4w6UIhMeM"
      },
      "source": [
        "# parâmetros da função de acordo com a pergunta VB01005\r\n",
        "\r\n",
        "indices = {\r\n",
        "    1: \"Antes de 1996\",\r\n",
        "    2:\t\"1996\",\r\n",
        "    3:\t\"1997\",\r\n",
        "    4:\t\"1998\",\r\n",
        "    5:\t\"1999\",\r\n",
        "    6:\t\"2000\",\r\n",
        "    7:\t\"2001\",\r\n",
        "    8:\t\"2002\",\r\n",
        "    9:\t\"2003\",\r\n",
        "    10:\t\"2004 ou mais\",\r\n",
        "    99:\t\"Não informado\",\r\n",
        "}\r\n",
        "\r\n",
        "nome_indice = \"Em que ano você nasceu?\"\r\n",
        "\r\n",
        "pergunta = \"VB01005\""
      ],
      "execution_count": null,
      "outputs": []
    },
    {
      "cell_type": "code",
      "metadata": {
        "colab": {
          "base_uri": "https://localhost:8080/",
          "height": 417
        },
        "id": "MpEcwcqJh7IV",
        "outputId": "386d934d-a048-469d-d16e-8a31e7dd4ead"
      },
      "source": [
        "# chamada da função\r\n",
        "tabela_frequencia(dados,nome_indice,pergunta,indices= indices)"
      ],
      "execution_count": null,
      "outputs": [
        {
          "output_type": "execute_result",
          "data": {
            "text/html": [
              "<div>\n",
              "<style scoped>\n",
              "    .dataframe tbody tr th:only-of-type {\n",
              "        vertical-align: middle;\n",
              "    }\n",
              "\n",
              "    .dataframe tbody tr th {\n",
              "        vertical-align: top;\n",
              "    }\n",
              "\n",
              "    .dataframe thead th {\n",
              "        text-align: right;\n",
              "    }\n",
              "</style>\n",
              "<table border=\"1\" class=\"dataframe\">\n",
              "  <thead>\n",
              "    <tr style=\"text-align: right;\">\n",
              "      <th></th>\n",
              "      <th>Frequência</th>\n",
              "      <th>Percentual</th>\n",
              "    </tr>\n",
              "    <tr>\n",
              "      <th>Em que ano você nasceu?</th>\n",
              "      <th></th>\n",
              "      <th></th>\n",
              "    </tr>\n",
              "  </thead>\n",
              "  <tbody>\n",
              "    <tr>\n",
              "      <th>2002</th>\n",
              "      <td>2692</td>\n",
              "      <td>16.259966</td>\n",
              "    </tr>\n",
              "    <tr>\n",
              "      <th>1999</th>\n",
              "      <td>2555</td>\n",
              "      <td>15.432472</td>\n",
              "    </tr>\n",
              "    <tr>\n",
              "      <th>2001</th>\n",
              "      <td>2272</td>\n",
              "      <td>13.723122</td>\n",
              "    </tr>\n",
              "    <tr>\n",
              "      <th>2000</th>\n",
              "      <td>2237</td>\n",
              "      <td>13.511718</td>\n",
              "    </tr>\n",
              "    <tr>\n",
              "      <th>2003</th>\n",
              "      <td>2209</td>\n",
              "      <td>13.342595</td>\n",
              "    </tr>\n",
              "    <tr>\n",
              "      <th>1998</th>\n",
              "      <td>1898</td>\n",
              "      <td>11.464122</td>\n",
              "    </tr>\n",
              "    <tr>\n",
              "      <th>1997</th>\n",
              "      <td>1048</td>\n",
              "      <td>6.330031</td>\n",
              "    </tr>\n",
              "    <tr>\n",
              "      <th>2004 ou mais</th>\n",
              "      <td>1021</td>\n",
              "      <td>6.166949</td>\n",
              "    </tr>\n",
              "    <tr>\n",
              "      <th>1996</th>\n",
              "      <td>335</td>\n",
              "      <td>2.023436</td>\n",
              "    </tr>\n",
              "    <tr>\n",
              "      <th>Antes de 1996</th>\n",
              "      <td>267</td>\n",
              "      <td>1.612708</td>\n",
              "    </tr>\n",
              "    <tr>\n",
              "      <th>Não informado</th>\n",
              "      <td>22</td>\n",
              "      <td>0.132882</td>\n",
              "    </tr>\n",
              "  </tbody>\n",
              "</table>\n",
              "</div>"
            ],
            "text/plain": [
              "                         Frequência  Percentual\n",
              "Em que ano você nasceu?                        \n",
              "2002                           2692   16.259966\n",
              "1999                           2555   15.432472\n",
              "2001                           2272   13.723122\n",
              "2000                           2237   13.511718\n",
              "2003                           2209   13.342595\n",
              "1998                           1898   11.464122\n",
              "1997                           1048    6.330031\n",
              "2004 ou mais                   1021    6.166949\n",
              "1996                            335    2.023436\n",
              "Antes de 1996                   267    1.612708\n",
              "Não informado                    22    0.132882"
            ]
          },
          "metadata": {
            "tags": []
          },
          "execution_count": 26
        }
      ]
    },
    {
      "cell_type": "code",
      "metadata": {
        "colab": {
          "base_uri": "https://localhost:8080/",
          "height": 417
        },
        "id": "UYeStvcLh7XQ",
        "outputId": "119ec663-0a59-4d3a-c98f-ea0ed2be0e57"
      },
      "source": [
        "# chamada da função com filtro\r\n",
        "filtro = 'VB01007==2'\r\n",
        "nome_filtro = \"Não mora com o pai\"\r\n",
        "tabela_frequencia(dados,nome_indice,pergunta,filtro,nome_filtro,indices= indices)"
      ],
      "execution_count": null,
      "outputs": [
        {
          "output_type": "execute_result",
          "data": {
            "text/html": [
              "<div>\n",
              "<style scoped>\n",
              "    .dataframe tbody tr th:only-of-type {\n",
              "        vertical-align: middle;\n",
              "    }\n",
              "\n",
              "    .dataframe tbody tr th {\n",
              "        vertical-align: top;\n",
              "    }\n",
              "\n",
              "    .dataframe thead th {\n",
              "        text-align: right;\n",
              "    }\n",
              "</style>\n",
              "<table border=\"1\" class=\"dataframe\">\n",
              "  <thead>\n",
              "    <tr style=\"text-align: right;\">\n",
              "      <th>Não mora com o pai</th>\n",
              "      <th>Frequência</th>\n",
              "      <th>Percentual</th>\n",
              "    </tr>\n",
              "    <tr>\n",
              "      <th>Em que ano você nasceu?</th>\n",
              "      <th></th>\n",
              "      <th></th>\n",
              "    </tr>\n",
              "  </thead>\n",
              "  <tbody>\n",
              "    <tr>\n",
              "      <th>2002</th>\n",
              "      <td>973</td>\n",
              "      <td>16.000658</td>\n",
              "    </tr>\n",
              "    <tr>\n",
              "      <th>1999</th>\n",
              "      <td>929</td>\n",
              "      <td>15.277093</td>\n",
              "    </tr>\n",
              "    <tr>\n",
              "      <th>2001</th>\n",
              "      <td>861</td>\n",
              "      <td>14.158855</td>\n",
              "    </tr>\n",
              "    <tr>\n",
              "      <th>2000</th>\n",
              "      <td>812</td>\n",
              "      <td>13.353067</td>\n",
              "    </tr>\n",
              "    <tr>\n",
              "      <th>1998</th>\n",
              "      <td>739</td>\n",
              "      <td>12.152606</td>\n",
              "    </tr>\n",
              "    <tr>\n",
              "      <th>2003</th>\n",
              "      <td>699</td>\n",
              "      <td>11.494820</td>\n",
              "    </tr>\n",
              "    <tr>\n",
              "      <th>1997</th>\n",
              "      <td>444</td>\n",
              "      <td>7.301431</td>\n",
              "    </tr>\n",
              "    <tr>\n",
              "      <th>2004 ou mais</th>\n",
              "      <td>296</td>\n",
              "      <td>4.867620</td>\n",
              "    </tr>\n",
              "    <tr>\n",
              "      <th>Antes de 1996</th>\n",
              "      <td>169</td>\n",
              "      <td>2.779148</td>\n",
              "    </tr>\n",
              "    <tr>\n",
              "      <th>1996</th>\n",
              "      <td>153</td>\n",
              "      <td>2.516034</td>\n",
              "    </tr>\n",
              "    <tr>\n",
              "      <th>Não informado</th>\n",
              "      <td>6</td>\n",
              "      <td>0.098668</td>\n",
              "    </tr>\n",
              "  </tbody>\n",
              "</table>\n",
              "</div>"
            ],
            "text/plain": [
              "Não mora com o pai       Frequência  Percentual\n",
              "Em que ano você nasceu?                        \n",
              "2002                            973   16.000658\n",
              "1999                            929   15.277093\n",
              "2001                            861   14.158855\n",
              "2000                            812   13.353067\n",
              "1998                            739   12.152606\n",
              "2003                            699   11.494820\n",
              "1997                            444    7.301431\n",
              "2004 ou mais                    296    4.867620\n",
              "Antes de 1996                   169    2.779148\n",
              "1996                            153    2.516034\n",
              "Não informado                     6    0.098668"
            ]
          },
          "metadata": {
            "tags": []
          },
          "execution_count": 27
        }
      ]
    },
    {
      "cell_type": "markdown",
      "metadata": {
        "id": "wZsEyt7awQeD"
      },
      "source": [
        "# Aula 03 - Análises descritivas e testes estatísticos (1/2)"
      ]
    },
    {
      "cell_type": "code",
      "metadata": {
        "colab": {
          "base_uri": "https://localhost:8080/",
          "height": 416
        },
        "id": "-LlRyga3wZqV",
        "outputId": "4d012de9-728e-45ec-ce06-2db92905a5ae"
      },
      "source": [
        "# construir uma tabela de frequencia com base em valores quantitativos\r\n",
        "\r\n",
        "# calcular o IMC (massa/altura²); altura é em metros.\r\n",
        "dados[\"IMC\"] = dados[\"VB17003\"]/(dados[\"VB17004\"]/100)**2\r\n",
        "\r\n",
        "# utilizar a função cut do pandas\r\n",
        "#  include_lowest = True significa incluir o mais baixo como intervalo fechado e o mais alto como intervalo aberto; 0 vai pra abaixo, 18.5 vai pra ideal, assim por diate\r\n",
        "\r\n",
        "classes = [0, 18.5, 25, 30, 60]\r\n",
        "labels = [\"abaixo\", \"ideal\", \"sobrepeso\", \"obesidade\"]\r\n",
        "\r\n",
        "dados[\"CLASSE_IMC\"] = pd.cut(x = dados[\"IMC\"],\r\n",
        "       bins = classes,\r\n",
        "       labels = labels,\r\n",
        "       include_lowest = True)\r\n",
        "\r\n",
        "dados[[\"IMC\",\"CLASSE_IMC\"]]\r\n"
      ],
      "execution_count": null,
      "outputs": [
        {
          "output_type": "execute_result",
          "data": {
            "text/html": [
              "<div>\n",
              "<style scoped>\n",
              "    .dataframe tbody tr th:only-of-type {\n",
              "        vertical-align: middle;\n",
              "    }\n",
              "\n",
              "    .dataframe tbody tr th {\n",
              "        vertical-align: top;\n",
              "    }\n",
              "\n",
              "    .dataframe thead th {\n",
              "        text-align: right;\n",
              "    }\n",
              "</style>\n",
              "<table border=\"1\" class=\"dataframe\">\n",
              "  <thead>\n",
              "    <tr style=\"text-align: right;\">\n",
              "      <th></th>\n",
              "      <th>IMC</th>\n",
              "      <th>CLASSE_IMC</th>\n",
              "    </tr>\n",
              "  </thead>\n",
              "  <tbody>\n",
              "    <tr>\n",
              "      <th>0</th>\n",
              "      <td>15.051321</td>\n",
              "      <td>abaixo</td>\n",
              "    </tr>\n",
              "    <tr>\n",
              "      <th>1</th>\n",
              "      <td>21.727839</td>\n",
              "      <td>ideal</td>\n",
              "    </tr>\n",
              "    <tr>\n",
              "      <th>2</th>\n",
              "      <td>18.502907</td>\n",
              "      <td>ideal</td>\n",
              "    </tr>\n",
              "    <tr>\n",
              "      <th>3</th>\n",
              "      <td>23.322831</td>\n",
              "      <td>ideal</td>\n",
              "    </tr>\n",
              "    <tr>\n",
              "      <th>4</th>\n",
              "      <td>28.122076</td>\n",
              "      <td>sobrepeso</td>\n",
              "    </tr>\n",
              "    <tr>\n",
              "      <th>...</th>\n",
              "      <td>...</td>\n",
              "      <td>...</td>\n",
              "    </tr>\n",
              "    <tr>\n",
              "      <th>16551</th>\n",
              "      <td>20.113223</td>\n",
              "      <td>ideal</td>\n",
              "    </tr>\n",
              "    <tr>\n",
              "      <th>16552</th>\n",
              "      <td>17.930782</td>\n",
              "      <td>abaixo</td>\n",
              "    </tr>\n",
              "    <tr>\n",
              "      <th>16553</th>\n",
              "      <td>23.968489</td>\n",
              "      <td>ideal</td>\n",
              "    </tr>\n",
              "    <tr>\n",
              "      <th>16554</th>\n",
              "      <td>18.995343</td>\n",
              "      <td>ideal</td>\n",
              "    </tr>\n",
              "    <tr>\n",
              "      <th>16555</th>\n",
              "      <td>23.303246</td>\n",
              "      <td>ideal</td>\n",
              "    </tr>\n",
              "  </tbody>\n",
              "</table>\n",
              "<p>16556 rows × 2 columns</p>\n",
              "</div>"
            ],
            "text/plain": [
              "             IMC CLASSE_IMC\n",
              "0      15.051321     abaixo\n",
              "1      21.727839      ideal\n",
              "2      18.502907      ideal\n",
              "3      23.322831      ideal\n",
              "4      28.122076  sobrepeso\n",
              "...          ...        ...\n",
              "16551  20.113223      ideal\n",
              "16552  17.930782     abaixo\n",
              "16553  23.968489      ideal\n",
              "16554  18.995343      ideal\n",
              "16555  23.303246      ideal\n",
              "\n",
              "[16556 rows x 2 columns]"
            ]
          },
          "metadata": {
            "tags": []
          },
          "execution_count": 28
        }
      ]
    },
    {
      "cell_type": "code",
      "metadata": {
        "colab": {
          "base_uri": "https://localhost:8080/"
        },
        "id": "aujFSNxixvr8",
        "outputId": "8a879351-0ca2-468c-a728-1c306d01583d"
      },
      "source": [
        "# para entender o que o labels fez, podemos removê-lo\r\n",
        "\r\n",
        "pd.cut(x = dados[\"IMC\"],\r\n",
        "       bins = classes,\r\n",
        "       include_lowest = True)"
      ],
      "execution_count": null,
      "outputs": [
        {
          "output_type": "execute_result",
          "data": {
            "text/plain": [
              "0        (-0.001, 18.5]\n",
              "1          (18.5, 25.0]\n",
              "2          (18.5, 25.0]\n",
              "3          (18.5, 25.0]\n",
              "4          (25.0, 30.0]\n",
              "              ...      \n",
              "16551      (18.5, 25.0]\n",
              "16552    (-0.001, 18.5]\n",
              "16553      (18.5, 25.0]\n",
              "16554      (18.5, 25.0]\n",
              "16555      (18.5, 25.0]\n",
              "Name: IMC, Length: 16556, dtype: category\n",
              "Categories (4, interval[float64]): [(-0.001, 18.5] < (18.5, 25.0] < (25.0, 30.0] < (30.0, 60.0]]"
            ]
          },
          "metadata": {
            "tags": []
          },
          "execution_count": 29
        }
      ]
    },
    {
      "cell_type": "code",
      "metadata": {
        "colab": {
          "base_uri": "https://localhost:8080/"
        },
        "id": "ig-x5f8k0aJH",
        "outputId": "bed08a53-c26a-42ac-ab93-4508c27e0b6f"
      },
      "source": [
        "# para entender o que o include_lowest fez, podemos removê-lo também\r\n",
        "\r\n",
        "pd.cut(x = dados[\"IMC\"],\r\n",
        "       bins = classes)\r\n",
        "\r\n",
        "# não parece ser o que ele explicou\r\n",
        "# parece ter a ver com o primeiro intervalo\r\n",
        "# a documentação diz: \"Whether the first interval should be left-inclusive or not.\""
      ],
      "execution_count": null,
      "outputs": [
        {
          "output_type": "execute_result",
          "data": {
            "text/plain": [
              "0         (0.0, 18.5]\n",
              "1        (18.5, 25.0]\n",
              "2        (18.5, 25.0]\n",
              "3        (18.5, 25.0]\n",
              "4        (25.0, 30.0]\n",
              "             ...     \n",
              "16551    (18.5, 25.0]\n",
              "16552     (0.0, 18.5]\n",
              "16553    (18.5, 25.0]\n",
              "16554    (18.5, 25.0]\n",
              "16555    (18.5, 25.0]\n",
              "Name: IMC, Length: 16556, dtype: category\n",
              "Categories (4, interval[float64]): [(0.0, 18.5] < (18.5, 25.0] < (25.0, 30.0] < (30.0, 60.0]]"
            ]
          },
          "metadata": {
            "tags": []
          },
          "execution_count": 30
        }
      ]
    },
    {
      "cell_type": "code",
      "metadata": {
        "colab": {
          "base_uri": "https://localhost:8080/",
          "height": 172
        },
        "id": "ftBhsmDz0jtg",
        "outputId": "7494fd63-ca3d-43c3-ce2c-ad27fe1ad6d7"
      },
      "source": [
        "tabela_frequencia(dados,\"Classificação do IMC\",\"CLASSE_IMC\")"
      ],
      "execution_count": null,
      "outputs": [
        {
          "output_type": "execute_result",
          "data": {
            "text/html": [
              "<div>\n",
              "<style scoped>\n",
              "    .dataframe tbody tr th:only-of-type {\n",
              "        vertical-align: middle;\n",
              "    }\n",
              "\n",
              "    .dataframe tbody tr th {\n",
              "        vertical-align: top;\n",
              "    }\n",
              "\n",
              "    .dataframe thead th {\n",
              "        text-align: right;\n",
              "    }\n",
              "</style>\n",
              "<table border=\"1\" class=\"dataframe\">\n",
              "  <thead>\n",
              "    <tr style=\"text-align: right;\">\n",
              "      <th></th>\n",
              "      <th>Frequência</th>\n",
              "      <th>Percentual</th>\n",
              "    </tr>\n",
              "  </thead>\n",
              "  <tbody>\n",
              "    <tr>\n",
              "      <th>ideal</th>\n",
              "      <td>9188</td>\n",
              "      <td>55.496497</td>\n",
              "    </tr>\n",
              "    <tr>\n",
              "      <th>abaixo</th>\n",
              "      <td>4975</td>\n",
              "      <td>30.049529</td>\n",
              "    </tr>\n",
              "    <tr>\n",
              "      <th>sobrepeso</th>\n",
              "      <td>1760</td>\n",
              "      <td>10.630587</td>\n",
              "    </tr>\n",
              "    <tr>\n",
              "      <th>obesidade</th>\n",
              "      <td>633</td>\n",
              "      <td>3.823387</td>\n",
              "    </tr>\n",
              "  </tbody>\n",
              "</table>\n",
              "</div>"
            ],
            "text/plain": [
              "           Frequência  Percentual\n",
              "ideal            9188   55.496497\n",
              "abaixo           4975   30.049529\n",
              "sobrepeso        1760   10.630587\n",
              "obesidade         633    3.823387"
            ]
          },
          "metadata": {
            "tags": []
          },
          "execution_count": 31
        }
      ]
    },
    {
      "cell_type": "markdown",
      "metadata": {
        "id": "VfxAwK1KVCqg"
      },
      "source": [
        "# Aula 03 - Análises descritivas e testes estatísticos (2/2)"
      ]
    },
    {
      "cell_type": "code",
      "metadata": {
        "colab": {
          "base_uri": "https://localhost:8080/",
          "height": 86
        },
        "id": "lBnMmyuTVeU2",
        "outputId": "001af66a-d2c5-4516-c7db-4a6f807630a3"
      },
      "source": [
        "display(dados[\"VB17004\"].min())\r\n",
        "print('\\n')\r\n",
        "display(dados[\"VB17004\"].max())"
      ],
      "execution_count": null,
      "outputs": [
        {
          "output_type": "display_data",
          "data": {
            "text/plain": [
              "124.1"
            ]
          },
          "metadata": {
            "tags": []
          }
        },
        {
          "output_type": "stream",
          "text": [
            "\n",
            "\n"
          ],
          "name": "stdout"
        },
        {
          "output_type": "display_data",
          "data": {
            "text/plain": [
              "195.3"
            ]
          },
          "metadata": {
            "tags": []
          }
        }
      ]
    },
    {
      "cell_type": "markdown",
      "metadata": {
        "id": "6WSRxWK-WCFP"
      },
      "source": [
        "Regra de Sturges: número de classes é proporcional ao tamanho da amostra"
      ]
    },
    {
      "cell_type": "code",
      "metadata": {
        "colab": {
          "base_uri": "https://localhost:8080/",
          "height": 509
        },
        "id": "4aPEh60aWJ1C",
        "outputId": "82a4ec13-ec49-4d6e-c340-9a1b926774f1"
      },
      "source": [
        "import numpy as np\r\n",
        "\r\n",
        "tamanho_amostra = len(dados)\r\n",
        "\r\n",
        "# fórmula de Sturges para determinar o númerod e classes\r\n",
        "k = int(1 + ((10/3) * np.log10(tamanho_amostra)))\r\n",
        "\r\n",
        "dados[\"CLASSE_ALTURA\"] = pd.cut(x = dados[\"VB17004\"],\r\n",
        "       bins = k,\r\n",
        "       include_lowest = True)\r\n",
        "       \r\n",
        "# se desejar inserir os labels:\r\n",
        "#labels = [\"1\",\"2\",\"3\",\"4\",\"5\",\"6\",\"7\",\"8\",\"9\",\"10\",\"11\",\"12\",\"13\",\"14\",\"15\"]\r\n",
        "\r\n",
        "tabela_frequencia(dados,\"Classficação da altura\",\"CLASSE_ALTURA\")"
      ],
      "execution_count": null,
      "outputs": [
        {
          "output_type": "execute_result",
          "data": {
            "text/html": [
              "<div>\n",
              "<style scoped>\n",
              "    .dataframe tbody tr th:only-of-type {\n",
              "        vertical-align: middle;\n",
              "    }\n",
              "\n",
              "    .dataframe tbody tr th {\n",
              "        vertical-align: top;\n",
              "    }\n",
              "\n",
              "    .dataframe thead th {\n",
              "        text-align: right;\n",
              "    }\n",
              "</style>\n",
              "<table border=\"1\" class=\"dataframe\">\n",
              "  <thead>\n",
              "    <tr style=\"text-align: right;\">\n",
              "      <th></th>\n",
              "      <th>Frequência</th>\n",
              "      <th>Percentual</th>\n",
              "    </tr>\n",
              "  </thead>\n",
              "  <tbody>\n",
              "    <tr>\n",
              "      <th>(157.327, 162.073]</th>\n",
              "      <td>3110</td>\n",
              "      <td>18.784731</td>\n",
              "    </tr>\n",
              "    <tr>\n",
              "      <th>(152.58, 157.327]</th>\n",
              "      <td>2734</td>\n",
              "      <td>16.513651</td>\n",
              "    </tr>\n",
              "    <tr>\n",
              "      <th>(162.073, 166.82]</th>\n",
              "      <td>2550</td>\n",
              "      <td>15.402271</td>\n",
              "    </tr>\n",
              "    <tr>\n",
              "      <th>(166.82, 171.567]</th>\n",
              "      <td>2063</td>\n",
              "      <td>12.460739</td>\n",
              "    </tr>\n",
              "    <tr>\n",
              "      <th>(147.833, 152.58]</th>\n",
              "      <td>1782</td>\n",
              "      <td>10.763469</td>\n",
              "    </tr>\n",
              "    <tr>\n",
              "      <th>(171.567, 176.313]</th>\n",
              "      <td>1416</td>\n",
              "      <td>8.552791</td>\n",
              "    </tr>\n",
              "    <tr>\n",
              "      <th>(143.087, 147.833]</th>\n",
              "      <td>1012</td>\n",
              "      <td>6.112588</td>\n",
              "    </tr>\n",
              "    <tr>\n",
              "      <th>(176.313, 181.06]</th>\n",
              "      <td>749</td>\n",
              "      <td>4.524040</td>\n",
              "    </tr>\n",
              "    <tr>\n",
              "      <th>(138.34, 143.087]</th>\n",
              "      <td>484</td>\n",
              "      <td>2.923411</td>\n",
              "    </tr>\n",
              "    <tr>\n",
              "      <th>(181.06, 185.807]</th>\n",
              "      <td>300</td>\n",
              "      <td>1.812032</td>\n",
              "    </tr>\n",
              "    <tr>\n",
              "      <th>(133.593, 138.34]</th>\n",
              "      <td>199</td>\n",
              "      <td>1.201981</td>\n",
              "    </tr>\n",
              "    <tr>\n",
              "      <th>(185.807, 190.553]</th>\n",
              "      <td>94</td>\n",
              "      <td>0.567770</td>\n",
              "    </tr>\n",
              "    <tr>\n",
              "      <th>(128.847, 133.593]</th>\n",
              "      <td>47</td>\n",
              "      <td>0.283885</td>\n",
              "    </tr>\n",
              "    <tr>\n",
              "      <th>(190.553, 195.3]</th>\n",
              "      <td>13</td>\n",
              "      <td>0.078521</td>\n",
              "    </tr>\n",
              "    <tr>\n",
              "      <th>(124.02799999999999, 128.847]</th>\n",
              "      <td>3</td>\n",
              "      <td>0.018120</td>\n",
              "    </tr>\n",
              "  </tbody>\n",
              "</table>\n",
              "</div>"
            ],
            "text/plain": [
              "                               Frequência  Percentual\n",
              "(157.327, 162.073]                   3110   18.784731\n",
              "(152.58, 157.327]                    2734   16.513651\n",
              "(162.073, 166.82]                    2550   15.402271\n",
              "(166.82, 171.567]                    2063   12.460739\n",
              "(147.833, 152.58]                    1782   10.763469\n",
              "(171.567, 176.313]                   1416    8.552791\n",
              "(143.087, 147.833]                   1012    6.112588\n",
              "(176.313, 181.06]                     749    4.524040\n",
              "(138.34, 143.087]                     484    2.923411\n",
              "(181.06, 185.807]                     300    1.812032\n",
              "(133.593, 138.34]                     199    1.201981\n",
              "(185.807, 190.553]                     94    0.567770\n",
              "(128.847, 133.593]                     47    0.283885\n",
              "(190.553, 195.3]                       13    0.078521\n",
              "(124.02799999999999, 128.847]           3    0.018120"
            ]
          },
          "metadata": {
            "tags": []
          },
          "execution_count": 33
        }
      ]
    },
    {
      "cell_type": "markdown",
      "metadata": {
        "id": "7PtDbjpuZC1b"
      },
      "source": [
        "## Desafio: criar uma tabela de frequência para o peso"
      ]
    },
    {
      "cell_type": "code",
      "metadata": {
        "colab": {
          "base_uri": "https://localhost:8080/",
          "height": 509
        },
        "id": "NmIhLtmaZeRm",
        "outputId": "e854263a-7ec6-4d54-d92c-a0efe354cd46"
      },
      "source": [
        "tamanho_amostra = len(dados)\r\n",
        "\r\n",
        "# fórmula de Sturges para determinar o númerod e classes\r\n",
        "k = int(1 + ((10/3) * np.log10(tamanho_amostra)))\r\n",
        "\r\n",
        "dados[\"CLASSE_PESO\"] = pd.cut(x = dados[\"VB17003\"],\r\n",
        "       bins = k,\r\n",
        "       include_lowest = True)\r\n",
        "       \r\n",
        "tabela_frequencia(dados,\"Classficação do peso\",\"CLASSE_PESO\")"
      ],
      "execution_count": null,
      "outputs": [
        {
          "output_type": "execute_result",
          "data": {
            "text/html": [
              "<div>\n",
              "<style scoped>\n",
              "    .dataframe tbody tr th:only-of-type {\n",
              "        vertical-align: middle;\n",
              "    }\n",
              "\n",
              "    .dataframe tbody tr th {\n",
              "        vertical-align: top;\n",
              "    }\n",
              "\n",
              "    .dataframe thead th {\n",
              "        text-align: right;\n",
              "    }\n",
              "</style>\n",
              "<table border=\"1\" class=\"dataframe\">\n",
              "  <thead>\n",
              "    <tr style=\"text-align: right;\">\n",
              "      <th></th>\n",
              "      <th>Frequência</th>\n",
              "      <th>Percentual</th>\n",
              "    </tr>\n",
              "  </thead>\n",
              "  <tbody>\n",
              "    <tr>\n",
              "      <th>(46.32, 57.7]</th>\n",
              "      <td>5754</td>\n",
              "      <td>34.754772</td>\n",
              "    </tr>\n",
              "    <tr>\n",
              "      <th>(34.94, 46.32]</th>\n",
              "      <td>3852</td>\n",
              "      <td>23.266489</td>\n",
              "    </tr>\n",
              "    <tr>\n",
              "      <th>(57.7, 69.08]</th>\n",
              "      <td>3724</td>\n",
              "      <td>22.493356</td>\n",
              "    </tr>\n",
              "    <tr>\n",
              "      <th>(69.08, 80.46]</th>\n",
              "      <td>1425</td>\n",
              "      <td>8.607151</td>\n",
              "    </tr>\n",
              "    <tr>\n",
              "      <th>(23.56, 34.94]</th>\n",
              "      <td>927</td>\n",
              "      <td>5.599179</td>\n",
              "    </tr>\n",
              "    <tr>\n",
              "      <th>(80.46, 91.84]</th>\n",
              "      <td>544</td>\n",
              "      <td>3.285818</td>\n",
              "    </tr>\n",
              "    <tr>\n",
              "      <th>(91.84, 103.22]</th>\n",
              "      <td>202</td>\n",
              "      <td>1.220101</td>\n",
              "    </tr>\n",
              "    <tr>\n",
              "      <th>(103.22, 114.6]</th>\n",
              "      <td>77</td>\n",
              "      <td>0.465088</td>\n",
              "    </tr>\n",
              "    <tr>\n",
              "      <th>(114.6, 125.98]</th>\n",
              "      <td>20</td>\n",
              "      <td>0.120802</td>\n",
              "    </tr>\n",
              "    <tr>\n",
              "      <th>(125.98, 137.36]</th>\n",
              "      <td>15</td>\n",
              "      <td>0.090602</td>\n",
              "    </tr>\n",
              "    <tr>\n",
              "      <th>(137.36, 148.74]</th>\n",
              "      <td>6</td>\n",
              "      <td>0.036241</td>\n",
              "    </tr>\n",
              "    <tr>\n",
              "      <th>(148.74, 160.12]</th>\n",
              "      <td>4</td>\n",
              "      <td>0.024160</td>\n",
              "    </tr>\n",
              "    <tr>\n",
              "      <th>(12.18, 23.56]</th>\n",
              "      <td>3</td>\n",
              "      <td>0.018120</td>\n",
              "    </tr>\n",
              "    <tr>\n",
              "      <th>(160.12, 171.5]</th>\n",
              "      <td>2</td>\n",
              "      <td>0.012080</td>\n",
              "    </tr>\n",
              "    <tr>\n",
              "      <th>(0.628, 12.18]</th>\n",
              "      <td>1</td>\n",
              "      <td>0.006040</td>\n",
              "    </tr>\n",
              "  </tbody>\n",
              "</table>\n",
              "</div>"
            ],
            "text/plain": [
              "                  Frequência  Percentual\n",
              "(46.32, 57.7]           5754   34.754772\n",
              "(34.94, 46.32]          3852   23.266489\n",
              "(57.7, 69.08]           3724   22.493356\n",
              "(69.08, 80.46]          1425    8.607151\n",
              "(23.56, 34.94]           927    5.599179\n",
              "(80.46, 91.84]           544    3.285818\n",
              "(91.84, 103.22]          202    1.220101\n",
              "(103.22, 114.6]           77    0.465088\n",
              "(114.6, 125.98]           20    0.120802\n",
              "(125.98, 137.36]          15    0.090602\n",
              "(137.36, 148.74]           6    0.036241\n",
              "(148.74, 160.12]           4    0.024160\n",
              "(12.18, 23.56]             3    0.018120\n",
              "(160.12, 171.5]            2    0.012080\n",
              "(0.628, 12.18]             1    0.006040"
            ]
          },
          "metadata": {
            "tags": []
          },
          "execution_count": 34
        }
      ]
    },
    {
      "cell_type": "markdown",
      "metadata": {
        "id": "QXOQE2qwZ3Nw"
      },
      "source": [
        "E se eu quiser analisar se a satisfação do corpo tem alguma relação em meninos e meninas?"
      ]
    },
    {
      "cell_type": "code",
      "metadata": {
        "colab": {
          "base_uri": "https://localhost:8080/",
          "height": 264
        },
        "id": "HMRqGeQfZ-gy",
        "outputId": "2f7ecd57-36fe-4cfc-b5ea-8c4c0e620af3"
      },
      "source": [
        "# existe uma funcionalidade do pandas chamada cross_tab\r\n",
        "frequencia_cruzada = pd.crosstab(dados[\"VB11007\"],dados[\"VB01001\"],rownames=[\"Satisfação do corpo\"],colnames=[\"Sexo\"],normalize=True) * 100\r\n",
        "frequencia_cruzada.rename(index=respostas,columns={1: \"Masculino\", 2: \"Feminino\"},inplace=True)\r\n",
        "\r\n",
        "frequencia_cruzada\r\n",
        "\r\n",
        "# repare que o \"normalize = True\" normalizou o total dos dados"
      ],
      "execution_count": null,
      "outputs": [
        {
          "output_type": "execute_result",
          "data": {
            "text/html": [
              "<div>\n",
              "<style scoped>\n",
              "    .dataframe tbody tr th:only-of-type {\n",
              "        vertical-align: middle;\n",
              "    }\n",
              "\n",
              "    .dataframe tbody tr th {\n",
              "        vertical-align: top;\n",
              "    }\n",
              "\n",
              "    .dataframe thead th {\n",
              "        text-align: right;\n",
              "    }\n",
              "</style>\n",
              "<table border=\"1\" class=\"dataframe\">\n",
              "  <thead>\n",
              "    <tr style=\"text-align: right;\">\n",
              "      <th>Sexo</th>\n",
              "      <th>Masculino</th>\n",
              "      <th>Feminino</th>\n",
              "    </tr>\n",
              "    <tr>\n",
              "      <th>Satisfação do corpo</th>\n",
              "      <th></th>\n",
              "      <th></th>\n",
              "    </tr>\n",
              "  </thead>\n",
              "  <tbody>\n",
              "    <tr>\n",
              "      <th>Muito satisfeito</th>\n",
              "      <td>16.199565</td>\n",
              "      <td>11.633245</td>\n",
              "    </tr>\n",
              "    <tr>\n",
              "      <th>Satisfeito</th>\n",
              "      <td>21.079971</td>\n",
              "      <td>20.717565</td>\n",
              "    </tr>\n",
              "    <tr>\n",
              "      <th>Indiferente</th>\n",
              "      <td>5.738101</td>\n",
              "      <td>5.176371</td>\n",
              "    </tr>\n",
              "    <tr>\n",
              "      <th>Insatisfeito</th>\n",
              "      <td>4.747524</td>\n",
              "      <td>9.301764</td>\n",
              "    </tr>\n",
              "    <tr>\n",
              "      <th>Muito insatisfeito</th>\n",
              "      <td>1.570428</td>\n",
              "      <td>2.742208</td>\n",
              "    </tr>\n",
              "    <tr>\n",
              "      <th>Não Informado</th>\n",
              "      <td>0.718773</td>\n",
              "      <td>0.374487</td>\n",
              "    </tr>\n",
              "  </tbody>\n",
              "</table>\n",
              "</div>"
            ],
            "text/plain": [
              "Sexo                 Masculino   Feminino\n",
              "Satisfação do corpo                      \n",
              "Muito satisfeito     16.199565  11.633245\n",
              "Satisfeito           21.079971  20.717565\n",
              "Indiferente           5.738101   5.176371\n",
              "Insatisfeito          4.747524   9.301764\n",
              "Muito insatisfeito    1.570428   2.742208\n",
              "Não Informado         0.718773   0.374487"
            ]
          },
          "metadata": {
            "tags": []
          },
          "execution_count": 35
        }
      ]
    },
    {
      "cell_type": "code",
      "metadata": {
        "colab": {
          "base_uri": "https://localhost:8080/",
          "height": 264
        },
        "id": "puPOAR2ubKxl",
        "outputId": "0a92614a-922f-4fcc-aabb-aa92d06c68c1"
      },
      "source": [
        "# podemos efetuar a normalização por coluna\r\n",
        "\r\n",
        "frequencia_cruzada = pd.crosstab(dados[\"VB11007\"],dados[\"VB01001\"],rownames=[\"Satisfação do corpo\"],colnames=[\"Sexo\"],normalize='columns') * 100\r\n",
        "frequencia_cruzada.rename(index=respostas,columns={1: \"Masculino\", 2: \"Feminino\"},inplace=True)\r\n",
        "\r\n",
        "frequencia_cruzada"
      ],
      "execution_count": null,
      "outputs": [
        {
          "output_type": "execute_result",
          "data": {
            "text/html": [
              "<div>\n",
              "<style scoped>\n",
              "    .dataframe tbody tr th:only-of-type {\n",
              "        vertical-align: middle;\n",
              "    }\n",
              "\n",
              "    .dataframe tbody tr th {\n",
              "        vertical-align: top;\n",
              "    }\n",
              "\n",
              "    .dataframe thead th {\n",
              "        text-align: right;\n",
              "    }\n",
              "</style>\n",
              "<table border=\"1\" class=\"dataframe\">\n",
              "  <thead>\n",
              "    <tr style=\"text-align: right;\">\n",
              "      <th>Sexo</th>\n",
              "      <th>Masculino</th>\n",
              "      <th>Feminino</th>\n",
              "    </tr>\n",
              "    <tr>\n",
              "      <th>Satisfação do corpo</th>\n",
              "      <th></th>\n",
              "      <th></th>\n",
              "    </tr>\n",
              "  </thead>\n",
              "  <tbody>\n",
              "    <tr>\n",
              "      <th>Muito satisfeito</th>\n",
              "      <td>32.363944</td>\n",
              "      <td>23.291813</td>\n",
              "    </tr>\n",
              "    <tr>\n",
              "      <th>Satisfeito</th>\n",
              "      <td>42.114155</td>\n",
              "      <td>41.480227</td>\n",
              "    </tr>\n",
              "    <tr>\n",
              "      <th>Indiferente</th>\n",
              "      <td>11.463738</td>\n",
              "      <td>10.364010</td>\n",
              "    </tr>\n",
              "    <tr>\n",
              "      <th>Insatisfeito</th>\n",
              "      <td>9.484735</td>\n",
              "      <td>18.623776</td>\n",
              "    </tr>\n",
              "    <tr>\n",
              "      <th>Muito insatisfeito</th>\n",
              "      <td>3.137444</td>\n",
              "      <td>5.490386</td>\n",
              "    </tr>\n",
              "    <tr>\n",
              "      <th>Não Informado</th>\n",
              "      <td>1.435984</td>\n",
              "      <td>0.749788</td>\n",
              "    </tr>\n",
              "  </tbody>\n",
              "</table>\n",
              "</div>"
            ],
            "text/plain": [
              "Sexo                 Masculino   Feminino\n",
              "Satisfação do corpo                      \n",
              "Muito satisfeito     32.363944  23.291813\n",
              "Satisfeito           42.114155  41.480227\n",
              "Indiferente          11.463738  10.364010\n",
              "Insatisfeito          9.484735  18.623776\n",
              "Muito insatisfeito    3.137444   5.490386\n",
              "Não Informado         1.435984   0.749788"
            ]
          },
          "metadata": {
            "tags": []
          },
          "execution_count": 36
        }
      ]
    },
    {
      "cell_type": "code",
      "metadata": {
        "colab": {
          "base_uri": "https://localhost:8080/",
          "height": 264
        },
        "id": "sEZ48ORibLh-",
        "outputId": "b2556f9a-f445-41bf-e70a-030dab47b9fe"
      },
      "source": [
        "# podemos efetuar a normalização por índices também\r\n",
        "\r\n",
        "frequencia_cruzada = pd.crosstab(dados[\"VB11007\"],dados[\"VB01001\"],rownames=[\"Satisfação do corpo\"],colnames=[\"Sexo\"],normalize='index' ) * 100\r\n",
        "frequencia_cruzada.rename(index=respostas,columns={1: \"Masculino\", 2: \"Feminino\"},inplace=True)\r\n",
        "\r\n",
        "frequencia_cruzada"
      ],
      "execution_count": null,
      "outputs": [
        {
          "output_type": "execute_result",
          "data": {
            "text/html": [
              "<div>\n",
              "<style scoped>\n",
              "    .dataframe tbody tr th:only-of-type {\n",
              "        vertical-align: middle;\n",
              "    }\n",
              "\n",
              "    .dataframe tbody tr th {\n",
              "        vertical-align: top;\n",
              "    }\n",
              "\n",
              "    .dataframe thead th {\n",
              "        text-align: right;\n",
              "    }\n",
              "</style>\n",
              "<table border=\"1\" class=\"dataframe\">\n",
              "  <thead>\n",
              "    <tr style=\"text-align: right;\">\n",
              "      <th>Sexo</th>\n",
              "      <th>Masculino</th>\n",
              "      <th>Feminino</th>\n",
              "    </tr>\n",
              "    <tr>\n",
              "      <th>Satisfação do corpo</th>\n",
              "      <th></th>\n",
              "      <th></th>\n",
              "    </tr>\n",
              "  </thead>\n",
              "  <tbody>\n",
              "    <tr>\n",
              "      <th>Muito satisfeito</th>\n",
              "      <td>58.203125</td>\n",
              "      <td>41.796875</td>\n",
              "    </tr>\n",
              "    <tr>\n",
              "      <th>Satisfeito</th>\n",
              "      <td>50.433526</td>\n",
              "      <td>49.566474</td>\n",
              "    </tr>\n",
              "    <tr>\n",
              "      <th>Indiferente</th>\n",
              "      <td>52.573326</td>\n",
              "      <td>47.426674</td>\n",
              "    </tr>\n",
              "    <tr>\n",
              "      <th>Insatisfeito</th>\n",
              "      <td>33.791917</td>\n",
              "      <td>66.208083</td>\n",
              "    </tr>\n",
              "    <tr>\n",
              "      <th>Muito insatisfeito</th>\n",
              "      <td>36.414566</td>\n",
              "      <td>63.585434</td>\n",
              "    </tr>\n",
              "    <tr>\n",
              "      <th>Não Informado</th>\n",
              "      <td>65.745856</td>\n",
              "      <td>34.254144</td>\n",
              "    </tr>\n",
              "  </tbody>\n",
              "</table>\n",
              "</div>"
            ],
            "text/plain": [
              "Sexo                 Masculino   Feminino\n",
              "Satisfação do corpo                      \n",
              "Muito satisfeito     58.203125  41.796875\n",
              "Satisfeito           50.433526  49.566474\n",
              "Indiferente          52.573326  47.426674\n",
              "Insatisfeito         33.791917  66.208083\n",
              "Muito insatisfeito   36.414566  63.585434\n",
              "Não Informado        65.745856  34.254144"
            ]
          },
          "metadata": {
            "tags": []
          },
          "execution_count": 37
        }
      ]
    },
    {
      "cell_type": "markdown",
      "metadata": {
        "id": "3-FXCFplf3pp"
      },
      "source": [
        "## Desafio: criar outros crosstabs e pesquisar sobre o parâmetro aggfunc e testar"
      ]
    },
    {
      "cell_type": "code",
      "metadata": {
        "colab": {
          "base_uri": "https://localhost:8080/",
          "height": 417
        },
        "id": "NZqIXJHHink4",
        "outputId": "3bc2b567-e7b2-4928-d73b-eb0c203b9d23"
      },
      "source": [
        "indices = {\r\n",
        "    1: \"Antes de 1996\",\r\n",
        "    2:\t\"1996\",\r\n",
        "    3:\t\"1997\",\r\n",
        "    4:\t\"1998\",\r\n",
        "    5:\t\"1999\",\r\n",
        "    6:\t\"2000\",\r\n",
        "    7:\t\"2001\",\r\n",
        "    8:\t\"2002\",\r\n",
        "    9:\t\"2003\",\r\n",
        "    10:\t\"2004 ou mais\",\r\n",
        "    99:\t\"Não informado\",\r\n",
        "}\r\n",
        "\r\n",
        "frequencia_cruzada = pd.crosstab(dados[\"VB01005\"],dados[\"VB01007\"],rownames=[\"Ano que nasceu\"], colnames=[\"Mora com o pai\"], normalize='index') * 100\r\n",
        "frequencia_cruzada.rename(index=indices,columns={1: \"Sim\", 2: \"Não\", 99: \"Não informado\"},inplace=True)\r\n",
        "\r\n",
        "frequencia_cruzada\r\n",
        "\r\n"
      ],
      "execution_count": null,
      "outputs": [
        {
          "output_type": "execute_result",
          "data": {
            "text/html": [
              "<div>\n",
              "<style scoped>\n",
              "    .dataframe tbody tr th:only-of-type {\n",
              "        vertical-align: middle;\n",
              "    }\n",
              "\n",
              "    .dataframe tbody tr th {\n",
              "        vertical-align: top;\n",
              "    }\n",
              "\n",
              "    .dataframe thead th {\n",
              "        text-align: right;\n",
              "    }\n",
              "</style>\n",
              "<table border=\"1\" class=\"dataframe\">\n",
              "  <thead>\n",
              "    <tr style=\"text-align: right;\">\n",
              "      <th>Mora com o pai</th>\n",
              "      <th>Sim</th>\n",
              "      <th>Não</th>\n",
              "      <th>Não informado</th>\n",
              "    </tr>\n",
              "    <tr>\n",
              "      <th>Ano que nasceu</th>\n",
              "      <th></th>\n",
              "      <th></th>\n",
              "      <th></th>\n",
              "    </tr>\n",
              "  </thead>\n",
              "  <tbody>\n",
              "    <tr>\n",
              "      <th>Antes de 1996</th>\n",
              "      <td>36.704120</td>\n",
              "      <td>63.295880</td>\n",
              "      <td>0.000000</td>\n",
              "    </tr>\n",
              "    <tr>\n",
              "      <th>1996</th>\n",
              "      <td>54.328358</td>\n",
              "      <td>45.671642</td>\n",
              "      <td>0.000000</td>\n",
              "    </tr>\n",
              "    <tr>\n",
              "      <th>1997</th>\n",
              "      <td>57.633588</td>\n",
              "      <td>42.366412</td>\n",
              "      <td>0.000000</td>\n",
              "    </tr>\n",
              "    <tr>\n",
              "      <th>1998</th>\n",
              "      <td>61.011591</td>\n",
              "      <td>38.935722</td>\n",
              "      <td>0.052687</td>\n",
              "    </tr>\n",
              "    <tr>\n",
              "      <th>1999</th>\n",
              "      <td>63.600783</td>\n",
              "      <td>36.360078</td>\n",
              "      <td>0.039139</td>\n",
              "    </tr>\n",
              "    <tr>\n",
              "      <th>2000</th>\n",
              "      <td>63.611980</td>\n",
              "      <td>36.298614</td>\n",
              "      <td>0.089405</td>\n",
              "    </tr>\n",
              "    <tr>\n",
              "      <th>2001</th>\n",
              "      <td>61.971831</td>\n",
              "      <td>37.896127</td>\n",
              "      <td>0.132042</td>\n",
              "    </tr>\n",
              "    <tr>\n",
              "      <th>2002</th>\n",
              "      <td>63.818722</td>\n",
              "      <td>36.144131</td>\n",
              "      <td>0.037147</td>\n",
              "    </tr>\n",
              "    <tr>\n",
              "      <th>2003</th>\n",
              "      <td>68.175645</td>\n",
              "      <td>31.643278</td>\n",
              "      <td>0.181077</td>\n",
              "    </tr>\n",
              "    <tr>\n",
              "      <th>2004 ou mais</th>\n",
              "      <td>70.714985</td>\n",
              "      <td>28.991185</td>\n",
              "      <td>0.293830</td>\n",
              "    </tr>\n",
              "    <tr>\n",
              "      <th>Não informado</th>\n",
              "      <td>72.727273</td>\n",
              "      <td>27.272727</td>\n",
              "      <td>0.000000</td>\n",
              "    </tr>\n",
              "  </tbody>\n",
              "</table>\n",
              "</div>"
            ],
            "text/plain": [
              "Mora com o pai        Sim        Não  Não informado\n",
              "Ano que nasceu                                     \n",
              "Antes de 1996   36.704120  63.295880       0.000000\n",
              "1996            54.328358  45.671642       0.000000\n",
              "1997            57.633588  42.366412       0.000000\n",
              "1998            61.011591  38.935722       0.052687\n",
              "1999            63.600783  36.360078       0.039139\n",
              "2000            63.611980  36.298614       0.089405\n",
              "2001            61.971831  37.896127       0.132042\n",
              "2002            63.818722  36.144131       0.037147\n",
              "2003            68.175645  31.643278       0.181077\n",
              "2004 ou mais    70.714985  28.991185       0.293830\n",
              "Não informado   72.727273  27.272727       0.000000"
            ]
          },
          "metadata": {
            "tags": []
          },
          "execution_count": 38
        }
      ]
    },
    {
      "cell_type": "code",
      "metadata": {
        "colab": {
          "base_uri": "https://localhost:8080/",
          "height": 417
        },
        "id": "po8AIqsyovsy",
        "outputId": "f1b20618-95bf-4cdb-fd25-5e095d992c37"
      },
      "source": [
        "frequencia_cruzada = pd.crosstab(dados[\"VB01005\"],dados[\"VB01006\"],rownames=[\"Ano que nasceu\"], colnames=[\"Mora com a mãe\"], normalize='index') * 100\r\n",
        "frequencia_cruzada.rename(index=indices,columns={1: \"Sim\", 2: \"Não\", 99: \"Não informado\"},inplace=True)\r\n",
        "\r\n",
        "frequencia_cruzada\r\n"
      ],
      "execution_count": null,
      "outputs": [
        {
          "output_type": "execute_result",
          "data": {
            "text/html": [
              "<div>\n",
              "<style scoped>\n",
              "    .dataframe tbody tr th:only-of-type {\n",
              "        vertical-align: middle;\n",
              "    }\n",
              "\n",
              "    .dataframe tbody tr th {\n",
              "        vertical-align: top;\n",
              "    }\n",
              "\n",
              "    .dataframe thead th {\n",
              "        text-align: right;\n",
              "    }\n",
              "</style>\n",
              "<table border=\"1\" class=\"dataframe\">\n",
              "  <thead>\n",
              "    <tr style=\"text-align: right;\">\n",
              "      <th>Mora com a mãe</th>\n",
              "      <th>Sim</th>\n",
              "      <th>Não</th>\n",
              "      <th>Não informado</th>\n",
              "    </tr>\n",
              "    <tr>\n",
              "      <th>Ano que nasceu</th>\n",
              "      <th></th>\n",
              "      <th></th>\n",
              "      <th></th>\n",
              "    </tr>\n",
              "  </thead>\n",
              "  <tbody>\n",
              "    <tr>\n",
              "      <th>Antes de 1996</th>\n",
              "      <td>56.554307</td>\n",
              "      <td>43.445693</td>\n",
              "      <td>0.000000</td>\n",
              "    </tr>\n",
              "    <tr>\n",
              "      <th>1996</th>\n",
              "      <td>79.104478</td>\n",
              "      <td>20.895522</td>\n",
              "      <td>0.000000</td>\n",
              "    </tr>\n",
              "    <tr>\n",
              "      <th>1997</th>\n",
              "      <td>84.828244</td>\n",
              "      <td>15.171756</td>\n",
              "      <td>0.000000</td>\n",
              "    </tr>\n",
              "    <tr>\n",
              "      <th>1998</th>\n",
              "      <td>86.775553</td>\n",
              "      <td>13.171760</td>\n",
              "      <td>0.052687</td>\n",
              "    </tr>\n",
              "    <tr>\n",
              "      <th>1999</th>\n",
              "      <td>87.984344</td>\n",
              "      <td>11.937378</td>\n",
              "      <td>0.078278</td>\n",
              "    </tr>\n",
              "    <tr>\n",
              "      <th>2000</th>\n",
              "      <td>88.913724</td>\n",
              "      <td>11.086276</td>\n",
              "      <td>0.000000</td>\n",
              "    </tr>\n",
              "    <tr>\n",
              "      <th>2001</th>\n",
              "      <td>89.964789</td>\n",
              "      <td>9.947183</td>\n",
              "      <td>0.088028</td>\n",
              "    </tr>\n",
              "    <tr>\n",
              "      <th>2002</th>\n",
              "      <td>90.676077</td>\n",
              "      <td>9.249629</td>\n",
              "      <td>0.074294</td>\n",
              "    </tr>\n",
              "    <tr>\n",
              "      <th>2003</th>\n",
              "      <td>91.806247</td>\n",
              "      <td>8.103214</td>\n",
              "      <td>0.090539</td>\n",
              "    </tr>\n",
              "    <tr>\n",
              "      <th>2004 ou mais</th>\n",
              "      <td>93.829579</td>\n",
              "      <td>5.974535</td>\n",
              "      <td>0.195886</td>\n",
              "    </tr>\n",
              "    <tr>\n",
              "      <th>Não informado</th>\n",
              "      <td>86.363636</td>\n",
              "      <td>13.636364</td>\n",
              "      <td>0.000000</td>\n",
              "    </tr>\n",
              "  </tbody>\n",
              "</table>\n",
              "</div>"
            ],
            "text/plain": [
              "Mora com a mãe        Sim        Não  Não informado\n",
              "Ano que nasceu                                     \n",
              "Antes de 1996   56.554307  43.445693       0.000000\n",
              "1996            79.104478  20.895522       0.000000\n",
              "1997            84.828244  15.171756       0.000000\n",
              "1998            86.775553  13.171760       0.052687\n",
              "1999            87.984344  11.937378       0.078278\n",
              "2000            88.913724  11.086276       0.000000\n",
              "2001            89.964789   9.947183       0.088028\n",
              "2002            90.676077   9.249629       0.074294\n",
              "2003            91.806247   8.103214       0.090539\n",
              "2004 ou mais    93.829579   5.974535       0.195886\n",
              "Não informado   86.363636  13.636364       0.000000"
            ]
          },
          "metadata": {
            "tags": []
          },
          "execution_count": 39
        }
      ]
    },
    {
      "cell_type": "code",
      "metadata": {
        "colab": {
          "base_uri": "https://localhost:8080/",
          "height": 172
        },
        "id": "mjKbL4iviwY2",
        "outputId": "870bae3c-373e-47ac-e423-ed5521222f29"
      },
      "source": [
        "frequencia_cruzada = pd.crosstab(dados[\"VB01006\"],dados[\"VB01007\"],rownames=[\"Mora com a mãe\"], colnames=[\"Mora com o pai\"], normalize='index') * 100\r\n",
        "frequencia_cruzada.rename(index={1: \"Sim\", 2: \"Não\", 99: \"Não informado\"}, columns={1: \"Sim\", 2: \"Não\", 99: \"Não informado\"},inplace=True)\r\n",
        "\r\n",
        "frequencia_cruzada"
      ],
      "execution_count": null,
      "outputs": [
        {
          "output_type": "execute_result",
          "data": {
            "text/html": [
              "<div>\n",
              "<style scoped>\n",
              "    .dataframe tbody tr th:only-of-type {\n",
              "        vertical-align: middle;\n",
              "    }\n",
              "\n",
              "    .dataframe tbody tr th {\n",
              "        vertical-align: top;\n",
              "    }\n",
              "\n",
              "    .dataframe thead th {\n",
              "        text-align: right;\n",
              "    }\n",
              "</style>\n",
              "<table border=\"1\" class=\"dataframe\">\n",
              "  <thead>\n",
              "    <tr style=\"text-align: right;\">\n",
              "      <th>Mora com o pai</th>\n",
              "      <th>Sim</th>\n",
              "      <th>Não</th>\n",
              "      <th>Não informado</th>\n",
              "    </tr>\n",
              "    <tr>\n",
              "      <th>Mora com a mãe</th>\n",
              "      <th></th>\n",
              "      <th></th>\n",
              "      <th></th>\n",
              "    </tr>\n",
              "  </thead>\n",
              "  <tbody>\n",
              "    <tr>\n",
              "      <th>Sim</th>\n",
              "      <td>66.005859</td>\n",
              "      <td>33.946454</td>\n",
              "      <td>0.047687</td>\n",
              "    </tr>\n",
              "    <tr>\n",
              "      <th>Não</th>\n",
              "      <td>41.211147</td>\n",
              "      <td>58.735263</td>\n",
              "      <td>0.053591</td>\n",
              "    </tr>\n",
              "    <tr>\n",
              "      <th>Não informado</th>\n",
              "      <td>18.181818</td>\n",
              "      <td>18.181818</td>\n",
              "      <td>63.636364</td>\n",
              "    </tr>\n",
              "  </tbody>\n",
              "</table>\n",
              "</div>"
            ],
            "text/plain": [
              "Mora com o pai        Sim        Não  Não informado\n",
              "Mora com a mãe                                     \n",
              "Sim             66.005859  33.946454       0.047687\n",
              "Não             41.211147  58.735263       0.053591\n",
              "Não informado   18.181818  18.181818      63.636364"
            ]
          },
          "metadata": {
            "tags": []
          },
          "execution_count": 40
        }
      ]
    },
    {
      "cell_type": "markdown",
      "metadata": {
        "id": "gb1AoHH2pjn4"
      },
      "source": [
        "Normalizando pelas linhas: daqueles que respondem que moram a mãe, a maioria também diz que mora com o pai.\r\n",
        "Daqueles que não moram com a mãe, a maioria também não mora com o pai."
      ]
    },
    {
      "cell_type": "code",
      "metadata": {
        "colab": {
          "base_uri": "https://localhost:8080/",
          "height": 172
        },
        "id": "FsWGeAnHpEO8",
        "outputId": "9aa84df9-b662-47be-db29-6542c64849a1"
      },
      "source": [
        "frequencia_cruzada = pd.crosstab(dados[\"VB01006\"],dados[\"VB01007\"],rownames=[\"Mora com a mãe\"], colnames=[\"Mora com o pai\"], normalize='columns') * 100\r\n",
        "frequencia_cruzada.rename(index={1: \"Sim\", 2: \"Não\", 99: \"Não informado\"}, columns={1: \"Sim\", 2: \"Não\", 99: \"Não informado\"},inplace=True)\r\n",
        "\r\n",
        "frequencia_cruzada"
      ],
      "execution_count": null,
      "outputs": [
        {
          "output_type": "execute_result",
          "data": {
            "text/html": [
              "<div>\n",
              "<style scoped>\n",
              "    .dataframe tbody tr th:only-of-type {\n",
              "        vertical-align: middle;\n",
              "    }\n",
              "\n",
              "    .dataframe tbody tr th {\n",
              "        vertical-align: top;\n",
              "    }\n",
              "\n",
              "    .dataframe thead th {\n",
              "        text-align: right;\n",
              "    }\n",
              "</style>\n",
              "<table border=\"1\" class=\"dataframe\">\n",
              "  <thead>\n",
              "    <tr style=\"text-align: right;\">\n",
              "      <th>Mora com o pai</th>\n",
              "      <th>Sim</th>\n",
              "      <th>Não</th>\n",
              "      <th>Não informado</th>\n",
              "    </tr>\n",
              "    <tr>\n",
              "      <th>Mora com a mãe</th>\n",
              "      <th></th>\n",
              "      <th></th>\n",
              "      <th></th>\n",
              "    </tr>\n",
              "  </thead>\n",
              "  <tbody>\n",
              "    <tr>\n",
              "      <th>Sim</th>\n",
              "      <td>92.629063</td>\n",
              "      <td>81.943759</td>\n",
              "      <td>46.666667</td>\n",
              "    </tr>\n",
              "    <tr>\n",
              "      <th>Não</th>\n",
              "      <td>7.351816</td>\n",
              "      <td>18.023351</td>\n",
              "      <td>6.666667</td>\n",
              "    </tr>\n",
              "    <tr>\n",
              "      <th>Não informado</th>\n",
              "      <td>0.019120</td>\n",
              "      <td>0.032889</td>\n",
              "      <td>46.666667</td>\n",
              "    </tr>\n",
              "  </tbody>\n",
              "</table>\n",
              "</div>"
            ],
            "text/plain": [
              "Mora com o pai        Sim        Não  Não informado\n",
              "Mora com a mãe                                     \n",
              "Sim             92.629063  81.943759      46.666667\n",
              "Não              7.351816  18.023351       6.666667\n",
              "Não informado    0.019120   0.032889      46.666667"
            ]
          },
          "metadata": {
            "tags": []
          },
          "execution_count": 41
        }
      ]
    },
    {
      "cell_type": "markdown",
      "metadata": {
        "id": "EZa8hmt8pw3z"
      },
      "source": [
        "Normalizando pelas colunas: daqueles que respondem que moram o pai, a esmagadora maioria também mora com a mãe.\r\n",
        "Daqueles que não moram com o pai, a esmagadora maioria também mora com a mãe. Que diferença de cenário entre uma análise e outra..."
      ]
    },
    {
      "cell_type": "code",
      "metadata": {
        "colab": {
          "base_uri": "https://localhost:8080/",
          "height": 540
        },
        "id": "FqhBqhw1nl5S",
        "outputId": "86ec6792-6b1d-4b9b-a465-a3c6218f419d"
      },
      "source": [
        "indices = {\r\n",
        "    -1: \"Pulo no questionário\",\r\n",
        "    1:\t\"Nunca tomei bebida alcoólica\",\r\n",
        "    7:\t\"7 anos de idade ou menos\",\r\n",
        "    8:\t\"8 anos\",\r\n",
        "    9:\t\"9 anos\",\r\n",
        "    10:\t\"10 anos\",\r\n",
        "    11: \"11 anos\",\r\n",
        "    12:\t\"12 anos\",\r\n",
        "    13:\t\"13 anos\",\r\n",
        "    14:\t\"14 anos\",\r\n",
        "    15:\t\"15 anos\",\r\n",
        "    16:\t\"16 anos\",\r\n",
        "    17:\t\"17 anos\",\r\n",
        "    18:\t\"18 anos ou mais\",\r\n",
        "    99:\t\"Não informado\"\r\n",
        "}\r\n",
        "\r\n",
        "frequencia_cruzada = pd.crosstab(dados[\"VB05003\"],dados[\"VB01006\"],rownames=[\"Idade da primeira dose de bebida alcoólica\"], colnames=[\"Mora com a mãe\"], normalize='index') * 100\r\n",
        "frequencia_cruzada.rename(index=indices, columns={1: \"Sim\", 2: \"Não\", 99: \"Não informado\"},inplace=True)\r\n",
        "\r\n",
        "frequencia_cruzada"
      ],
      "execution_count": null,
      "outputs": [
        {
          "output_type": "execute_result",
          "data": {
            "text/html": [
              "<div>\n",
              "<style scoped>\n",
              "    .dataframe tbody tr th:only-of-type {\n",
              "        vertical-align: middle;\n",
              "    }\n",
              "\n",
              "    .dataframe tbody tr th {\n",
              "        vertical-align: top;\n",
              "    }\n",
              "\n",
              "    .dataframe thead th {\n",
              "        text-align: right;\n",
              "    }\n",
              "</style>\n",
              "<table border=\"1\" class=\"dataframe\">\n",
              "  <thead>\n",
              "    <tr style=\"text-align: right;\">\n",
              "      <th>Mora com a mãe</th>\n",
              "      <th>Sim</th>\n",
              "      <th>Não</th>\n",
              "      <th>Não informado</th>\n",
              "    </tr>\n",
              "    <tr>\n",
              "      <th>Idade da primeira dose de bebida alcoólica</th>\n",
              "      <th></th>\n",
              "      <th></th>\n",
              "      <th></th>\n",
              "    </tr>\n",
              "  </thead>\n",
              "  <tbody>\n",
              "    <tr>\n",
              "      <th>Pulo no questionário</th>\n",
              "      <td>92.371441</td>\n",
              "      <td>7.543561</td>\n",
              "      <td>0.084998</td>\n",
              "    </tr>\n",
              "    <tr>\n",
              "      <th>Nunca tomei bebida alcoólica</th>\n",
              "      <td>90.251366</td>\n",
              "      <td>9.726776</td>\n",
              "      <td>0.021858</td>\n",
              "    </tr>\n",
              "    <tr>\n",
              "      <th>7 anos de idade ou menos</th>\n",
              "      <td>80.632411</td>\n",
              "      <td>19.367589</td>\n",
              "      <td>0.000000</td>\n",
              "    </tr>\n",
              "    <tr>\n",
              "      <th>8 anos</th>\n",
              "      <td>84.000000</td>\n",
              "      <td>16.000000</td>\n",
              "      <td>0.000000</td>\n",
              "    </tr>\n",
              "    <tr>\n",
              "      <th>9 anos</th>\n",
              "      <td>82.517483</td>\n",
              "      <td>17.482517</td>\n",
              "      <td>0.000000</td>\n",
              "    </tr>\n",
              "    <tr>\n",
              "      <th>10 anos</th>\n",
              "      <td>85.205479</td>\n",
              "      <td>14.520548</td>\n",
              "      <td>0.273973</td>\n",
              "    </tr>\n",
              "    <tr>\n",
              "      <th>11 anos</th>\n",
              "      <td>85.365854</td>\n",
              "      <td>14.634146</td>\n",
              "      <td>0.000000</td>\n",
              "    </tr>\n",
              "    <tr>\n",
              "      <th>12 anos</th>\n",
              "      <td>86.727457</td>\n",
              "      <td>13.272543</td>\n",
              "      <td>0.000000</td>\n",
              "    </tr>\n",
              "    <tr>\n",
              "      <th>13 anos</th>\n",
              "      <td>86.267071</td>\n",
              "      <td>13.732929</td>\n",
              "      <td>0.000000</td>\n",
              "    </tr>\n",
              "    <tr>\n",
              "      <th>14 anos</th>\n",
              "      <td>87.037037</td>\n",
              "      <td>12.962963</td>\n",
              "      <td>0.000000</td>\n",
              "    </tr>\n",
              "    <tr>\n",
              "      <th>15 anos</th>\n",
              "      <td>84.717868</td>\n",
              "      <td>15.282132</td>\n",
              "      <td>0.000000</td>\n",
              "    </tr>\n",
              "    <tr>\n",
              "      <th>16 anos</th>\n",
              "      <td>86.220472</td>\n",
              "      <td>13.779528</td>\n",
              "      <td>0.000000</td>\n",
              "    </tr>\n",
              "    <tr>\n",
              "      <th>17 anos</th>\n",
              "      <td>78.867925</td>\n",
              "      <td>21.132075</td>\n",
              "      <td>0.000000</td>\n",
              "    </tr>\n",
              "    <tr>\n",
              "      <th>18 anos ou mais</th>\n",
              "      <td>67.961165</td>\n",
              "      <td>32.038835</td>\n",
              "      <td>0.000000</td>\n",
              "    </tr>\n",
              "    <tr>\n",
              "      <th>Não informado</th>\n",
              "      <td>84.313725</td>\n",
              "      <td>5.882353</td>\n",
              "      <td>9.803922</td>\n",
              "    </tr>\n",
              "  </tbody>\n",
              "</table>\n",
              "</div>"
            ],
            "text/plain": [
              "Mora com a mãe                                    Sim        Não  Não informado\n",
              "Idade da primeira dose de bebida alcoólica                                     \n",
              "Pulo no questionário                        92.371441   7.543561       0.084998\n",
              "Nunca tomei bebida alcoólica                90.251366   9.726776       0.021858\n",
              "7 anos de idade ou menos                    80.632411  19.367589       0.000000\n",
              "8 anos                                      84.000000  16.000000       0.000000\n",
              "9 anos                                      82.517483  17.482517       0.000000\n",
              "10 anos                                     85.205479  14.520548       0.273973\n",
              "11 anos                                     85.365854  14.634146       0.000000\n",
              "12 anos                                     86.727457  13.272543       0.000000\n",
              "13 anos                                     86.267071  13.732929       0.000000\n",
              "14 anos                                     87.037037  12.962963       0.000000\n",
              "15 anos                                     84.717868  15.282132       0.000000\n",
              "16 anos                                     86.220472  13.779528       0.000000\n",
              "17 anos                                     78.867925  21.132075       0.000000\n",
              "18 anos ou mais                             67.961165  32.038835       0.000000\n",
              "Não informado                               84.313725   5.882353       9.803922"
            ]
          },
          "metadata": {
            "tags": []
          },
          "execution_count": 42
        }
      ]
    },
    {
      "cell_type": "code",
      "metadata": {
        "colab": {
          "base_uri": "https://localhost:8080/",
          "height": 540
        },
        "id": "jgBlYv3jtTBe",
        "outputId": "d5b3bd70-f325-4638-8ca1-005bd339472a"
      },
      "source": [
        "frequencia_cruzada = pd.crosstab(dados[\"VB05003\"], dados[\"VB01006\"], values = dados[\"VB17004\"], rownames=[\"Idade da primeira dose de bebida alcoólica\"], colnames=[\"Mora com a mãe\"], aggfunc='mean',) \r\n",
        "frequencia_cruzada.rename(index=indices, columns={1: \"Sim\", 2: \"Não\", 99: \"Não informado\"},inplace=True)\r\n",
        "\r\n",
        "frequencia_cruzada\r\n",
        "\r\n",
        "# altura média das crianças que responderam sobre a primeira vez no consumno de bebida alcoolica separados se moram ou não com a mãe\r\n",
        "# isso mostra que não há qualquer correlação na altura média do aluno com o fato dele morar ou não com a mãe, em relação ao consumo da bebida\r\n",
        "# foi um exercício apenas para brincar com o aggfunc\r\n",
        "# mais info sobre aggfunc: https://medium.com/@yangdustin5/quick-guide-to-pandas-pivot-table-crosstab-40798b33e367\r\n",
        "# outro artigo: https://pbpython.com/pandas-crosstab.html"
      ],
      "execution_count": null,
      "outputs": [
        {
          "output_type": "execute_result",
          "data": {
            "text/html": [
              "<div>\n",
              "<style scoped>\n",
              "    .dataframe tbody tr th:only-of-type {\n",
              "        vertical-align: middle;\n",
              "    }\n",
              "\n",
              "    .dataframe tbody tr th {\n",
              "        vertical-align: top;\n",
              "    }\n",
              "\n",
              "    .dataframe thead th {\n",
              "        text-align: right;\n",
              "    }\n",
              "</style>\n",
              "<table border=\"1\" class=\"dataframe\">\n",
              "  <thead>\n",
              "    <tr style=\"text-align: right;\">\n",
              "      <th>Mora com a mãe</th>\n",
              "      <th>Sim</th>\n",
              "      <th>Não</th>\n",
              "      <th>Não informado</th>\n",
              "    </tr>\n",
              "    <tr>\n",
              "      <th>Idade da primeira dose de bebida alcoólica</th>\n",
              "      <th></th>\n",
              "      <th></th>\n",
              "      <th></th>\n",
              "    </tr>\n",
              "  </thead>\n",
              "  <tbody>\n",
              "    <tr>\n",
              "      <th>Pulo no questionário</th>\n",
              "      <td>151.847803</td>\n",
              "      <td>151.666761</td>\n",
              "      <td>149.45</td>\n",
              "    </tr>\n",
              "    <tr>\n",
              "      <th>Nunca tomei bebida alcoólica</th>\n",
              "      <td>162.771567</td>\n",
              "      <td>162.799101</td>\n",
              "      <td>160.00</td>\n",
              "    </tr>\n",
              "    <tr>\n",
              "      <th>7 anos de idade ou menos</th>\n",
              "      <td>165.260294</td>\n",
              "      <td>164.395918</td>\n",
              "      <td>NaN</td>\n",
              "    </tr>\n",
              "    <tr>\n",
              "      <th>8 anos</th>\n",
              "      <td>165.360952</td>\n",
              "      <td>165.320000</td>\n",
              "      <td>NaN</td>\n",
              "    </tr>\n",
              "    <tr>\n",
              "      <th>9 anos</th>\n",
              "      <td>164.895763</td>\n",
              "      <td>164.612000</td>\n",
              "      <td>NaN</td>\n",
              "    </tr>\n",
              "    <tr>\n",
              "      <th>10 anos</th>\n",
              "      <td>164.818006</td>\n",
              "      <td>165.077358</td>\n",
              "      <td>153.40</td>\n",
              "    </tr>\n",
              "    <tr>\n",
              "      <th>11 anos</th>\n",
              "      <td>163.646349</td>\n",
              "      <td>163.801852</td>\n",
              "      <td>NaN</td>\n",
              "    </tr>\n",
              "    <tr>\n",
              "      <th>12 anos</th>\n",
              "      <td>163.964720</td>\n",
              "      <td>163.457252</td>\n",
              "      <td>NaN</td>\n",
              "    </tr>\n",
              "    <tr>\n",
              "      <th>13 anos</th>\n",
              "      <td>164.212489</td>\n",
              "      <td>164.046961</td>\n",
              "      <td>NaN</td>\n",
              "    </tr>\n",
              "    <tr>\n",
              "      <th>14 anos</th>\n",
              "      <td>165.580699</td>\n",
              "      <td>166.617347</td>\n",
              "      <td>NaN</td>\n",
              "    </tr>\n",
              "    <tr>\n",
              "      <th>15 anos</th>\n",
              "      <td>166.504718</td>\n",
              "      <td>165.326667</td>\n",
              "      <td>NaN</td>\n",
              "    </tr>\n",
              "    <tr>\n",
              "      <th>16 anos</th>\n",
              "      <td>166.628767</td>\n",
              "      <td>164.712857</td>\n",
              "      <td>NaN</td>\n",
              "    </tr>\n",
              "    <tr>\n",
              "      <th>17 anos</th>\n",
              "      <td>166.945455</td>\n",
              "      <td>162.430357</td>\n",
              "      <td>NaN</td>\n",
              "    </tr>\n",
              "    <tr>\n",
              "      <th>18 anos ou mais</th>\n",
              "      <td>168.321429</td>\n",
              "      <td>163.824242</td>\n",
              "      <td>NaN</td>\n",
              "    </tr>\n",
              "    <tr>\n",
              "      <th>Não informado</th>\n",
              "      <td>163.239535</td>\n",
              "      <td>165.233333</td>\n",
              "      <td>164.88</td>\n",
              "    </tr>\n",
              "  </tbody>\n",
              "</table>\n",
              "</div>"
            ],
            "text/plain": [
              "Mora com a mãe                                     Sim  ...  Não informado\n",
              "Idade da primeira dose de bebida alcoólica              ...               \n",
              "Pulo no questionário                        151.847803  ...         149.45\n",
              "Nunca tomei bebida alcoólica                162.771567  ...         160.00\n",
              "7 anos de idade ou menos                    165.260294  ...            NaN\n",
              "8 anos                                      165.360952  ...            NaN\n",
              "9 anos                                      164.895763  ...            NaN\n",
              "10 anos                                     164.818006  ...         153.40\n",
              "11 anos                                     163.646349  ...            NaN\n",
              "12 anos                                     163.964720  ...            NaN\n",
              "13 anos                                     164.212489  ...            NaN\n",
              "14 anos                                     165.580699  ...            NaN\n",
              "15 anos                                     166.504718  ...            NaN\n",
              "16 anos                                     166.628767  ...            NaN\n",
              "17 anos                                     166.945455  ...            NaN\n",
              "18 anos ou mais                             168.321429  ...            NaN\n",
              "Não informado                               163.239535  ...         164.88\n",
              "\n",
              "[15 rows x 3 columns]"
            ]
          },
          "metadata": {
            "tags": []
          },
          "execution_count": 43
        }
      ]
    },
    {
      "cell_type": "markdown",
      "metadata": {
        "id": "zC4EydF6T1hl"
      },
      "source": [
        "# Aula 04 - Análise descritiva e testes estatísticos (1/2)"
      ]
    },
    {
      "cell_type": "code",
      "metadata": {
        "colab": {
          "base_uri": "https://localhost:8080/",
          "height": 278
        },
        "id": "zbjW65oGT9R9",
        "outputId": "893523d2-0e19-402b-b867-952baaf85d4d"
      },
      "source": [
        "# este não é o jeito padrão de plotar usando o seaborn\r\n",
        "\r\n",
        "import seaborn as sns\r\n",
        "\r\n",
        "ax = sns.histplot(dados[\"VB17004\"])"
      ],
      "execution_count": null,
      "outputs": [
        {
          "output_type": "display_data",
          "data": {
            "image/png": "[encoded data removed]",
            "text/plain": [
              "<Figure size 432x288 with 1 Axes>"
            ]
          },
          "metadata": {
            "tags": [],
            "needs_background": "light"
          }
        }
      ]
    },
    {
      "cell_type": "code",
      "metadata": {
        "colab": {
          "base_uri": "https://localhost:8080/",
          "height": 421
        },
        "id": "mYeDaktqUCdh",
        "outputId": "99b08085-615e-439c-98dd-12cedf170dbe"
      },
      "source": [
        "# este é o jeito padrão de plotar usando o seaborn\r\n",
        "\r\n",
        "import seaborn as sns\r\n",
        "ax = sns.histplot(data = dados, x = \"VB17004\")\r\n",
        "\r\n",
        "# tamanho do gráfico\r\n",
        "ax.figure.set_size_inches(12,6)\r\n",
        "\r\n",
        "# título\r\n",
        "ax.set_title(\"Distribuição de frequência\")\r\n",
        "\r\n",
        "# rótulo x\r\n",
        "ax.set_xlabel(\"Altura\")\r\n",
        "\r\n",
        "ax.plot()"
      ],
      "execution_count": null,
      "outputs": [
        {
          "output_type": "execute_result",
          "data": {
            "text/plain": [
              "[]"
            ]
          },
          "metadata": {
            "tags": []
          },
          "execution_count": 45
        },
        {
          "output_type": "display_data",
          "data": {
            "image/png": "[encoded data removed]",
            "text/plain": [
              "<Figure size 864x432 with 1 Axes>"
            ]
          },
          "metadata": {
            "tags": [],
            "needs_background": "light"
          }
        }
      ]
    },
    {
      "cell_type": "code",
      "metadata": {
        "colab": {
          "base_uri": "https://localhost:8080/",
          "height": 421
        },
        "id": "jxGyk8XWVf92",
        "outputId": "8168c9a0-b4e9-4a16-804d-bb0fc49221e7"
      },
      "source": [
        "# dividindo em caixinhas, seguindo a resposta da regra de Sturges + kde = True\r\n",
        "\r\n",
        "ax = sns.histplot(data = dados, x = \"VB17004\", bins = 15, kde = True)\r\n",
        "\r\n",
        "# tamanho do gráfico\r\n",
        "ax.figure.set_size_inches(12,6)\r\n",
        "\r\n",
        "# título\r\n",
        "ax.set_title(\"Distribuição de frequência\")\r\n",
        "\r\n",
        "# rótulo x\r\n",
        "ax.set_xlabel(\"Altura\")\r\n",
        "\r\n",
        "ax.plot()"
      ],
      "execution_count": null,
      "outputs": [
        {
          "output_type": "execute_result",
          "data": {
            "text/plain": [
              "[]"
            ]
          },
          "metadata": {
            "tags": []
          },
          "execution_count": 46
        },
        {
          "output_type": "display_data",
          "data": {
            "image/png": "[encoded data removed]",
            "text/plain": [
              "<Figure size 864x432 with 1 Axes>"
            ]
          },
          "metadata": {
            "tags": [],
            "needs_background": "light"
          }
        }
      ]
    },
    {
      "cell_type": "markdown",
      "metadata": {
        "id": "-3u1yD-8WflG"
      },
      "source": [
        "Na documentação do Seaborn, histplot() https://seaborn.pydata.org/generated/seaborn.histplot.html#seaborn.histplot. Você vai ver que no parâmetro bins ele tem algumas regras que ele pode utilizar para fazer o cálculo dos intervalos e das classes."
      ]
    },
    {
      "cell_type": "code",
      "metadata": {
        "colab": {
          "base_uri": "https://localhost:8080/",
          "height": 421
        },
        "id": "T8C8xgr4XBPH",
        "outputId": "40483754-8fe7-47f5-eb0f-44c090c59f94"
      },
      "source": [
        "# dividindo em caixinhas, seguindo o próprio Sturges + kde = True\r\n",
        "# a divisão em classes, conforme esperado, ficou a mesma\r\n",
        "\r\n",
        "ax = sns.histplot(data = dados, x = \"VB17004\", bins = 'sturges', kde = True)\r\n",
        "\r\n",
        "# tamanho do gráfico\r\n",
        "ax.figure.set_size_inches(12,6)\r\n",
        "\r\n",
        "# título\r\n",
        "ax.set_title(\"Distribuição de frequência\")\r\n",
        "\r\n",
        "# rótulo x\r\n",
        "ax.set_xlabel(\"Altura\")\r\n",
        "\r\n",
        "ax.plot()"
      ],
      "execution_count": null,
      "outputs": [
        {
          "output_type": "execute_result",
          "data": {
            "text/plain": [
              "[]"
            ]
          },
          "metadata": {
            "tags": []
          },
          "execution_count": 47
        },
        {
          "output_type": "display_data",
          "data": {
            "image/png": "[encoded data removed]",
            "text/plain": [
              "<Figure size 864x432 with 1 Axes>"
            ]
          },
          "metadata": {
            "tags": [],
            "needs_background": "light"
          }
        }
      ]
    },
    {
      "cell_type": "code",
      "metadata": {
        "colab": {
          "base_uri": "https://localhost:8080/",
          "height": 421
        },
        "id": "RJMem-zyXVFt",
        "outputId": "3f347330-536a-451f-b0fa-332cf69248ea"
      },
      "source": [
        "# fazendo comparação da altura em relação aos sexos\r\n",
        "ax = sns.histplot(data = dados, x = \"VB17004\", bins = 'sturges', kde = True, hue = \"VB01001\" )\r\n",
        "\r\n",
        "# tamanho do gráfico\r\n",
        "ax.figure.set_size_inches(12,6)\r\n",
        "\r\n",
        "# título\r\n",
        "ax.set_title(\"Distribuição de frequência\")\r\n",
        "\r\n",
        "# rótulo x\r\n",
        "ax.set_xlabel(\"Altura\")\r\n",
        "\r\n",
        "ax.plot()"
      ],
      "execution_count": null,
      "outputs": [
        {
          "output_type": "execute_result",
          "data": {
            "text/plain": [
              "[]"
            ]
          },
          "metadata": {
            "tags": []
          },
          "execution_count": 48
        },
        {
          "output_type": "display_data",
          "data": {
            "image/png": "[encoded data removed]",
            "text/plain": [
              "<Figure size 864x432 with 1 Axes>"
            ]
          },
          "metadata": {
            "tags": [],
            "needs_background": "light"
          }
        }
      ]
    },
    {
      "cell_type": "markdown",
      "metadata": {
        "id": "Yg_RJ0gFYw78"
      },
      "source": [
        "Mas e se compararmos uma variável que tem muitas possibilidades ao invés de apenas duas (masculino e feminino) como na figura acima?"
      ]
    },
    {
      "cell_type": "code",
      "metadata": {
        "colab": {
          "base_uri": "https://localhost:8080/",
          "height": 404
        },
        "id": "aXuNl2ebZG_I",
        "outputId": "595521c9-3cdb-4732-d71d-694336bb683f"
      },
      "source": [
        "# fazendo comparação da altura em relação a idade\r\n",
        "ax = sns.histplot(data = dados, x = \"VB17004\", bins = 'sturges', kde = True, hue = \"VB01003\" )\r\n",
        "\r\n",
        "# tamanho do gráfico\r\n",
        "ax.figure.set_size_inches(12,6)\r\n",
        "\r\n",
        "# título\r\n",
        "ax.set_title(\"Distribuição de frequência\")\r\n",
        "\r\n",
        "# rótulo x\r\n",
        "ax.set_xlabel(\"Altura\")\r\n",
        "\r\n",
        "# outra maneira de não aparecer aquele texto sobre o gráfico é simplesmente\r\n",
        "# adicionar um ponto e vírgula no final do eixo que você quer plotar!\r\n",
        "ax;\r\n"
      ],
      "execution_count": null,
      "outputs": [
        {
          "output_type": "display_data",
          "data": {
            "image/png": "[encoded data removed]",
            "text/plain": [
              "<Figure size 864x432 with 1 Axes>"
            ]
          },
          "metadata": {
            "tags": [],
            "needs_background": "light"
          }
        }
      ]
    },
    {
      "cell_type": "markdown",
      "metadata": {
        "id": "9HepbfC5ZUmA"
      },
      "source": [
        "Como pode ver, não dá pra ver nada...\r\n",
        "Podemos fazer uma análise separando cada um desses gráficos ou podemos trabalhar outro tipo de visualização, como o boxplot por exemplo."
      ]
    },
    {
      "cell_type": "markdown",
      "metadata": {
        "id": "1DyU5MKEWW5w"
      },
      "source": [
        "## Desafio: calcular o desvio padrão, médida, moda e mediana e plotar no gráfico"
      ]
    },
    {
      "cell_type": "code",
      "metadata": {
        "colab": {
          "base_uri": "https://localhost:8080/",
          "height": 444
        },
        "id": "xpD6SgZFWz6V",
        "outputId": "288d39ea-6f8c-4dbc-fa6e-1b0903b7a450"
      },
      "source": [
        "# tamanho da fonte\r\n",
        "sns.set(font_scale=1.5)\r\n",
        "\r\n",
        "# repare que o gráfico ficou ajustado. Isso porque quando foi\r\n",
        "# criado o objeto ax, o sns já havia sido \"setado\" acima\r\n",
        "# se rodar novamente os dois gráficos anteriores, eles estarão\r\n",
        "# ajustados também pois, conforme escrito, o sns já está \"setado\"\r\n",
        "\r\n",
        "# kde = True adiciona uma linha de suavização\r\n",
        "ax = sns.histplot(data = dados, x = \"VB17004\",kde=True )\r\n",
        "\r\n",
        "# tamanho do gráfico\r\n",
        "ax.figure.set_size_inches(12,6)\r\n",
        "\r\n",
        "# título\r\n",
        "ax.set_title(\"Distribuição de frequência\")\r\n",
        "\r\n",
        "# rótulo x\r\n",
        "ax.set_xlabel(\"Altura\")\r\n",
        "\r\n",
        "# parâmetros do desafio\r\n",
        "desvio_padrao = dados[\"VB17004\"].std()\r\n",
        "media = dados[\"VB17004\"].mean()\r\n",
        "moda = dados[\"VB17004\"].mode()[0]\r\n",
        "mediana = dados[\"VB17004\"].median()\r\n",
        "\r\n",
        "ax.axvline(media,linestyle=\"--\", color = \"red\",label = \"Média\")\r\n",
        "ax.axvline(media - desvio_padrao,linestyle=\"--\", color = \"yellow\", label = \"Desvio padrão\")\r\n",
        "ax.axvline(media + desvio_padrao,linestyle=\"--\", color = \"yellow\")\r\n",
        "ax.axvline(moda,linestyle=\"--\", color = \"green\", label = \"Moda\")\r\n",
        "ax.axvline(mediana,linestyle=\"--\", color = \"black\", label = \"Mediana\")\r\n",
        "\r\n",
        "ax.legend()\r\n",
        "ax.plot()"
      ],
      "execution_count": null,
      "outputs": [
        {
          "output_type": "execute_result",
          "data": {
            "text/plain": [
              "[]"
            ]
          },
          "metadata": {
            "tags": []
          },
          "execution_count": 50
        },
        {
          "output_type": "display_data",
          "data": {
            "image/png": "[encoded data removed]",
            "text/plain": [
              "<Figure size 864x432 with 1 Axes>"
            ]
          },
          "metadata": {
            "tags": []
          }
        }
      ]
    },
    {
      "cell_type": "markdown",
      "metadata": {
        "id": "G5hB8MTXa4kZ"
      },
      "source": [
        "# Aula 04 - Análise descritiva e testes estatísticos (2/2)"
      ]
    },
    {
      "cell_type": "code",
      "metadata": {
        "colab": {
          "base_uri": "https://localhost:8080/",
          "height": 426
        },
        "id": "y-Kh5GIzme-Z",
        "outputId": "112ed48a-4f7f-4d5a-a683-dcdc5415bdc7"
      },
      "source": [
        "ax = sns.boxplot(data = dados, x =\"VB17004\", whis=1.5)\r\n",
        "\r\n",
        "# tamanho do gráfico\r\n",
        "ax.figure.set_size_inches(12,6)\r\n",
        "\r\n",
        "# título\r\n",
        "ax.set_title(\"Boxplot da altura\")\r\n",
        "\r\n",
        "# rótulo x\r\n",
        "ax.set_xlabel(\"Altura\")\r\n",
        "\r\n",
        "# outra maneira de não aparecer aquele texto sobre o gráfico é simplesmente\r\n",
        "# adicionar um ponto e vírgula no final do eixo que você quer plotar!\r\n",
        "ax;"
      ],
      "execution_count": null,
      "outputs": [
        {
          "output_type": "display_data",
          "data": {
            "image/png": "[encoded data removed]",
            "text/plain": [
              "<Figure size 864x432 with 1 Axes>"
            ]
          },
          "metadata": {
            "tags": []
          }
        }
      ]
    },
    {
      "cell_type": "code",
      "metadata": {
        "colab": {
          "base_uri": "https://localhost:8080/",
          "height": 69
        },
        "id": "7Wo948CDmzjR",
        "outputId": "8be7e2a8-d385-48da-fc88-a49a09a2d473"
      },
      "source": [
        "# para visualizar os quartis\r\n",
        "display(dados[\"VB17004\"].quantile(q=0.25))\r\n",
        "display(dados[\"VB17004\"].quantile(q=0.5))\r\n",
        "display(dados[\"VB17004\"].quantile(q=0.75))\r\n"
      ],
      "execution_count": null,
      "outputs": [
        {
          "output_type": "display_data",
          "data": {
            "text/plain": [
              "153.8"
            ]
          },
          "metadata": {
            "tags": []
          }
        },
        {
          "output_type": "display_data",
          "data": {
            "text/plain": [
              "160.4"
            ]
          },
          "metadata": {
            "tags": []
          }
        },
        {
          "output_type": "display_data",
          "data": {
            "text/plain": [
              "167.9"
            ]
          },
          "metadata": {
            "tags": []
          }
        }
      ]
    },
    {
      "cell_type": "markdown",
      "metadata": {
        "id": "lkNW02Tzvlt6"
      },
      "source": [
        "Mais sobre boxplot, incluindo o cálculo dos outliers\r\n",
        "https://www.simplypsychology.org/boxplots.html#:~:text=An%20outlier%20is%20an%20observation,whiskers%20of%20the%20box%20plot."
      ]
    },
    {
      "cell_type": "code",
      "metadata": {
        "colab": {
          "base_uri": "https://localhost:8080/",
          "height": 52
        },
        "id": "9sj2xxqfvwZG",
        "outputId": "e96e6524-a740-4d28-d778-e5028dbc8ad7"
      },
      "source": [
        "# para saber o valor mínimo e máximo do boxplot\r\n",
        "iqr = dados[\"VB17004\"].quantile(q=0.75) - dados[\"VB17004\"].quantile(q=0.25)\r\n",
        "\r\n",
        "# repare que o parâmetro whis do gráfico acima é 1.5\r\n",
        "minimo = dados[\"VB17004\"].quantile(q=0.25) - (iqr*1.5)\r\n",
        "maximo = dados[\"VB17004\"].quantile(q=0.75) + (iqr*1.5)\r\n",
        "\r\n",
        "display(minimo)\r\n",
        "display(maximo)\r\n",
        "\r\n",
        "# abaixo desse mínimo e acima desse máximo são considerados outliers"
      ],
      "execution_count": null,
      "outputs": [
        {
          "output_type": "display_data",
          "data": {
            "text/plain": [
              "132.65000000000003"
            ]
          },
          "metadata": {
            "tags": []
          }
        },
        {
          "output_type": "display_data",
          "data": {
            "text/plain": [
              "189.05"
            ]
          },
          "metadata": {
            "tags": []
          }
        }
      ]
    },
    {
      "cell_type": "code",
      "metadata": {
        "colab": {
          "base_uri": "https://localhost:8080/",
          "height": 426
        },
        "id": "TvHinUIAwLOw",
        "outputId": "8c2d76f1-f0bf-4e8c-bb3f-16c34b3239cc"
      },
      "source": [
        "ax = sns.boxplot(data = dados, x =\"VB17004\", y = \"VB01001\", whis=1.5, orient=\"h\")\r\n",
        "\r\n",
        "# tamanho do gráfico\r\n",
        "ax.figure.set_size_inches(12,6)\r\n",
        "\r\n",
        "# título\r\n",
        "ax.set_title(\"Boxplot da altura\")\r\n",
        "\r\n",
        "# rótulo x\r\n",
        "ax.set_xlabel(\"Altura\")\r\n",
        "\r\n",
        "ax;"
      ],
      "execution_count": null,
      "outputs": [
        {
          "output_type": "display_data",
          "data": {
            "image/png": "[encoded data removed]",
            "text/plain": [
              "<Figure size 864x432 with 1 Axes>"
            ]
          },
          "metadata": {
            "tags": []
          }
        }
      ]
    },
    {
      "cell_type": "code",
      "metadata": {
        "id": "VMU-dkP1xRpe",
        "colab": {
          "base_uri": "https://localhost:8080/",
          "height": 426
        },
        "outputId": "8afe208f-d16b-41f0-ffd0-4524c6d0e84a"
      },
      "source": [
        "# para mais de dois boxplots no mesmo gráfico não é recomendado eles dispostos horizontalmente\r\n",
        "# veja que não fica nada didático\r\n",
        "\r\n",
        "ax = sns.boxplot(data = dados, y =\"VB01003\", x = \"VB17004\", whis=1.5, orient=\"h\")\r\n",
        "\r\n",
        "# tamanho do gráfico\r\n",
        "ax.figure.set_size_inches(12,6)\r\n",
        "\r\n",
        "# título\r\n",
        "ax.set_title(\"Boxplot da altura por idade\")\r\n",
        "\r\n",
        "# rótulo x\r\n",
        "ax.set_xlabel(\"Idade\")\r\n",
        "\r\n",
        "# rótulo y\r\n",
        "ax.set_ylabel(\"Altura (em cm)\")\r\n",
        "\r\n",
        "ax;\r\n",
        "\r\n"
      ],
      "execution_count": null,
      "outputs": [
        {
          "output_type": "display_data",
          "data": {
            "image/png": "[encoded data removed]",
            "text/plain": [
              "<Figure size 864x432 with 1 Axes>"
            ]
          },
          "metadata": {
            "tags": []
          }
        }
      ]
    },
    {
      "cell_type": "code",
      "metadata": {
        "colab": {
          "base_uri": "https://localhost:8080/",
          "height": 426
        },
        "id": "JTazvFWYGSGY",
        "outputId": "1689c26c-3b28-4cf0-b783-050eba797839"
      },
      "source": [
        "# para trocar, basta remover o parâmetro \"orient\" (a biblioteca já entende que o padrão é vertical)\r\n",
        "# e também trocar o \"x\" e \"y\", pois na vertical o \"x\" é o \"y\" e vice-versa\r\n",
        "\r\n",
        "ax = sns.boxplot(data = dados, x =\"VB01003\", y = \"VB17004\", whis=1.5)\r\n",
        "\r\n",
        "# tamanho do gráfico\r\n",
        "ax.figure.set_size_inches(12,6)\r\n",
        "\r\n",
        "# título\r\n",
        "ax.set_title(\"Boxplot da altura por idade\")\r\n",
        "\r\n",
        "# rótulo x\r\n",
        "ax.set_xlabel(\"Idade\")\r\n",
        "\r\n",
        "# rótulo y\r\n",
        "ax.set_ylabel(\"Altura (em cm)\")\r\n",
        "\r\n",
        "ax;\r\n"
      ],
      "execution_count": null,
      "outputs": [
        {
          "output_type": "display_data",
          "data": {
            "image/png": "[encoded data removed]",
            "text/plain": [
              "<Figure size 864x432 with 1 Axes>"
            ]
          },
          "metadata": {
            "tags": []
          }
        }
      ]
    },
    {
      "cell_type": "code",
      "metadata": {
        "colab": {
          "base_uri": "https://localhost:8080/",
          "height": 426
        },
        "id": "3I_h616PH-SA",
        "outputId": "c27d2ad2-f216-4f58-9f66-7243bb8da9c6"
      },
      "source": [
        "# adicionando um hue do sexo dos alunos\r\n",
        "\r\n",
        "ax = sns.boxplot(data = dados, x =\"VB01003\", y = \"VB17004\", hue = \"VB01001\", whis=1.5)\r\n",
        "\r\n",
        "# tamanho do gráfico\r\n",
        "ax.figure.set_size_inches(12,6)\r\n",
        "\r\n",
        "# título\r\n",
        "ax.set_title(\"Boxplot da altura por idade\")\r\n",
        "\r\n",
        "# rótulo x\r\n",
        "ax.set_xlabel(\"Idade\")\r\n",
        "\r\n",
        "# rótulo y\r\n",
        "ax.set_ylabel(\"Altura (em cm)\")\r\n",
        "\r\n",
        "ax;"
      ],
      "execution_count": null,
      "outputs": [
        {
          "output_type": "display_data",
          "data": {
            "image/png": "[encoded data removed]",
            "text/plain": [
              "<Figure size 864x432 with 1 Axes>"
            ]
          },
          "metadata": {
            "tags": []
          }
        }
      ]
    },
    {
      "cell_type": "code",
      "metadata": {
        "colab": {
          "base_uri": "https://localhost:8080/",
          "height": 444
        },
        "id": "2EGpf5u8IJ5x",
        "outputId": "f88f79d4-151d-4e0b-ac82-6912fd8342e7"
      },
      "source": [
        "# realizar uma histograma acumulado para ficar fácil compreender onde está cada fatia da amostra em termos de %\r\n",
        "\r\n",
        "\r\n",
        "# Thiago mencionou que existe uma recomendação de deixar no máximo 80 caracteres por linha de código\r\n",
        "ax = sns.histplot(data = dados, \r\n",
        "                  x = \"VB17004\",\r\n",
        "                  kde = True, \r\n",
        "                  cumulative=True,\r\n",
        "                  stat = 'density',\r\n",
        "                  bins = 'sturges')\r\n",
        "\r\n",
        "# tamanho do gráfico\r\n",
        "ax.figure.set_size_inches(12,6)\r\n",
        "\r\n",
        "# título\r\n",
        "ax.set_title(\"Histograma acumulado\")\r\n",
        "\r\n",
        "# rótulo x\r\n",
        "ax.set_xlabel(\"Altura\")\r\n",
        "\r\n",
        "ax.plot()"
      ],
      "execution_count": null,
      "outputs": [
        {
          "output_type": "execute_result",
          "data": {
            "text/plain": [
              "[]"
            ]
          },
          "metadata": {
            "tags": []
          },
          "execution_count": 58
        },
        {
          "output_type": "display_data",
          "data": {
            "image/png": "[encoded data removed]",
            "text/plain": [
              "<Figure size 864x432 with 1 Axes>"
            ]
          },
          "metadata": {
            "tags": []
          }
        }
      ]
    },
    {
      "cell_type": "markdown",
      "metadata": {
        "id": "zSDz25BA31CE"
      },
      "source": [
        "# Aula 05 - Medida de centralidade e dispersão (1/2)"
      ]
    },
    {
      "cell_type": "code",
      "metadata": {
        "colab": {
          "base_uri": "https://localhost:8080/"
        },
        "id": "bjGW3bF538QJ",
        "outputId": "493bd18d-8ed2-4d45-9d90-22cf41356bf9"
      },
      "source": [
        "dados[\"VB17004\"].mean()"
      ],
      "execution_count": null,
      "outputs": [
        {
          "output_type": "execute_result",
          "data": {
            "text/plain": [
              "160.71311307078818"
            ]
          },
          "metadata": {
            "tags": []
          },
          "execution_count": 59
        }
      ]
    },
    {
      "cell_type": "code",
      "metadata": {
        "colab": {
          "base_uri": "https://localhost:8080/"
        },
        "id": "VnodVyoD3_fo",
        "outputId": "777a38fb-5510-4270-bd5b-192a11ed3a52"
      },
      "source": [
        "# para fazer a média de acordo com o sexo da pessoa: query ou groupby são os mais indicados\r\n",
        "\r\n",
        "# primeiro eu agrupo pelo sexo, depois tiro a média\r\n",
        "dados.groupby(\"VB01001\")[\"VB17004\"].mean()"
      ],
      "execution_count": null,
      "outputs": [
        {
          "output_type": "execute_result",
          "data": {
            "text/plain": [
              "VB01001\n",
              "1    163.860758\n",
              "2    157.558617\n",
              "Name: VB17004, dtype: float64"
            ]
          },
          "metadata": {
            "tags": []
          },
          "execution_count": 60
        }
      ]
    },
    {
      "cell_type": "code",
      "metadata": {
        "colab": {
          "base_uri": "https://localhost:8080/"
        },
        "id": "2YxuaJpe4e77",
        "outputId": "6db7ba28-0c95-45d8-af21-97adcac9f29a"
      },
      "source": [
        "# valor (ou valores) que mais aparece nos dados\r\n",
        "\r\n",
        "dados[\"VB17004\"].mode()"
      ],
      "execution_count": null,
      "outputs": [
        {
          "output_type": "execute_result",
          "data": {
            "text/plain": [
              "0    160.0\n",
              "dtype: float64"
            ]
          },
          "metadata": {
            "tags": []
          },
          "execution_count": 61
        }
      ]
    },
    {
      "cell_type": "code",
      "metadata": {
        "colab": {
          "base_uri": "https://localhost:8080/"
        },
        "id": "Y4ghkVOI5O3X",
        "outputId": "cdf51b2f-5a93-496b-d99c-ec2d6afa0460"
      },
      "source": [
        "# posso agrupar por mais de uma coluna e tirar a média\r\n",
        "dados.groupby([\"VB01001\",\"VB01003\"])[\"VB17004\"].mean()\r\n",
        "\r\n",
        "# o resultado é uma series multi-index"
      ],
      "execution_count": null,
      "outputs": [
        {
          "output_type": "execute_result",
          "data": {
            "text/plain": [
              "VB01001  VB01003\n",
              "1        11         147.617753\n",
              "         12         153.696764\n",
              "         13         160.719801\n",
              "         14         166.406922\n",
              "         15         170.336297\n",
              "         16         172.424933\n",
              "         17         173.814341\n",
              "         18         173.024561\n",
              "         19         172.143158\n",
              "2        11         149.522512\n",
              "         12         154.965021\n",
              "         13         157.673105\n",
              "         14         159.340320\n",
              "         15         160.759848\n",
              "         16         160.386527\n",
              "         17         160.907937\n",
              "         18         159.438462\n",
              "         19         158.977193\n",
              "Name: VB17004, dtype: float64"
            ]
          },
          "metadata": {
            "tags": []
          },
          "execution_count": 62
        }
      ]
    },
    {
      "cell_type": "code",
      "metadata": {
        "id": "sAPj1Smq7fDs"
      },
      "source": [
        ""
      ],
      "execution_count": null,
      "outputs": []
    },
    {
      "cell_type": "markdown",
      "metadata": {
        "id": "2xOY2BPL6H73"
      },
      "source": [
        "## Desafio: efetuar o cálculo da média por sexo e idade usando o crosstab."
      ]
    },
    {
      "cell_type": "code",
      "metadata": {
        "colab": {
          "base_uri": "https://localhost:8080/",
          "height": 356
        },
        "id": "UkGRP-dy6ZLb",
        "outputId": "b6fd9fa0-9e88-4526-f6f6-048d8b1ab526"
      },
      "source": [
        "altura_por_idade_sexo = pd.crosstab(dados[\"VB01003\"],dados[\"VB01001\"], values = dados[\"VB17004\"], aggfunc=\"mean\")\r\n",
        "altura_por_idade_sexo"
      ],
      "execution_count": null,
      "outputs": [
        {
          "output_type": "execute_result",
          "data": {
            "text/html": [
              "<div>\n",
              "<style scoped>\n",
              "    .dataframe tbody tr th:only-of-type {\n",
              "        vertical-align: middle;\n",
              "    }\n",
              "\n",
              "    .dataframe tbody tr th {\n",
              "        vertical-align: top;\n",
              "    }\n",
              "\n",
              "    .dataframe thead th {\n",
              "        text-align: right;\n",
              "    }\n",
              "</style>\n",
              "<table border=\"1\" class=\"dataframe\">\n",
              "  <thead>\n",
              "    <tr style=\"text-align: right;\">\n",
              "      <th>VB01001</th>\n",
              "      <th>1</th>\n",
              "      <th>2</th>\n",
              "    </tr>\n",
              "    <tr>\n",
              "      <th>VB01003</th>\n",
              "      <th></th>\n",
              "      <th></th>\n",
              "    </tr>\n",
              "  </thead>\n",
              "  <tbody>\n",
              "    <tr>\n",
              "      <th>11</th>\n",
              "      <td>147.617753</td>\n",
              "      <td>149.522512</td>\n",
              "    </tr>\n",
              "    <tr>\n",
              "      <th>12</th>\n",
              "      <td>153.696764</td>\n",
              "      <td>154.965021</td>\n",
              "    </tr>\n",
              "    <tr>\n",
              "      <th>13</th>\n",
              "      <td>160.719801</td>\n",
              "      <td>157.673105</td>\n",
              "    </tr>\n",
              "    <tr>\n",
              "      <th>14</th>\n",
              "      <td>166.406922</td>\n",
              "      <td>159.340320</td>\n",
              "    </tr>\n",
              "    <tr>\n",
              "      <th>15</th>\n",
              "      <td>170.336297</td>\n",
              "      <td>160.759848</td>\n",
              "    </tr>\n",
              "    <tr>\n",
              "      <th>16</th>\n",
              "      <td>172.424933</td>\n",
              "      <td>160.386527</td>\n",
              "    </tr>\n",
              "    <tr>\n",
              "      <th>17</th>\n",
              "      <td>173.814341</td>\n",
              "      <td>160.907937</td>\n",
              "    </tr>\n",
              "    <tr>\n",
              "      <th>18</th>\n",
              "      <td>173.024561</td>\n",
              "      <td>159.438462</td>\n",
              "    </tr>\n",
              "    <tr>\n",
              "      <th>19</th>\n",
              "      <td>172.143158</td>\n",
              "      <td>158.977193</td>\n",
              "    </tr>\n",
              "  </tbody>\n",
              "</table>\n",
              "</div>"
            ],
            "text/plain": [
              "VB01001           1           2\n",
              "VB01003                        \n",
              "11       147.617753  149.522512\n",
              "12       153.696764  154.965021\n",
              "13       160.719801  157.673105\n",
              "14       166.406922  159.340320\n",
              "15       170.336297  160.759848\n",
              "16       172.424933  160.386527\n",
              "17       173.814341  160.907937\n",
              "18       173.024561  159.438462\n",
              "19       172.143158  158.977193"
            ]
          },
          "metadata": {
            "tags": []
          },
          "execution_count": 63
        }
      ]
    },
    {
      "cell_type": "markdown",
      "metadata": {
        "id": "dVGy_1ns7jU9"
      },
      "source": [
        "## Superdesafio 1: criar um dicionário para facilitar a busca da pergunta"
      ]
    },
    {
      "cell_type": "code",
      "metadata": {
        "id": "MhYe6BDFCv8p"
      },
      "source": [
        "# só foi necessário efetuar uma vez o código abaixo\r\n",
        "## % cd/content/drive/MyDrive/Ciência de Dados/Bootcamp da Alura/Modulo_3\r\n",
        "## !unzip \\*.zip\r\n",
        "\r\n",
        "\r\n",
        "\r\n",
        "# tive que unzipar porque estava dando erro: \"UnsupportedOperation: seek\"\r\n",
        "# no fórum, foi mencionada a seguinte solução que funcionou (testei abaixo)\r\n",
        "\r\n",
        "# \"Troca o .open por .read que deve funcionar\r\n",
        "# Não conheço a fundo mas pelo que vi o open trás o conteúdo do arquivo como se tentasse abrir com o bloco de notas ou gedit (acessar como texto), enquanto o read retorna diretamente os bytes do arquivo\"\r\n"
      ],
      "execution_count": null,
      "outputs": []
    },
    {
      "cell_type": "code",
      "metadata": {
        "colab": {
          "base_uri": "https://localhost:8080/",
          "height": 202
        },
        "id": "OTl5KqEMux8f",
        "outputId": "b8ced5db-05c3-4a3c-a506-5c362f468c9e"
      },
      "source": [
        "caminho_pasta_zipada = zip.namelist()[-1]\r\n",
        "d = pd.read_excel(zip.read(caminho_pasta_zipada), sheet_name=\"AMOSTRA2_ALUNO\")\r\n",
        "d.head()"
      ],
      "execution_count": null,
      "outputs": [
        {
          "output_type": "execute_result",
          "data": {
            "text/html": [
              "<div>\n",
              "<style scoped>\n",
              "    .dataframe tbody tr th:only-of-type {\n",
              "        vertical-align: middle;\n",
              "    }\n",
              "\n",
              "    .dataframe tbody tr th {\n",
              "        vertical-align: top;\n",
              "    }\n",
              "\n",
              "    .dataframe thead th {\n",
              "        text-align: right;\n",
              "    }\n",
              "</style>\n",
              "<table border=\"1\" class=\"dataframe\">\n",
              "  <thead>\n",
              "    <tr style=\"text-align: right;\">\n",
              "      <th></th>\n",
              "      <th>VARIÁVEL</th>\n",
              "      <th>QUESTIONÁRIO DO ALUNO</th>\n",
              "    </tr>\n",
              "  </thead>\n",
              "  <tbody>\n",
              "    <tr>\n",
              "      <th>0</th>\n",
              "      <td>ANOPESQ</td>\n",
              "      <td>Ano em que a pesquisa foi realizada</td>\n",
              "    </tr>\n",
              "    <tr>\n",
              "      <th>1</th>\n",
              "      <td>PAIS</td>\n",
              "      <td>País</td>\n",
              "    </tr>\n",
              "    <tr>\n",
              "      <th>2</th>\n",
              "      <td>76</td>\n",
              "      <td>Brasil</td>\n",
              "    </tr>\n",
              "    <tr>\n",
              "      <th>3</th>\n",
              "      <td>REGEOGR</td>\n",
              "      <td>Região geográfica</td>\n",
              "    </tr>\n",
              "    <tr>\n",
              "      <th>4</th>\n",
              "      <td>1</td>\n",
              "      <td>Norte</td>\n",
              "    </tr>\n",
              "  </tbody>\n",
              "</table>\n",
              "</div>"
            ],
            "text/plain": [
              "  VARIÁVEL                QUESTIONÁRIO DO ALUNO\n",
              "0  ANOPESQ  Ano em que a pesquisa foi realizada\n",
              "1     PAIS                                 País\n",
              "2       76                               Brasil\n",
              "3  REGEOGR                    Região geográfica\n",
              "4        1                                Norte"
            ]
          },
          "metadata": {
            "tags": []
          },
          "execution_count": 65
        }
      ]
    },
    {
      "cell_type": "code",
      "metadata": {
        "id": "xLxztWX--OjH"
      },
      "source": [
        "# usei a solução com o arquivo unzipado pois só vi a dica acima depois que havia terminado o desafio\r\n",
        "# depois voltei a ler o zip pois quis diminuir o volume de dados no meu drive\r\n",
        "##d = pd.read_excel(\"/content/drive/MyDrive/Ciência de Dados/Bootcamp da Alura/Modulo_3/Dicionario_PENSE_Microdados_AMOSTRA2.xls\", sheet_name=\"AMOSTRA2_ALUNO\")\r\n",
        "\r\n",
        "d = pd.read_excel(zip.read(caminho_pasta_zipada), sheet_name=\"AMOSTRA2_ALUNO\")\r\n",
        "\r\n",
        "def dicionario(pergunta):\r\n",
        "  encontrou = False\r\n",
        "  alternativas = {}\r\n",
        "\r\n",
        "  for index, row in (d.iterrows()):\r\n",
        "    valor = d.loc[index][0]\r\n",
        "    \r\n",
        "    if type(valor) == str:\r\n",
        "      if valor.isnumeric() == True:\r\n",
        "        valor = int(valor)\r\n",
        "\r\n",
        "    if encontrou == True and (type(valor) == int or type(valor) == float):\r\n",
        "      ind_alt = d.loc[index][0]\r\n",
        "      txt_alt = d.loc[index][1]\r\n",
        "      alternativas[ind_alt] = txt_alt\r\n",
        "    \r\n",
        "    if encontrou == True and (type(valor) != int and type(valor) != float):\r\n",
        "      return {pergunta: p, \"alternativas\":alternativas}\r\n",
        "    \r\n",
        "    if valor == pergunta:\r\n",
        "      p = d.loc[index][1]\r\n",
        "      encontrou = True\r\n",
        "    \r\n",
        "    if index == (len(d)-1):\r\n",
        "      return(\"Pergunta não encontrada\")\r\n"
      ],
      "execution_count": null,
      "outputs": []
    },
    {
      "cell_type": "code",
      "metadata": {
        "colab": {
          "base_uri": "https://localhost:8080/",
          "height": 364
        },
        "id": "QUMZ-lV7oQzX",
        "outputId": "aa73ded9-81fa-4be5-8d4f-6a408fa06118"
      },
      "source": [
        "pergunta = dicionario(\"VB01008A\")\r\n",
        "\r\n",
        "# exemplo de uso\r\n",
        "display(pergunta[\"VB01008A\"])\r\n",
        "print ('\\n')\r\n",
        "display(pergunta[\"alternativas\"])\r\n",
        "print('\\n')\r\n",
        "\r\n",
        "# isso é exatamento aquele dicionário criado na mão anteriormente\r\n",
        "display(respostas)\r\n",
        "\r\n",
        "# portanto, temos um potencial uso de automatizar qualquer análise de frequência\r\n",
        "# bastando efetuar os ajustes"
      ],
      "execution_count": null,
      "outputs": [
        {
          "output_type": "display_data",
          "data": {
            "application/vnd.google.colaboratory.intrinsic+json": {
              "type": "string"
            },
            "text/plain": [
              "'Qual nível de ensino (grau) sua mãe estudou ou estuda?'"
            ]
          },
          "metadata": {
            "tags": []
          }
        },
        {
          "output_type": "stream",
          "text": [
            "\n",
            "\n"
          ],
          "name": "stdout"
        },
        {
          "output_type": "display_data",
          "data": {
            "text/plain": [
              "{'1': 'Minha mãe não estudou',\n",
              " '2': 'Minha mãe começou o ensino fundamental ou 1º grau, mas não terminou',\n",
              " '3': 'Minha mãe terminou o ensino fundamental ou 1º grau',\n",
              " '4': 'Minha mãe começou o ensino médio ou 2º grau, mas não terminou',\n",
              " '5': 'Minha mãe terminou o ensino médio ou 2° grau',\n",
              " '6': 'Minha mãe começou a faculdade (ensino superior), mas não terminou',\n",
              " '7': 'Minha mãe terminou a faculdade (ensino superior)',\n",
              " '8': 'Não sei',\n",
              " 99: 'Não informado'}"
            ]
          },
          "metadata": {
            "tags": []
          }
        },
        {
          "output_type": "stream",
          "text": [
            "\n",
            "\n"
          ],
          "name": "stdout"
        },
        {
          "output_type": "display_data",
          "data": {
            "text/plain": [
              "{1: 'Muito satisfeito',\n",
              " 2: 'Satisfeito',\n",
              " 3: 'Indiferente',\n",
              " 4: 'Insatisfeito',\n",
              " 5: 'Muito insatisfeito',\n",
              " 99: 'Não Informado'}"
            ]
          },
          "metadata": {
            "tags": []
          }
        }
      ]
    },
    {
      "cell_type": "markdown",
      "metadata": {
        "id": "Lu4ALmuZ8cHB"
      },
      "source": [
        "## Superdesafio 2: de alguma maneira, sumarizar as perguntas para ficar mais curta, usando NLP. Dica é buscar saber sobre NLTK e GESIM:\r\n",
        "\r\n",
        "\"A dica é que temos uma ferramenta em Python chamada NLTK. Tem outra também conhecida como Gensim. Essas ferramentas vão te ajudar, por exemplo, a fazer o tagueamento das minhas palavras, e o que é o tagueamento? É eu falar quando aquela palavra é um verbo ou quando aquela palavra é um objeto ou quando aquela palavra é um predicado e assim sucessivamente.\"\r\n",
        "\r\n",
        "Sinceramente, nesse momento tal atividade não é prioridade visto que isso é um desafio por si só com baixo valor retornável; é desafio por si só pois envolve estudos de um ramo da ciência de dados que não estamos tratando neste bootcamp que é processamento de linguagem natural e baixo valor retornável pois não mudará em nada a compreensão e análises desse arquivo de dados. Mas observarei no discord as dicussões sobre tal desafio e postarei aqui se achá-las interessante."
      ]
    },
    {
      "cell_type": "markdown",
      "metadata": {
        "id": "Dgt4c8qjDwMy"
      },
      "source": [
        "# Aula 05 - Medida de centralidade e dispersão (2/2)"
      ]
    },
    {
      "cell_type": "code",
      "metadata": {
        "colab": {
          "base_uri": "https://localhost:8080/",
          "height": 416
        },
        "id": "bKEsymK1EPZF",
        "outputId": "d1f74f98-ae89-403c-885b-9a7b3bcd506c"
      },
      "source": [
        "media_altura = dados[\"VB17004\"].mean()\r\n",
        "dados[\"MEDIA_ALTURA\"] = media_altura \r\n",
        "diferenca_media = dados[\"VB17004\"] - media_altura\r\n",
        "dados[\"DIFERENCA_MEDIA\"] = diferenca_media\r\n",
        "\r\n",
        "dados[[\"VB17004\",\"MEDIA_ALTURA\", \"DIFERENCA_MEDIA\"]]"
      ],
      "execution_count": null,
      "outputs": [
        {
          "output_type": "execute_result",
          "data": {
            "text/html": [
              "<div>\n",
              "<style scoped>\n",
              "    .dataframe tbody tr th:only-of-type {\n",
              "        vertical-align: middle;\n",
              "    }\n",
              "\n",
              "    .dataframe tbody tr th {\n",
              "        vertical-align: top;\n",
              "    }\n",
              "\n",
              "    .dataframe thead th {\n",
              "        text-align: right;\n",
              "    }\n",
              "</style>\n",
              "<table border=\"1\" class=\"dataframe\">\n",
              "  <thead>\n",
              "    <tr style=\"text-align: right;\">\n",
              "      <th></th>\n",
              "      <th>VB17004</th>\n",
              "      <th>MEDIA_ALTURA</th>\n",
              "      <th>DIFERENCA_MEDIA</th>\n",
              "    </tr>\n",
              "  </thead>\n",
              "  <tbody>\n",
              "    <tr>\n",
              "      <th>0</th>\n",
              "      <td>157.0</td>\n",
              "      <td>160.713113</td>\n",
              "      <td>-3.713113</td>\n",
              "    </tr>\n",
              "    <tr>\n",
              "      <th>1</th>\n",
              "      <td>152.0</td>\n",
              "      <td>160.713113</td>\n",
              "      <td>-8.713113</td>\n",
              "    </tr>\n",
              "    <tr>\n",
              "      <th>2</th>\n",
              "      <td>161.4</td>\n",
              "      <td>160.713113</td>\n",
              "      <td>0.686887</td>\n",
              "    </tr>\n",
              "    <tr>\n",
              "      <th>3</th>\n",
              "      <td>172.5</td>\n",
              "      <td>160.713113</td>\n",
              "      <td>11.786887</td>\n",
              "    </tr>\n",
              "    <tr>\n",
              "      <th>4</th>\n",
              "      <td>167.5</td>\n",
              "      <td>160.713113</td>\n",
              "      <td>6.786887</td>\n",
              "    </tr>\n",
              "    <tr>\n",
              "      <th>...</th>\n",
              "      <td>...</td>\n",
              "      <td>...</td>\n",
              "      <td>...</td>\n",
              "    </tr>\n",
              "    <tr>\n",
              "      <th>16551</th>\n",
              "      <td>167.9</td>\n",
              "      <td>160.713113</td>\n",
              "      <td>7.186887</td>\n",
              "    </tr>\n",
              "    <tr>\n",
              "      <th>16552</th>\n",
              "      <td>185.8</td>\n",
              "      <td>160.713113</td>\n",
              "      <td>25.086887</td>\n",
              "    </tr>\n",
              "    <tr>\n",
              "      <th>16553</th>\n",
              "      <td>159.4</td>\n",
              "      <td>160.713113</td>\n",
              "      <td>-1.313113</td>\n",
              "    </tr>\n",
              "    <tr>\n",
              "      <th>16554</th>\n",
              "      <td>157.8</td>\n",
              "      <td>160.713113</td>\n",
              "      <td>-2.913113</td>\n",
              "    </tr>\n",
              "    <tr>\n",
              "      <th>16555</th>\n",
              "      <td>163.9</td>\n",
              "      <td>160.713113</td>\n",
              "      <td>3.186887</td>\n",
              "    </tr>\n",
              "  </tbody>\n",
              "</table>\n",
              "<p>16556 rows × 3 columns</p>\n",
              "</div>"
            ],
            "text/plain": [
              "       VB17004  MEDIA_ALTURA  DIFERENCA_MEDIA\n",
              "0        157.0    160.713113        -3.713113\n",
              "1        152.0    160.713113        -8.713113\n",
              "2        161.4    160.713113         0.686887\n",
              "3        172.5    160.713113        11.786887\n",
              "4        167.5    160.713113         6.786887\n",
              "...        ...           ...              ...\n",
              "16551    167.9    160.713113         7.186887\n",
              "16552    185.8    160.713113        25.086887\n",
              "16553    159.4    160.713113        -1.313113\n",
              "16554    157.8    160.713113        -2.913113\n",
              "16555    163.9    160.713113         3.186887\n",
              "\n",
              "[16556 rows x 3 columns]"
            ]
          },
          "metadata": {
            "tags": []
          },
          "execution_count": 68
        }
      ]
    },
    {
      "cell_type": "markdown",
      "metadata": {
        "id": "4VffVG6rHogo"
      },
      "source": [
        "Thiago mencionou que o dataframe anterior poderia ser utilziado para calcular o desvio absoluto médio. Pesquisando sobre isso, achei:\r\n",
        "\r\n",
        "\"O desvio absoluto médio de um conjunto de dados é a média das distâncias entre cada dado e a média. Ele nos dá uma noção da variabilidade em um conjunto de dados. Isso é o que chamamos de desvios absolutos\"\r\n",
        "\r\n",
        "Fonte: https://pt.khanacademy.org/math/statistics-probability/summarizing-quantitative-data/other-measures-of-spread/a/mean-absolute-deviation-mad-review#:~:text=O%20desvio%20absoluto%20m%C3%A9dio%20de,em%20um%20conjunto%20de%20dados.&text=Isso%20%C3%A9%20o%20que%20chamamos%20de%20desvios%20absolutos."
      ]
    },
    {
      "cell_type": "code",
      "metadata": {
        "colab": {
          "base_uri": "https://localhost:8080/",
          "height": 416
        },
        "id": "Hk_pP_3yFbZs",
        "outputId": "f21b4fe5-28d6-422f-b419-ce095716ad7b"
      },
      "source": [
        "diferenca_quadrada = diferenca_media**2\r\n",
        "dados[\"DIFERENCA_QUADRADA\"] = diferenca_quadrada\r\n",
        "\r\n",
        "dados[[\"VB17004\",\"MEDIA_ALTURA\", \"DIFERENCA_MEDIA\",\"DIFERENCA_QUADRADA\"]]\r\n"
      ],
      "execution_count": null,
      "outputs": [
        {
          "output_type": "execute_result",
          "data": {
            "text/html": [
              "<div>\n",
              "<style scoped>\n",
              "    .dataframe tbody tr th:only-of-type {\n",
              "        vertical-align: middle;\n",
              "    }\n",
              "\n",
              "    .dataframe tbody tr th {\n",
              "        vertical-align: top;\n",
              "    }\n",
              "\n",
              "    .dataframe thead th {\n",
              "        text-align: right;\n",
              "    }\n",
              "</style>\n",
              "<table border=\"1\" class=\"dataframe\">\n",
              "  <thead>\n",
              "    <tr style=\"text-align: right;\">\n",
              "      <th></th>\n",
              "      <th>VB17004</th>\n",
              "      <th>MEDIA_ALTURA</th>\n",
              "      <th>DIFERENCA_MEDIA</th>\n",
              "      <th>DIFERENCA_QUADRADA</th>\n",
              "    </tr>\n",
              "  </thead>\n",
              "  <tbody>\n",
              "    <tr>\n",
              "      <th>0</th>\n",
              "      <td>157.0</td>\n",
              "      <td>160.713113</td>\n",
              "      <td>-3.713113</td>\n",
              "      <td>13.787209</td>\n",
              "    </tr>\n",
              "    <tr>\n",
              "      <th>1</th>\n",
              "      <td>152.0</td>\n",
              "      <td>160.713113</td>\n",
              "      <td>-8.713113</td>\n",
              "      <td>75.918339</td>\n",
              "    </tr>\n",
              "    <tr>\n",
              "      <th>2</th>\n",
              "      <td>161.4</td>\n",
              "      <td>160.713113</td>\n",
              "      <td>0.686887</td>\n",
              "      <td>0.471814</td>\n",
              "    </tr>\n",
              "    <tr>\n",
              "      <th>3</th>\n",
              "      <td>172.5</td>\n",
              "      <td>160.713113</td>\n",
              "      <td>11.786887</td>\n",
              "      <td>138.930703</td>\n",
              "    </tr>\n",
              "    <tr>\n",
              "      <th>4</th>\n",
              "      <td>167.5</td>\n",
              "      <td>160.713113</td>\n",
              "      <td>6.786887</td>\n",
              "      <td>46.061834</td>\n",
              "    </tr>\n",
              "    <tr>\n",
              "      <th>...</th>\n",
              "      <td>...</td>\n",
              "      <td>...</td>\n",
              "      <td>...</td>\n",
              "      <td>...</td>\n",
              "    </tr>\n",
              "    <tr>\n",
              "      <th>16551</th>\n",
              "      <td>167.9</td>\n",
              "      <td>160.713113</td>\n",
              "      <td>7.186887</td>\n",
              "      <td>51.651344</td>\n",
              "    </tr>\n",
              "    <tr>\n",
              "      <th>16552</th>\n",
              "      <td>185.8</td>\n",
              "      <td>160.713113</td>\n",
              "      <td>25.086887</td>\n",
              "      <td>629.351896</td>\n",
              "    </tr>\n",
              "    <tr>\n",
              "      <th>16553</th>\n",
              "      <td>159.4</td>\n",
              "      <td>160.713113</td>\n",
              "      <td>-1.313113</td>\n",
              "      <td>1.724266</td>\n",
              "    </tr>\n",
              "    <tr>\n",
              "      <th>16554</th>\n",
              "      <td>157.8</td>\n",
              "      <td>160.713113</td>\n",
              "      <td>-2.913113</td>\n",
              "      <td>8.486228</td>\n",
              "    </tr>\n",
              "    <tr>\n",
              "      <th>16555</th>\n",
              "      <td>163.9</td>\n",
              "      <td>160.713113</td>\n",
              "      <td>3.186887</td>\n",
              "      <td>10.156248</td>\n",
              "    </tr>\n",
              "  </tbody>\n",
              "</table>\n",
              "<p>16556 rows × 4 columns</p>\n",
              "</div>"
            ],
            "text/plain": [
              "       VB17004  MEDIA_ALTURA  DIFERENCA_MEDIA  DIFERENCA_QUADRADA\n",
              "0        157.0    160.713113        -3.713113           13.787209\n",
              "1        152.0    160.713113        -8.713113           75.918339\n",
              "2        161.4    160.713113         0.686887            0.471814\n",
              "3        172.5    160.713113        11.786887          138.930703\n",
              "4        167.5    160.713113         6.786887           46.061834\n",
              "...        ...           ...              ...                 ...\n",
              "16551    167.9    160.713113         7.186887           51.651344\n",
              "16552    185.8    160.713113        25.086887          629.351896\n",
              "16553    159.4    160.713113        -1.313113            1.724266\n",
              "16554    157.8    160.713113        -2.913113            8.486228\n",
              "16555    163.9    160.713113         3.186887           10.156248\n",
              "\n",
              "[16556 rows x 4 columns]"
            ]
          },
          "metadata": {
            "tags": []
          },
          "execution_count": 69
        }
      ]
    },
    {
      "cell_type": "code",
      "metadata": {
        "colab": {
          "base_uri": "https://localhost:8080/"
        },
        "id": "jUyp2B2MIsLv",
        "outputId": "6e1fbe8c-3a9b-4411-e7a2-82aacf38f2df"
      },
      "source": [
        "# agora podemos calcular a média da diferença quadrada\r\n",
        "# esse valor é chamado de \"variância\", no caso da amostra (e não da população)\r\n",
        "dados[\"DIFERENCA_QUADRADA\"].mean()\r\n"
      ],
      "execution_count": null,
      "outputs": [
        {
          "output_type": "execute_result",
          "data": {
            "text/plain": [
              "106.9105945368652"
            ]
          },
          "metadata": {
            "tags": []
          },
          "execution_count": 70
        }
      ]
    },
    {
      "cell_type": "code",
      "metadata": {
        "colab": {
          "base_uri": "https://localhost:8080/"
        },
        "id": "zMEEMUbcJW1y",
        "outputId": "e3fcd504-690f-4299-957d-2db3c302e4f9"
      },
      "source": [
        "# outra maneira de calcular a variância (ele usou a fórmula: \"1/(n-1)\" e somente explicou que era parecido com a média\r\n",
        "# exceto esse \"menos um\"; mas ele não explicou nada além disso.\r\n",
        "# portanto, essa variância foi ligeiramente diferente da anterior (pois anterior sim é apenas uma média)\r\n",
        "\r\n",
        "variancia_amostral = 1/(len(dados)-1) * dados[\"DIFERENCA_QUADRADA\"].sum()\r\n",
        "variancia_amostral"
      ],
      "execution_count": null,
      "outputs": [
        {
          "output_type": "execute_result",
          "data": {
            "text/plain": [
              "106.91705244049119"
            ]
          },
          "metadata": {
            "tags": []
          },
          "execution_count": 71
        }
      ]
    },
    {
      "cell_type": "markdown",
      "metadata": {
        "id": "MWcp0g_xLdAA"
      },
      "source": [
        "Como a variância está \"ao quadrado\" é necessário tirar a raiz.\r\n",
        "Se tirarmos a raiz quadrada da variância temos então o desvio padrão."
      ]
    },
    {
      "cell_type": "code",
      "metadata": {
        "colab": {
          "base_uri": "https://localhost:8080/"
        },
        "id": "C28Ro584KVV2",
        "outputId": "fe42da92-5c79-4743-ce14-ccc979e614ef"
      },
      "source": [
        "desvio_padrao = np.sqrt(variancia_amostral)\r\n",
        "desvio_padrao"
      ],
      "execution_count": null,
      "outputs": [
        {
          "output_type": "execute_result",
          "data": {
            "text/plain": [
              "10.340070233827776"
            ]
          },
          "metadata": {
            "tags": []
          },
          "execution_count": 72
        }
      ]
    },
    {
      "cell_type": "code",
      "metadata": {
        "colab": {
          "base_uri": "https://localhost:8080/"
        },
        "id": "OthM_XH_MabA",
        "outputId": "5623fa25-5b7a-44f2-b8f7-5caa102e9d97"
      },
      "source": [
        "# ao calcular pelo método std() é esperado o mesmo resultado\r\n",
        "dados[\"VB17004\"].std()"
      ],
      "execution_count": null,
      "outputs": [
        {
          "output_type": "execute_result",
          "data": {
            "text/plain": [
              "10.3400702338278"
            ]
          },
          "metadata": {
            "tags": []
          },
          "execution_count": 73
        }
      ]
    },
    {
      "cell_type": "markdown",
      "metadata": {
        "id": "Vr1DrmwuKPgm"
      },
      "source": [
        "# Aula 06 - Intervalo de Confiança e Testes (1/2)"
      ]
    },
    {
      "cell_type": "markdown",
      "metadata": {
        "id": "7i9QD4lKKZgK"
      },
      "source": [
        "Estamos trabalhando com uma amostra. Como que eu faço para saber o quanto dessa amostra representa no mundo real?\r\n",
        "A resposta está no Intervalo de Confiança.\r\n",
        "https://www.statsmodels.org/stable/generated/statsmodels.stats.weightstats.zconfint.html"
      ]
    },
    {
      "cell_type": "code",
      "metadata": {
        "id": "Wu9oywd2LU3g",
        "colab": {
          "base_uri": "https://localhost:8080/"
        },
        "outputId": "ed7a7294-0c36-4ff9-bf82-271f2b523e38"
      },
      "source": [
        "# importar o teste estatístico Z. Chamado de Z teste.\r\n",
        "from statsmodels.stats.weightstats import zconfint"
      ],
      "execution_count": null,
      "outputs": [
        {
          "output_type": "stream",
          "text": [
            "/usr/local/lib/python3.6/dist-packages/statsmodels/tools/_testing.py:19: FutureWarning: pandas.util.testing is deprecated. Use the functions in the public API at pandas.testing instead.\n",
            "  import pandas.util.testing as tm\n"
          ],
          "name": "stderr"
        }
      ]
    },
    {
      "cell_type": "code",
      "metadata": {
        "colab": {
          "base_uri": "https://localhost:8080/"
        },
        "id": "C0di8c8dLYD_",
        "outputId": "fe64e5ae-6e01-4fe4-c784-4438e730691b"
      },
      "source": [
        "# o to_list() é para transformar uma série em lista e assim o zconfint não reclamar (no futuro ele não aceitará séries)\r\n",
        "zconfint(dados[\"VB17004\"].to_list())"
      ],
      "execution_count": null,
      "outputs": [
        {
          "output_type": "execute_result",
          "data": {
            "text/plain": [
              "(160.5556082427712, 160.87061789880892)"
            ]
          },
          "metadata": {
            "tags": []
          },
          "execution_count": 75
        }
      ]
    },
    {
      "cell_type": "markdown",
      "metadata": {
        "id": "eomHQ_-QMyGS"
      },
      "source": [
        "\"O que esse intervalo de confiança quer nos dizer? Que existe uma chance de a média das alturas dos jovens no ensino fundamental ao ensino médio esteja representada dentro desse intervalo, que vai de 160.55 a 160.87. Mas qual é essa chance dessa média da minha população, do meu valor real, estar dentro desse meu intervalo de confiança?\r\n",
        "\r\n",
        "A chance desse valor real estar dentro desse meu intervalo de confiança é de 95%, que é o chamado nível de confiança. E como eu sei isso? Porque aqui na nossa documentação ele fala que esse alpha é de 0.05.\"\r\n",
        "\r\n",
        "Alpha é chamado de significância."
      ]
    },
    {
      "cell_type": "markdown",
      "metadata": {
        "id": "gdRbqzn6OFVH"
      },
      "source": [
        "\"O zconfint não é o único que nos dá esse intervalo de confiança; temos outros testes que podem nos dar esse intervalo de confiança também.\r\n",
        "Um desses outros testes é o chamado ttest. E cada um deles tem uma usabilidade, quando eu vou usar um, quando eu vou usar outro, você vai descobrir nos vídeos complementares (do bootcamp)\"\r\n",
        "\r\n",
        "Um dos métodos descritos na documentação do link a segui é o \"tconfint\"\r\n",
        "\r\n",
        "https://www.statsmodels.org/stable/generated/statsmodels.stats.weightstats.DescrStatsW.html#statsmodels.stats.weightstats.DescrStatsW\r\n",
        "\r\n",
        "O ttest pede para nós fazermos a descrição dos nossos dados."
      ]
    },
    {
      "cell_type": "code",
      "metadata": {
        "id": "X3nOyvByPOC5"
      },
      "source": [
        "from statsmodels.stats.weightstats import DescrStatsW"
      ],
      "execution_count": null,
      "outputs": []
    },
    {
      "cell_type": "code",
      "metadata": {
        "colab": {
          "base_uri": "https://localhost:8080/"
        },
        "id": "Dvzb1i2uPUXB",
        "outputId": "1c5e5889-8893-47c3-b52b-0c9a1ccd2ca9"
      },
      "source": [
        "descricao_altura = DescrStatsW(dados[\"VB17004\"])\r\n",
        "descricao_altura"
      ],
      "execution_count": null,
      "outputs": [
        {
          "output_type": "execute_result",
          "data": {
            "text/plain": [
              "<statsmodels.stats.weightstats.DescrStatsW at 0x7fb2d1172358>"
            ]
          },
          "metadata": {
            "tags": []
          },
          "execution_count": 77
        }
      ]
    },
    {
      "cell_type": "code",
      "metadata": {
        "colab": {
          "base_uri": "https://localhost:8080/"
        },
        "id": "7CVGs6q-Psjv",
        "outputId": "04afac37-3422-4b9d-fe6b-fd48994def97"
      },
      "source": [
        "# repare que o valor é muito próximo ao obtido no zconfint\r\n",
        "descricao_altura.tconfint_mean()"
      ],
      "execution_count": null,
      "outputs": [
        {
          "output_type": "execute_result",
          "data": {
            "text/plain": [
              "(160.55559672649298, 160.8706294150872)"
            ]
          },
          "metadata": {
            "tags": []
          },
          "execution_count": 78
        }
      ]
    },
    {
      "cell_type": "markdown",
      "metadata": {
        "id": "4hhjD-tTQcaW"
      },
      "source": [
        "É importante saber o que é \"intervalo de confiança\", \"nível confiança\" e \"significância\"."
      ]
    },
    {
      "cell_type": "markdown",
      "metadata": {
        "id": "bS-lp7miSbZC"
      },
      "source": [
        "## Desafio: plotar o intervalo de confiança no histograma das alturas"
      ]
    },
    {
      "cell_type": "code",
      "metadata": {
        "colab": {
          "base_uri": "https://localhost:8080/",
          "height": 444
        },
        "id": "eAmkGmUSQ9-Z",
        "outputId": "55cc4ed5-ac96-4cc7-eb86-dffb5c3af4ec"
      },
      "source": [
        "# tamanho da fonte\r\n",
        "sns.set(font_scale=1.5)\r\n",
        "\r\n",
        "# kde = True adiciona uma linha de suavização\r\n",
        "ax = sns.histplot(data = dados, x = \"VB17004\",kde=True )\r\n",
        "\r\n",
        "# tamanho do gráfico\r\n",
        "ax.figure.set_size_inches(12,6)\r\n",
        "\r\n",
        "# título\r\n",
        "ax.set_title(\"Distribuição de frequência\")\r\n",
        "\r\n",
        "# rótulo x\r\n",
        "ax.set_xlabel(\"Altura\")\r\n",
        "\r\n",
        "# parâmetros do desafio\r\n",
        "media = dados[\"VB17004\"].mean()\r\n",
        "int_confianca_inf = descricao_altura.tconfint_mean()[0]\r\n",
        "int_confianca_sup = descricao_altura.tconfint_mean()[1]\r\n",
        "\r\n",
        "ax.axvline(media,linestyle=\"--\", color = \"black\",label = \"Média\")\r\n",
        "\r\n",
        "ax.axvline(int_confianca_inf, ls=\"solid\", color = \"brown\", label = \"Int. Confiança\")\r\n",
        "ax.axvline(int_confianca_sup, ls=\"solid\", color = \"brown\")\r\n",
        "\r\n",
        "# efeito \"zoom\" no gráfico (só quero observar uma fração do eixo x)\r\n",
        "ax.set_xlim(155,165)\r\n",
        "\r\n",
        "ax.legend()\r\n",
        "ax.plot()"
      ],
      "execution_count": null,
      "outputs": [
        {
          "output_type": "execute_result",
          "data": {
            "text/plain": [
              "[]"
            ]
          },
          "metadata": {
            "tags": []
          },
          "execution_count": 79
        },
        {
          "output_type": "display_data",
          "data": {
            "image/png": "[encoded data removed]",
            "text/plain": [
              "<Figure size 864x432 with 1 Axes>"
            ]
          },
          "metadata": {
            "tags": []
          }
        }
      ]
    },
    {
      "cell_type": "markdown",
      "metadata": {
        "id": "JF_1h8ApTRCI"
      },
      "source": [
        "# Aula 06 - Intervalo de Confiança e Testes (2/2) Parte I"
      ]
    },
    {
      "cell_type": "code",
      "metadata": {
        "colab": {
          "base_uri": "https://localhost:8080/",
          "height": 316
        },
        "id": "HL9YeglJOZWb",
        "outputId": "a2713450-1f1c-4f5e-e683-0718c90eca0d"
      },
      "source": [
        "sns.boxplot(x = \"VB01001\", y = \"VB17004\", data = dados)"
      ],
      "execution_count": null,
      "outputs": [
        {
          "output_type": "execute_result",
          "data": {
            "text/plain": [
              "<matplotlib.axes._subplots.AxesSubplot at 0x7fb2cf751080>"
            ]
          },
          "metadata": {
            "tags": []
          },
          "execution_count": 80
        },
        {
          "output_type": "display_data",
          "data": {
            "image/png": "[encoded data removed]",
            "text/plain": [
              "<Figure size 432x288 with 1 Axes>"
            ]
          },
          "metadata": {
            "tags": []
          }
        }
      ]
    },
    {
      "cell_type": "markdown",
      "metadata": {
        "id": "oUjsp3oFO1Ei"
      },
      "source": [
        " Será que a diferença entre as médias dessas distribuições é estatisticamente relevante? Será que a partir do ztest() eu posso verificar se elas têm diferenças significativas uma entre outra?"
      ]
    },
    {
      "cell_type": "code",
      "metadata": {
        "colab": {
          "base_uri": "https://localhost:8080/"
        },
        "id": "8DWqzqf3O1zv",
        "outputId": "de03fc97-f639-4633-dac8-694262420a51"
      },
      "source": [
        "from statsmodels.stats.weightstats import ztest\r\n",
        "\r\n",
        "distribuicao_altura_m = dados.query(\"VB01001==1\")[\"VB17004\"]\r\n",
        "distribuicao_altura_f = dados.query(\"VB01001==2\")[\"VB17004\"]\r\n",
        "\r\n",
        "_ , p_value = ztest(distribuicao_altura_m, distribuicao_altura_f)\r\n",
        "p_value"
      ],
      "execution_count": null,
      "outputs": [
        {
          "output_type": "execute_result",
          "data": {
            "text/plain": [
              "0.0"
            ]
          },
          "metadata": {
            "tags": []
          },
          "execution_count": 81
        }
      ]
    },
    {
      "cell_type": "markdown",
      "metadata": {
        "id": "AELOnsaRQHn_"
      },
      "source": [
        "O ztest retorna uma tupla (41.16851708819389, 0.0). O primeiro parâmetro são as informações sobre as estatísticas do ztest(), isso nós vamos ignorar por enquanto, mas o que me interessa aqui é o segundo parâmetro dessa tupla que ele retorna, que é 0.0. Esse 0.0 é conhecido como p_value."
      ]
    },
    {
      "cell_type": "code",
      "metadata": {
        "colab": {
          "base_uri": "https://localhost:8080/"
        },
        "id": "tqdHfPklQ_PX",
        "outputId": "19b6c3fa-7a33-4163-f055-e4f7fc0220e5"
      },
      "source": [
        "_ , pvalue = ztest(distribuicao_altura_m, distribuicao_altura_f)\r\n",
        "pvalue"
      ],
      "execution_count": null,
      "outputs": [
        {
          "output_type": "execute_result",
          "data": {
            "text/plain": [
              "0.0"
            ]
          },
          "metadata": {
            "tags": []
          },
          "execution_count": 82
        }
      ]
    },
    {
      "cell_type": "markdown",
      "metadata": {
        "id": "FfFtAt7YRRPG"
      },
      "source": [
        "O que o p_value me fala? Por ele, eu posso rejeitar a hipótese nula ou aceitar a hipótese nula. E qual é a hipótese nula do ztest()? Aí você pode e dar uma lida na documentação:\r\n",
        "\r\n",
        "https://www.statsmodels.org/stable/generated/statsmodels.stats.weightstats.ztest.html\r\n",
        "\r\n",
        "Na documentação, ele fala o que ele está testando: ele está verificando se as médias entre essas distribuições são iguais.\r\n",
        "\r\n",
        "\r\n"
      ]
    },
    {
      "cell_type": "markdown",
      "metadata": {
        "id": "YhFKD6Y7R3Mp"
      },
      "source": [
        "Através do ztest, podemos desconsiderar a hipótese nula. Portanto, as médias são significativamente diferentes entre os meninos e as meninas."
      ]
    },
    {
      "cell_type": "code",
      "metadata": {
        "colab": {
          "base_uri": "https://localhost:8080/"
        },
        "id": "KlebIaWCTH_T",
        "outputId": "1a0c9e2c-a332-4744-89b7-0bbb89b23c55"
      },
      "source": [
        "# repare que ao comparar a mesma distribuição de altura, o p_value é 1\r\n",
        "# portanto, nesse caso, a gente aceita a hipótese zero\r\n",
        "\r\n",
        "_ , pvalue = ztest(distribuicao_altura_m, distribuicao_altura_m)\r\n",
        "pvalue"
      ],
      "execution_count": null,
      "outputs": [
        {
          "output_type": "execute_result",
          "data": {
            "text/plain": [
              "1.0"
            ]
          },
          "metadata": {
            "tags": []
          },
          "execution_count": 83
        }
      ]
    },
    {
      "cell_type": "markdown",
      "metadata": {
        "id": "45mHaFwgUbGj"
      },
      "source": [
        "Duas das principais premissas do ztest: tamanho da nossa amostra -> o n da amostra tem que ser maior que 30 e a outro é que ela considera que a sua distribuição é normal."
      ]
    },
    {
      "cell_type": "code",
      "metadata": {
        "colab": {
          "base_uri": "https://localhost:8080/",
          "height": 298
        },
        "id": "Gs2MOO_bU72i",
        "outputId": "84b5eda8-18ec-466e-91e2-47ca6f1405b3"
      },
      "source": [
        "# conforme já foi visto, parece que a distribuição de altura dos alunos do sexo F é normal\r\n",
        "# enquanto que a distribuição de altura dos alunos do sexo M não é normal\r\n",
        "\r\n",
        "ax = sns.histplot(data = dados, x = \"VB17004\", bins = 'sturges', kde = True, hue = \"VB01001\" )"
      ],
      "execution_count": null,
      "outputs": [
        {
          "output_type": "display_data",
          "data": {
            "image/png": "[encoded data removed]",
            "text/plain": [
              "<Figure size 432x288 with 1 Axes>"
            ]
          },
          "metadata": {
            "tags": []
          }
        }
      ]
    },
    {
      "cell_type": "markdown",
      "metadata": {
        "id": "biXkm8WhV2_V"
      },
      "source": [
        "Preciso também conseguir provar através de testes estatísticos se aquela minha distribuição é normal ou não. Portanto, preciso fazer um \"normal test\".\r\n",
        "\r\n",
        "https://docs.scipy.org/doc/scipy-0.16.0/reference/generated/scipy.stats.normaltest.html"
      ]
    },
    {
      "cell_type": "markdown",
      "metadata": {
        "id": "YrTRujGlVtrl"
      },
      "source": [
        "“Thiago, até o momento nós estávamos utilizando aquele statsmodels”. O Statsmodels é uma biblioteca muito rica, tem muita coisa relacionada à parte de estatística. Você pode explorar essa biblioteca, acho que é excelente que você explore até, mas o stats do SciPy tem alguns métodos às vezes um pouco mais simples de ser utilizados. E um desses é o normal test. Nós podemos aplicar esse normal test lá na nossa base de dados."
      ]
    },
    {
      "cell_type": "code",
      "metadata": {
        "colab": {
          "base_uri": "https://localhost:8080/"
        },
        "id": "VybRecVoU8Ei",
        "outputId": "1d903fd7-280b-4a8d-ba18-6cb3fa827dfc"
      },
      "source": [
        "from scipy.stats import normaltest\r\n",
        "\r\n",
        "_, p_value_normaltest_m = normaltest(distribuicao_altura_m)\r\n",
        "_, p_value_normaltest_f = normaltest(distribuicao_altura_f)\r\n",
        "\r\n",
        "print(p_value_normaltest_m, p_value_normaltest_f)"
      ],
      "execution_count": null,
      "outputs": [
        {
          "output_type": "stream",
          "text": [
            "7.695118853996524e-75 7.125189471020874e-47\n"
          ],
          "name": "stdout"
        }
      ]
    },
    {
      "cell_type": "markdown",
      "metadata": {
        "id": "X2u0VeIvWkmt"
      },
      "source": [
        "O p_value já deu como menor que 0.05. Se ele é menor que 0.05, eu já sei o que eu recuso a minha hipótese 0. Mas qual é a minha hipótese 0? Não sei, eu preciso verificar na documentação do SciPy o que eu estou testando no normaltest().\r\n",
        "\r\n",
        "\r\n",
        "\"This function tests the null hypothesis that a sample comes from a normal distribution. It is based on D’Agostino and Pearson’s test that combines skew and kurtosis to produce an omnibus test of normality.\"\r\n",
        "\r\n",
        "Na documentação (trecho acima) está falando para mim que está verificando que a hipótese nula pertence a uma distribuição normal. Neste caso, estamos refutando a nossa hipótese 0, então a nossa hipótese alternativa, que é a hipótese 1, afirma que a nossa distribuição não é uma distribuição normal.\r\n",
        "\r\n",
        "Nós comprovamos, através de testes de hipótese, que a distribuição da curva da altura das pessoas do sexo masculino e feminino não é uma curva normal\r\n",
        "\r\n",
        "O detalhe é que para o segundo caso, para as mulheres, ele se aproxima mais de ter uma distribuição normal. Apesar de não ser, ele se aproxima mais, sendo que nós achamos que tinha uma cara de distribuição normal."
      ]
    },
    {
      "cell_type": "markdown",
      "metadata": {
        "id": "tr024F3IZNv8"
      },
      "source": [
        "## Desafio: Como será que é a distribuição do IMC para as pessoas que estão satisfeitas com o seu corpo? Ela é estatisticamente diferente da distribuição das pessoas que estão insatisfeitas com o seu corpo?"
      ]
    },
    {
      "cell_type": "code",
      "metadata": {
        "colab": {
          "base_uri": "https://localhost:8080/",
          "height": 298
        },
        "id": "cNIkT-T33CS1",
        "outputId": "bb50a93c-ea9c-4e7f-a008-a120efce6c8b"
      },
      "source": [
        "# calcular o IMC (massa/altura²); altura é em metros.\r\n",
        "dados[\"IMC_numerico\"] = dados[\"VB17003\"]/(dados[\"VB17004\"]/100)**2\r\n",
        "\r\n",
        "ax = sns.histplot(data = dados, x = \"IMC_numerico\", kde = True, hue = \"VB01001\" )\r\n"
      ],
      "execution_count": null,
      "outputs": [
        {
          "output_type": "display_data",
          "data": {
            "image/png": "[encoded data removed]",
            "text/plain": [
              "<Figure size 432x288 with 1 Axes>"
            ]
          },
          "metadata": {
            "tags": []
          }
        }
      ]
    },
    {
      "cell_type": "code",
      "metadata": {
        "colab": {
          "base_uri": "https://localhost:8080/"
        },
        "id": "nrRq9EAz3mi1",
        "outputId": "ef6905ca-7d86-4e28-b64c-bd625cf327e0"
      },
      "source": [
        "dicionario(\"VB11007\")"
      ],
      "execution_count": null,
      "outputs": [
        {
          "output_type": "execute_result",
          "data": {
            "text/plain": [
              "{'VB11007': 'Como você se sente em relação ao seu corpo?',\n",
              " 'alternativas': {'1': 'Muito satisfeito(a)',\n",
              "  '2': 'Satisfeito(a)',\n",
              "  '3': 'Indiferente',\n",
              "  '4': 'Insatisfeito(a)',\n",
              "  '5': 'Muito insatisfeito(a)',\n",
              "  99: 'Não informado'}}"
            ]
          },
          "metadata": {
            "tags": []
          },
          "execution_count": 87
        }
      ]
    },
    {
      "cell_type": "code",
      "metadata": {
        "colab": {
          "base_uri": "https://localhost:8080/"
        },
        "id": "awcZhwi04QEg",
        "outputId": "15909b1f-94ae-40cf-e901-eef3be436c3b"
      },
      "source": [
        "distribuicao_satisfeito = dados.query(\"VB11007 == 1 or VB11007 == 2\")[\"IMC_numerico\"]\r\n",
        "distribuicao_insatisfeito = dados.query(\"VB11007 == 4 or VB11007 == 5\")[\"IMC_numerico\"]\r\n",
        "\r\n",
        "_ , pvalue = ztest(distribuicao_satisfeito, distribuicao_insatisfeito)\r\n",
        "pvalue"
      ],
      "execution_count": null,
      "outputs": [
        {
          "output_type": "execute_result",
          "data": {
            "text/plain": [
              "4.98964248431594e-216"
            ]
          },
          "metadata": {
            "tags": []
          },
          "execution_count": 88
        }
      ]
    },
    {
      "cell_type": "markdown",
      "metadata": {
        "id": "8DK_QdmC6r9T"
      },
      "source": [
        "Vimos que a distribuição do IMC é a mesma para H e M.\r\n",
        "Também vimos que a distribuição do IMC entre aqueles satisfeitos e insatisfeitos com o corpo é de fato diferente."
      ]
    },
    {
      "cell_type": "code",
      "metadata": {
        "colab": {
          "base_uri": "https://localhost:8080/",
          "height": 298
        },
        "id": "4AQU6tYP7Hr0",
        "outputId": "25aa5531-2a10-4671-e4b0-90265fa3093f"
      },
      "source": [
        "ax = sns.histplot(data = dados.query(\"VB11007 == 1 or VB11007 == 2\"), x = \"IMC_numerico\", kde = True, hue = \"VB11007\" )"
      ],
      "execution_count": null,
      "outputs": [
        {
          "output_type": "display_data",
          "data": {
            "image/png": "[encoded data removed]",
            "text/plain": [
              "<Figure size 432x288 with 1 Axes>"
            ]
          },
          "metadata": {
            "tags": []
          }
        }
      ]
    },
    {
      "cell_type": "code",
      "metadata": {
        "colab": {
          "base_uri": "https://localhost:8080/",
          "height": 298
        },
        "id": "wiV5lloi8QOq",
        "outputId": "85167a6f-d406-423a-d87b-99fc85cbd7ef"
      },
      "source": [
        "ax = sns.histplot(data = dados.query(\"VB11007 == 4 or VB11007 == 5\"), x = \"IMC_numerico\", kde = True, hue = \"VB11007\" )"
      ],
      "execution_count": null,
      "outputs": [
        {
          "output_type": "display_data",
          "data": {
            "image/png": "[encoded data removed]",
            "text/plain": [
              "<Figure size 432x288 with 1 Axes>"
            ]
          },
          "metadata": {
            "tags": []
          }
        }
      ]
    },
    {
      "cell_type": "code",
      "metadata": {
        "colab": {
          "base_uri": "https://localhost:8080/",
          "height": 121
        },
        "id": "HdAb59Sj8iAp",
        "outputId": "bb7c0671-af3c-4d77-b71f-2342b53db4cc"
      },
      "source": [
        "display(dados.query(\"VB11007 == 1 or VB11007 == 2\")[\"IMC_numerico\"].mean())\r\n",
        "display(dados.query(\"VB11007 == 4 or VB11007 == 5\")[\"IMC_numerico\"].mean())\r\n",
        "print('\\n')\r\n",
        "display(dados.query(\"VB11007 == 1 or VB11007 == 2\")[\"IMC_numerico\"].quantile(q=0.5))\r\n",
        "display(dados.query(\"VB11007 == 4 or VB11007 == 5\")[\"IMC_numerico\"].quantile(q=0.5))\r\n",
        "\r\n"
      ],
      "execution_count": null,
      "outputs": [
        {
          "output_type": "display_data",
          "data": {
            "text/plain": [
              "20.304968116079348"
            ]
          },
          "metadata": {
            "tags": []
          }
        },
        {
          "output_type": "display_data",
          "data": {
            "text/plain": [
              "22.871879145965416"
            ]
          },
          "metadata": {
            "tags": []
          }
        },
        {
          "output_type": "stream",
          "text": [
            "\n",
            "\n"
          ],
          "name": "stdout"
        },
        {
          "output_type": "display_data",
          "data": {
            "text/plain": [
              "19.787062129051478"
            ]
          },
          "metadata": {
            "tags": []
          }
        },
        {
          "output_type": "display_data",
          "data": {
            "text/plain": [
              "22.206562177457517"
            ]
          },
          "metadata": {
            "tags": []
          }
        }
      ]
    },
    {
      "cell_type": "markdown",
      "metadata": {
        "id": "DdP9dL1s9bT_"
      },
      "source": [
        "Verificamos que a média e mediana do IMC são diferentes para as duas distribuições, mas em ambas o IMC está na faixa \"ideal\". Ou seja, embora metade da população dentre os alunos que estão insatisfeitos com o corpo ser de fato ligeiramente superior, eles estão tão saudáveis quanto aqueles que estão satisfeitos com o corpo.\r\n",
        "\r\n",
        "\r\n",
        "\r\n"
      ]
    },
    {
      "cell_type": "code",
      "metadata": {
        "colab": {
          "base_uri": "https://localhost:8080/",
          "height": 121
        },
        "id": "DX-m0Xrk--y3",
        "outputId": "e1a10ed5-4943-480b-d82a-a6926b4b6e1a"
      },
      "source": [
        "# EXTRA (1/3): ao se analisar a média e desvio padrão do IMC dentre os\r\n",
        "# \"muito satisfeitos\" e \"insatifeitos\" verificamos que são\r\n",
        "# muito próximos.\r\n",
        "\r\n",
        "display(dados.query(\"VB11007 == 1\")[\"IMC_numerico\"].mean())\r\n",
        "display(dados.query(\"VB11007 == 1\")[\"IMC_numerico\"].std())\r\n",
        "\r\n",
        "print('\\n')\r\n",
        "\r\n",
        "display(dados.query(\"VB11007 == 2\")[\"IMC_numerico\"].mean())\r\n",
        "display(dados.query(\"VB11007 == 2\")[\"IMC_numerico\"].std())\r\n",
        "\r\n"
      ],
      "execution_count": null,
      "outputs": [
        {
          "output_type": "display_data",
          "data": {
            "text/plain": [
              "19.855428597220666"
            ]
          },
          "metadata": {
            "tags": []
          }
        },
        {
          "output_type": "display_data",
          "data": {
            "text/plain": [
              "3.5731952080676557"
            ]
          },
          "metadata": {
            "tags": []
          }
        },
        {
          "output_type": "stream",
          "text": [
            "\n",
            "\n"
          ],
          "name": "stdout"
        },
        {
          "output_type": "display_data",
          "data": {
            "text/plain": [
              "20.604314662741427"
            ]
          },
          "metadata": {
            "tags": []
          }
        },
        {
          "output_type": "display_data",
          "data": {
            "text/plain": [
              "3.6948044581184964"
            ]
          },
          "metadata": {
            "tags": []
          }
        }
      ]
    },
    {
      "cell_type": "code",
      "metadata": {
        "colab": {
          "base_uri": "https://localhost:8080/",
          "height": 298
        },
        "id": "QQZwX7N-_xPv",
        "outputId": "3e2e4e3b-fa8c-4a68-9c73-57d8c4caa04c"
      },
      "source": [
        "# EXTRA (2/3): também temos essa impressão ao olhar a distribuição do gráfico.\r\n",
        "ax = sns.histplot(data = dados.query(\"VB11007 == 1 or VB11007 == 2\"), x = \"IMC_numerico\", kde = True, hue = \"VB11007\")"
      ],
      "execution_count": null,
      "outputs": [
        {
          "output_type": "display_data",
          "data": {
            "image/png": "[encoded data removed]",
            "text/plain": [
              "<Figure size 432x288 with 1 Axes>"
            ]
          },
          "metadata": {
            "tags": []
          }
        }
      ]
    },
    {
      "cell_type": "code",
      "metadata": {
        "colab": {
          "base_uri": "https://localhost:8080/"
        },
        "id": "a7opqjJsAHGz",
        "outputId": "f5a6d348-d19f-4d1c-a5a7-5a2236dd9ab0"
      },
      "source": [
        "# EXTRA (2/3): No entanto, ao calcular o P-VALOR para essas distribuições, ele\r\n",
        "# indica que a média é de fato DIFERENTE (segundo o Thiago, por ser menor de 0,05)\r\n",
        "# das duas uma: ou o zteste aponta realidades muito CONTRAINTUITIVAS ou estamos interpretando\r\n",
        "# muito mal o que tal teste faz. Por isso é essencial o estudo e aprofundamento dos\r\n",
        "# conceitos de estatística!\r\n",
        "\r\n",
        "distribuicao_muito_satisfeito = dados.query(\"VB11007 == 1\")[\"IMC_numerico\"]\r\n",
        "distribuicao_satisfeito = dados.query(\"VB11007 == 2\")[\"IMC_numerico\"]\r\n",
        "\r\n",
        "_ , pvalue = ztest(distribuicao_muito_satisfeito, distribuicao_satisfeito)\r\n",
        "pvalue"
      ],
      "execution_count": null,
      "outputs": [
        {
          "output_type": "execute_result",
          "data": {
            "text/plain": [
              "3.417643064694358e-27"
            ]
          },
          "metadata": {
            "tags": []
          },
          "execution_count": 94
        }
      ]
    },
    {
      "cell_type": "code",
      "metadata": {
        "colab": {
          "base_uri": "https://localhost:8080/"
        },
        "id": "ItrzodleSovS",
        "outputId": "952df8bc-7c91-45c7-b86d-1200920a1375"
      },
      "source": [
        "# na parte II desta aula foifalado sobre o ztest não ser uma boa pois as distribuições não são normal.\r\n",
        "# é mostrado um teste não paramétrico (que funciona para distribuições não normais); mas este teste \r\n",
        "# também rejeita a hipótese nula (p-valor muito pequeno) entre os muito satisfeitos e os satisfeitos.\r\n",
        "# inclusive, se repararmos, vimos que o p-valor do ranksums é até menor que o obtido via ztest\r\n",
        "# logo, fico sem entender, com a certeza que devo estudar bastante...\r\n",
        "\r\n",
        "from scipy.stats import ranksums\r\n",
        "\r\n",
        "_ , pvalue = ranksums(distribuicao_muito_satisfeito, distribuicao_satisfeito)\r\n",
        "pvalue"
      ],
      "execution_count": null,
      "outputs": [
        {
          "output_type": "execute_result",
          "data": {
            "text/plain": [
              "5.177427259482811e-33"
            ]
          },
          "metadata": {
            "tags": []
          },
          "execution_count": 95
        }
      ]
    },
    {
      "cell_type": "code",
      "metadata": {
        "colab": {
          "base_uri": "https://localhost:8080/"
        },
        "id": "q11XWbo0iCyY",
        "outputId": "36baf3d1-f0d9-4120-fc0e-9c17602badb5"
      },
      "source": [
        "print(len(distribuicao_muito_satisfeito))\r\n",
        "print(len(distribuicao_satisfeito))"
      ],
      "execution_count": null,
      "outputs": [
        {
          "output_type": "stream",
          "text": [
            "4608\n",
            "6920\n"
          ],
          "name": "stdout"
        }
      ]
    },
    {
      "cell_type": "code",
      "metadata": {
        "colab": {
          "base_uri": "https://localhost:8080/"
        },
        "id": "mqjdQ22xf_sw",
        "outputId": "213246bf-13c4-4d4e-e31c-ec22d5d0ae84"
      },
      "source": [
        "# algo que percebi é que o P-VALOR depende do tamanho da amostra!\r\n",
        "# então fica a pergunta: qual é o tamanho ideal da amostra para calcular o P-VALOR ?\r\n",
        "\r\n",
        "_ , pvalue = ranksums(distribuicao_muito_satisfeito.sample(n=10, random_state=10), distribuicao_satisfeito.sample(n=10, random_state=10))\r\n",
        "print(pvalue)\r\n",
        "\r\n",
        "_ , pvalue = ranksums(distribuicao_muito_satisfeito.sample(n=100, random_state=10), distribuicao_satisfeito.sample(n=100, random_state=10))\r\n",
        "print(pvalue)\r\n",
        "\r\n",
        "_ , pvalue = ranksums(distribuicao_muito_satisfeito.sample(n=1000, random_state=10), distribuicao_satisfeito.sample(n=1000, random_state=10))\r\n",
        "print(pvalue)\r\n",
        "\r\n",
        "_ , pvalue = ranksums(distribuicao_muito_satisfeito.sample(n=2000, random_state=10), distribuicao_satisfeito.sample(n=2000, random_state=10))\r\n",
        "print(pvalue)\r\n",
        "\r\n",
        "# tamanho próximo do número de registros da amostra\r\n",
        "_ , pvalue = ranksums(distribuicao_muito_satisfeito.sample(n=4500, random_state=10), distribuicao_satisfeito.sample(n=4500, random_state=10)) \r\n",
        "print(pvalue)\r\n",
        "\r\n",
        "# por enquanto ainda não foi mencionado sobre a influência do N no teste de hipóteses.\r\n",
        "# deveria ter sido mencionado, uma vez que ele falou da regra do p-valor (menor que 0.05, por exemplo) e também de algumas premissas adotadas para a execução do ztest.\r\n"
      ],
      "execution_count": null,
      "outputs": [
        {
          "output_type": "stream",
          "text": [
            "0.5453496680111236\n",
            "0.2704754150004076\n",
            "5.291949992156597e-09\n",
            "2.2942114095505263e-16\n",
            "1.5461581524542035e-26\n"
          ],
          "name": "stdout"
        }
      ]
    },
    {
      "cell_type": "markdown",
      "metadata": {
        "id": "WjxexJZnY9Va"
      },
      "source": [
        "## Desafio: Realizar os testes de hipóteses de outras colunas"
      ]
    },
    {
      "cell_type": "code",
      "metadata": {
        "colab": {
          "base_uri": "https://localhost:8080/"
        },
        "id": "bDnXHtOMDmR4",
        "outputId": "4c0b5b17-d439-4663-e2f4-225507a2c83e"
      },
      "source": [
        "dicionario(\"VB17003\")"
      ],
      "execution_count": null,
      "outputs": [
        {
          "output_type": "execute_result",
          "data": {
            "text/plain": [
              "{'VB17003': 'Peso do estudante, incluindo os imputados, com uma casa decimal ',\n",
              " 'alternativas': {}}"
            ]
          },
          "metadata": {
            "tags": []
          },
          "execution_count": 98
        }
      ]
    },
    {
      "cell_type": "code",
      "metadata": {
        "colab": {
          "base_uri": "https://localhost:8080/"
        },
        "id": "JU9HCJa0C1qg",
        "outputId": "39e5c26b-6cb1-41d8-fca7-cb7e275dfcb3"
      },
      "source": [
        "# distribuição da massa\r\n",
        "\r\n",
        "distribuicao_peso_m = dados.query(\"VB01001==1\")[\"VB17003\"]\r\n",
        "distribuicao_peso_f = dados.query(\"VB01001==2\")[\"VB17003\"]\r\n",
        "\r\n",
        "_ , p_value = ztest(distribuicao_peso_m, distribuicao_peso_f)\r\n",
        "p_value\r\n"
      ],
      "execution_count": null,
      "outputs": [
        {
          "output_type": "execute_result",
          "data": {
            "text/plain": [
              "7.903530638224804e-73"
            ]
          },
          "metadata": {
            "tags": []
          },
          "execution_count": 99
        }
      ]
    },
    {
      "cell_type": "markdown",
      "metadata": {
        "id": "NVX1u8BwDwxi"
      },
      "source": [
        "Novamente o P-VALOR foi rejeitado. Até agora não vimos nenhum exemplo de ZTEST onde as distribuições são consideradas iguais, exceto quando forçamos comparar uma distribuição com ela mesma.\r\n",
        "\r\n",
        "Já fizemos Ztest para a altura dos alunos (comparando H e M), IMC entre os satifeitos e insatisfeitos (incluindo os \"muitos\"), IMC entre os muito satisfeitos e muito insatisfeitos e agora a massa dos alunos (comparando H e M).\r\n",
        "\r\n",
        "E mais uma vez, parece que a distribuição é parecida. É necessário aprofundar nesses conceitos. Alguém  que não sabe o que está fazendo com estatística não pode concluir nada."
      ]
    },
    {
      "cell_type": "code",
      "metadata": {
        "colab": {
          "base_uri": "https://localhost:8080/",
          "height": 298
        },
        "id": "GzF6KQZODUS1",
        "outputId": "97a6a536-33bd-49f5-bcaa-d492d1489a2e"
      },
      "source": [
        "ax = sns.histplot(data = dados, x = \"VB17003\", kde = True, hue = \"VB01001\" )"
      ],
      "execution_count": null,
      "outputs": [
        {
          "output_type": "display_data",
          "data": {
            "image/png": "[encoded data removed]",
            "text/plain": [
              "<Figure size 432x288 with 1 Axes>"
            ]
          },
          "metadata": {
            "tags": []
          }
        }
      ]
    },
    {
      "cell_type": "code",
      "metadata": {
        "colab": {
          "base_uri": "https://localhost:8080/"
        },
        "id": "3rndZ5L5I7VY",
        "outputId": "996d9266-7628-4a6b-84a4-a99c2ca20267"
      },
      "source": [
        "# porém...\r\n",
        "# lembrando-se da premissa do ztest (n > 30 e distribuição normal) verificamos\r\n",
        "# que a distribuição dos que estão muito satisfeitos e dos que estão muito insatisfeito não é normal\r\n",
        "# então o ztest não é uma boa...\r\n",
        "\r\n",
        "_, p_value_normaltest_m = normaltest(distribuicao_muito_satisfeito)\r\n",
        "_, p_value_normaltest_f = normaltest(distribuicao_satisfeito)\r\n",
        "\r\n",
        "print(p_value_normaltest_m, p_value_normaltest_f)"
      ],
      "execution_count": null,
      "outputs": [
        {
          "output_type": "stream",
          "text": [
            "0.0 0.0\n"
          ],
          "name": "stdout"
        }
      ]
    },
    {
      "cell_type": "markdown",
      "metadata": {
        "id": "HqmV1DX1EvEi"
      },
      "source": [
        "# Aula 06 - Intervalo de Confiança e Testes (2/2) Parte II"
      ]
    },
    {
      "cell_type": "code",
      "metadata": {
        "id": "s1ixFnXcIadP",
        "colab": {
          "base_uri": "https://localhost:8080/"
        },
        "outputId": "d1738e18-c4ee-4378-b095-4124a318891c"
      },
      "source": [
        "# sendo o ztest inapropriado para as distribuições não normais, temos que aplicar os testes não-paramétricos.\r\n",
        "# um deles é o ranksums (https://docs.scipy.org/doc/scipy/reference/generated/scipy.stats.ranksums.html)\r\n",
        "\r\n",
        "from scipy.stats import ranksums\r\n",
        "\r\n",
        "ranksums(distribuicao_altura_m, distribuicao_altura_f)"
      ],
      "execution_count": null,
      "outputs": [
        {
          "output_type": "execute_result",
          "data": {
            "text/plain": [
              "RanksumsResult(statistic=40.7525576033863, pvalue=0.0)"
            ]
          },
          "metadata": {
            "tags": []
          },
          "execution_count": 102
        }
      ]
    },
    {
      "cell_type": "markdown",
      "metadata": {
        "id": "1NOEHOurLWlm"
      },
      "source": [
        "E olha só o que ele me retornou, ele me retornou um p_value = 0. E o que o pvalue = 0 está fazendo? O p_value é menor que 0.05. Se ele é menor que 0.05, eu rejeito a minha hipótese nula.\r\n",
        "\r\n",
        "Lembrando o seguinte, esse p_value = 0.05 que nós determinamos é que nós queremos um nível de confiança, aquilo que comentamos lá quanto estávamos falando de intervalo de confiança, igual a 95%. É por isso que estamos determinando esse p_value como 0.05. Se eu fosse utilizar um nível de confiança igual a 0.9 ou 90%, o meu pvalue passa a ser o 0.1 e assim sucessivamente.\r\n",
        "\r\n",
        "O que o ranksums() está falando para mim? Ele está falando para mim agora que a minha hipótese nula através do pvalue foi rejeitada. E qual é a hipótese nula do ranksums()? Diferente do nosso ztest(), que considerava a média das distribuições, porque ele olha isso como uma curva normal, o ranksums() não olha para isso como uma curva normal.\r\n",
        "\r\n",
        "Texto da documentação do ranksums:\r\n",
        "\"The Wilcoxon rank-sum test tests the null hypothesis that two sets of measurements are drawn from the same distribution. The alternative hypothesis is that values in one sample are more likely to be larger than the values in the other sample.\"\r\n",
        "\r\n",
        "O ranksums() aqui está verificando como hipótese nula se essas minhas duas distribuições são provenientes da mesma distribuição, ele não está comparando mais as médias, agora ele está olhando para a minha distribuição. E a partir disso eu consigo provar que elas vêm de distribuições diferentes, porque eu rejeitei a minha hipótese nula. Agora sim temos confiabilidade para falar que essas distribuições são estatisticamente diferentes"
      ]
    },
    {
      "cell_type": "markdown",
      "metadata": {
        "id": "J0iIuwRzO6IE"
      },
      "source": [
        "Tabelas do PENSE 2015\r\n",
        "https://www.ibge.gov.br/estatisticas/sociais/educacao/9134-pesquisa-nacional-de-saude-do-escolar.html?=&t=resultados"
      ]
    },
    {
      "cell_type": "markdown",
      "metadata": {
        "id": "CQCKgnzk8cL1"
      },
      "source": [
        "# Alura Mais: Média, Mediana e Moda"
      ]
    },
    {
      "cell_type": "code",
      "metadata": {
        "colab": {
          "base_uri": "https://localhost:8080/"
        },
        "id": "Q99Z90vq7eCK",
        "outputId": "4fc5eb0a-0489-498d-fe43-81deb48f47d9"
      },
      "source": [
        "# Média é tranquilo\r\n",
        "\r\n",
        "# Considerações sobre Mediana abaixo\r\n",
        "\r\n",
        "import statistics \r\n",
        "\r\n",
        "# primeiro ele ordena os elementos e depois:\r\n",
        "# se n for ímpar, pega o elemento (n+1)/2\r\n",
        "# se n for par, pega o elemento n/2 e soma com o elemento (n/2)+1 e divide por 2\r\n",
        "\r\n",
        "# para faciitar o entendimento, a lista já foi criada de maneira ordenada\r\n",
        "lista_n_par = [1,2,2,3,5,5]\r\n",
        "print(statistics.median(lista_n_par))\r\n",
        "\r\n",
        "lista_n_impar = [1,2,3,5,5]\r\n",
        "print(statistics.median(lista_n_impar))\r\n"
      ],
      "execution_count": null,
      "outputs": [
        {
          "output_type": "stream",
          "text": [
            "2.5\n",
            "3\n"
          ],
          "name": "stdout"
        }
      ]
    },
    {
      "cell_type": "code",
      "metadata": {
        "id": "_h_C2d6r7mko"
      },
      "source": [
        "# para encontrar a moda (considerando a realidade de ser multimodal) há alguma possibilidades, porém:\r\n",
        "\r\n",
        "##1##\r\n",
        "\r\n",
        "# print(statistics.mode(lista_n_par))\r\n",
        "\r\n",
        "\r\n",
        "# resulta em erro:\r\n",
        "# no unique mode; found 2 equally common values\r\n",
        "\r\n",
        "# se a lista apresentasse apenas uma moda, não teria erro\r\n",
        "\r\n"
      ],
      "execution_count": null,
      "outputs": []
    },
    {
      "cell_type": "code",
      "metadata": {
        "colab": {
          "base_uri": "https://localhost:8080/"
        },
        "id": "_9Ve-m0PA56v",
        "outputId": "7d7bbc25-4bbc-4692-8e9e-30ae22e26655"
      },
      "source": [
        "##2##\r\n",
        "from scipy import stats\r\n",
        "print(stats.mode(lista_n_par)[0])\r\n",
        "\r\n",
        "# captura apenas a o primeiro elemento do multimoda (ou seja, vou perder informação)"
      ],
      "execution_count": null,
      "outputs": [
        {
          "output_type": "stream",
          "text": [
            "[2]\n"
          ],
          "name": "stdout"
        }
      ]
    },
    {
      "cell_type": "code",
      "metadata": {
        "id": "eVvNs52UBuER"
      },
      "source": [
        "##3##\r\n",
        "\r\n",
        "# from statistics import multimode\r\n",
        "# multimode(lista_n_par)\r\n",
        "\r\n",
        "# resulta em erro pois está disponível apenas no python 3.8\r\n"
      ],
      "execution_count": null,
      "outputs": []
    },
    {
      "cell_type": "code",
      "metadata": {
        "colab": {
          "base_uri": "https://localhost:8080/"
        },
        "id": "YfidBDllCeGq",
        "outputId": "4dad4c23-b084-49ae-d799-d00a93792cf0"
      },
      "source": [
        "##4##\r\n",
        "\r\n",
        "from collections import Counter\r\n",
        "\r\n",
        "c = Counter([1,2,2,3,5,5])\r\n",
        "print(c.most_common())\r\n",
        "\r\n",
        "# cria uma lista de tuplas, com o par: \"(elemento, número de ocorrências)\", de maneira ordenada:\r\n",
        "\r\n",
        "# para imprimir apenas os 2 primeiros (que aparecem mais):\r\n",
        "print(c.most_common()[0:2])\r\n",
        "\r\n",
        "# ou simplesmente:\r\n",
        "print(c.most_common(2))"
      ],
      "execution_count": null,
      "outputs": [
        {
          "output_type": "stream",
          "text": [
            "[(2, 2), (5, 2), (1, 1), (3, 1)]\n",
            "[(2, 2), (5, 2)]\n",
            "[(2, 2), (5, 2)]\n"
          ],
          "name": "stdout"
        }
      ]
    },
    {
      "cell_type": "code",
      "metadata": {
        "id": "JvnpsbPAoU6J"
      },
      "source": [
        ""
      ],
      "execution_count": null,
      "outputs": []
    }
  ]
}